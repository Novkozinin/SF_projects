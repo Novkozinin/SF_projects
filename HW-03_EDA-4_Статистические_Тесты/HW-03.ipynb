{
 "cells": [
  {
   "attachments": {},
   "cell_type": "markdown",
   "metadata": {},
   "source": [
    "## <center><span style=color:green>EDA-4. СТАТИСТИЧЕСКИЕ ТЕСТЫ (HW-03)"
   ]
  },
  {
   "cell_type": "code",
   "execution_count": 316,
   "metadata": {},
   "outputs": [],
   "source": [
    "# Установка используемых библиотек\n",
    "import pandas as pd\n",
    "from scipy.stats import shapiro\n",
    "from scipy.stats import normaltest\n",
    "from scipy.stats import ttest_ind\n",
    "\n",
    "import seaborn as sns\n",
    "import matplotlib.pyplot as plt\n",
    "\n",
    "import warnings\n",
    "warnings.simplefilter('ignore') # отключение warnings"
   ]
  },
  {
   "attachments": {},
   "cell_type": "markdown",
   "metadata": {},
   "source": [
    "### <center>1. Объединение двух массивов в DataFrame"
   ]
  },
  {
   "cell_type": "code",
   "execution_count": 317,
   "metadata": {},
   "outputs": [
    {
     "data": {
      "text/html": [
       "<div>\n",
       "<style scoped>\n",
       "    .dataframe tbody tr th:only-of-type {\n",
       "        vertical-align: middle;\n",
       "    }\n",
       "\n",
       "    .dataframe tbody tr th {\n",
       "        vertical-align: top;\n",
       "    }\n",
       "\n",
       "    .dataframe thead th {\n",
       "        text-align: right;\n",
       "    }\n",
       "</style>\n",
       "<table border=\"1\" class=\"dataframe\">\n",
       "  <thead>\n",
       "    <tr style=\"text-align: right;\">\n",
       "      <th></th>\n",
       "      <th>petersburg</th>\n",
       "      <th>magadan</th>\n",
       "    </tr>\n",
       "  </thead>\n",
       "  <tbody>\n",
       "    <tr>\n",
       "      <th>0</th>\n",
       "      <td>0.0974</td>\n",
       "      <td>0.1033</td>\n",
       "    </tr>\n",
       "    <tr>\n",
       "      <th>1</th>\n",
       "      <td>0.1352</td>\n",
       "      <td>0.0915</td>\n",
       "    </tr>\n",
       "    <tr>\n",
       "      <th>2</th>\n",
       "      <td>0.0817</td>\n",
       "      <td>0.0781</td>\n",
       "    </tr>\n",
       "    <tr>\n",
       "      <th>3</th>\n",
       "      <td>0.1016</td>\n",
       "      <td>0.0685</td>\n",
       "    </tr>\n",
       "    <tr>\n",
       "      <th>4</th>\n",
       "      <td>0.0968</td>\n",
       "      <td>0.0677</td>\n",
       "    </tr>\n",
       "    <tr>\n",
       "      <th>5</th>\n",
       "      <td>0.1064</td>\n",
       "      <td>0.0697</td>\n",
       "    </tr>\n",
       "    <tr>\n",
       "      <th>6</th>\n",
       "      <td>0.1050</td>\n",
       "      <td>0.0764</td>\n",
       "    </tr>\n",
       "    <tr>\n",
       "      <th>7</th>\n",
       "      <td>NaN</td>\n",
       "      <td>0.0689</td>\n",
       "    </tr>\n",
       "  </tbody>\n",
       "</table>\n",
       "</div>"
      ],
      "text/plain": [
       "   petersburg  magadan\n",
       "0      0.0974   0.1033\n",
       "1      0.1352   0.0915\n",
       "2      0.0817   0.0781\n",
       "3      0.1016   0.0685\n",
       "4      0.0968   0.0677\n",
       "5      0.1064   0.0697\n",
       "6      0.1050   0.0764\n",
       "7         NaN   0.0689"
      ]
     },
     "execution_count": 317,
     "metadata": {},
     "output_type": "execute_result"
    }
   ],
   "source": [
    "petersburg = [0.0974, 0.1352, 0.0817, 0.1016, 0.0968, 0.1064, 0.105]\n",
    "magadan = [0.1033, 0.0915, 0.0781, 0.0685, 0.0677, 0.0697, 0.0764,\n",
    "           0.0689]\n",
    "df = pd.DataFrame({'petersburg': pd.Series(petersburg), \n",
    "                     'magadan': pd.Series(magadan)})\n",
    "df"
   ]
  },
  {
   "attachments": {},
   "cell_type": "markdown",
   "metadata": {},
   "source": [
    "Так как размеры выборок для разных городам не совпадают, то можно вставить вместо недостающего значения среднюю величину размера раковины."
   ]
  },
  {
   "cell_type": "code",
   "execution_count": 318,
   "metadata": {},
   "outputs": [
    {
     "data": {
      "text/html": [
       "<div>\n",
       "<style scoped>\n",
       "    .dataframe tbody tr th:only-of-type {\n",
       "        vertical-align: middle;\n",
       "    }\n",
       "\n",
       "    .dataframe tbody tr th {\n",
       "        vertical-align: top;\n",
       "    }\n",
       "\n",
       "    .dataframe thead th {\n",
       "        text-align: right;\n",
       "    }\n",
       "</style>\n",
       "<table border=\"1\" class=\"dataframe\">\n",
       "  <thead>\n",
       "    <tr style=\"text-align: right;\">\n",
       "      <th></th>\n",
       "      <th>petersburg</th>\n",
       "      <th>magadan</th>\n",
       "    </tr>\n",
       "  </thead>\n",
       "  <tbody>\n",
       "    <tr>\n",
       "      <th>0</th>\n",
       "      <td>0.0974</td>\n",
       "      <td>0.1033</td>\n",
       "    </tr>\n",
       "    <tr>\n",
       "      <th>1</th>\n",
       "      <td>0.1352</td>\n",
       "      <td>0.0915</td>\n",
       "    </tr>\n",
       "    <tr>\n",
       "      <th>2</th>\n",
       "      <td>0.0817</td>\n",
       "      <td>0.0781</td>\n",
       "    </tr>\n",
       "    <tr>\n",
       "      <th>3</th>\n",
       "      <td>0.1016</td>\n",
       "      <td>0.0685</td>\n",
       "    </tr>\n",
       "    <tr>\n",
       "      <th>4</th>\n",
       "      <td>0.0968</td>\n",
       "      <td>0.0677</td>\n",
       "    </tr>\n",
       "    <tr>\n",
       "      <th>5</th>\n",
       "      <td>0.1064</td>\n",
       "      <td>0.0697</td>\n",
       "    </tr>\n",
       "    <tr>\n",
       "      <th>6</th>\n",
       "      <td>0.1050</td>\n",
       "      <td>0.0764</td>\n",
       "    </tr>\n",
       "    <tr>\n",
       "      <th>7</th>\n",
       "      <td>0.1034</td>\n",
       "      <td>0.0689</td>\n",
       "    </tr>\n",
       "  </tbody>\n",
       "</table>\n",
       "</div>"
      ],
      "text/plain": [
       "   petersburg  magadan\n",
       "0      0.0974   0.1033\n",
       "1      0.1352   0.0915\n",
       "2      0.0817   0.0781\n",
       "3      0.1016   0.0685\n",
       "4      0.0968   0.0677\n",
       "5      0.1064   0.0697\n",
       "6      0.1050   0.0764\n",
       "7      0.1034   0.0689"
      ]
     },
     "execution_count": 318,
     "metadata": {},
     "output_type": "execute_result"
    }
   ],
   "source": [
    "#создаем словарь для замены пропуска\n",
    "# {имя столбца: средняя величина раковины}\n",
    "values = {'petersburg': round(df['petersburg'].mean(), 4)}\n",
    "\n",
    "#заполняем пропуск в соответствии с заявленным словарем\n",
    "df = df.fillna(values)\n",
    "df"
   ]
  },
  {
   "attachments": {},
   "cell_type": "markdown",
   "metadata": {},
   "source": [
    "### <center>2. Выбор теста на корреляцию\n",
    "\n",
    "Прежде чем выбрать тест на корреляцию сначала нужно понять, какому распределению эти данные следуют. Для количественной оценки того, выглядит ли выборка данных так, как если бы она была взята из **распределения Гаусса** используем два теста на нормальность: \n",
    "\n",
    "* тест Шапиро-Уилка\n",
    "* тест Д’Агостино"
   ]
  },
  {
   "cell_type": "code",
   "execution_count": 319,
   "metadata": {},
   "outputs": [],
   "source": [
    "H0 = 'Распределение нормально. Мы не можем отвергнуть нулевую гипотезу.'\n",
    "Ha = 'Распределение ненормально. Мы отвергаем нулевую гипотезу.'\n",
    "alpha = 0.05"
   ]
  },
  {
   "cell_type": "code",
   "execution_count": 320,
   "metadata": {},
   "outputs": [
    {
     "name": "stdout",
     "output_type": "stream",
     "text": [
      "p = 0.100\n",
      "0.1 > 0.05 Распределение нормально. Мы не можем отвергнуть нулевую гипотезу.\n"
     ]
    }
   ],
   "source": [
    "_, p = shapiro(df)\n",
    "print('p = %.3f' % p)\n",
    "\n",
    "# Интерпретация\n",
    "if p > alpha:\n",
    "\tprint(f\"{round(p, 3)} > {alpha} {H0}\")\n",
    "else:\n",
    "\tprint(f\"{round(p, 3)} <= {alpha} {Ha}\")"
   ]
  },
  {
   "cell_type": "code",
   "execution_count": 321,
   "metadata": {},
   "outputs": [
    {
     "name": "stdout",
     "output_type": "stream",
     "text": [
      "p = 0.042\n",
      "Распределение нормально. Мы не можем отвергнуть нулевую гипотезу.\n"
     ]
    }
   ],
   "source": [
    "_, p = normaltest(df)\n",
    "#normaltest возвращает двустороннюю вероятность для проверки гипотезы\n",
    "\n",
    "print('p = %.3f' % p[0])\n",
    "\n",
    "# Интерпретация \n",
    "if p[0] > alpha/2:\n",
    "\tprint(H0)\n",
    "else:\n",
    "\tprint(Ha)"
   ]
  },
  {
   "attachments": {},
   "cell_type": "markdown",
   "metadata": {},
   "source": [
    "Для количественных данных с нормальным распределением используются параметрические тесты (наиболее распространённые - **корреляционные** и **сравнительные**).\n",
    "\n",
    "**Корреляционные** тесты проверяют, связаны ли переменные, не выдвигая гипотезы о причинно-следственной связи. Наиболее распространённым является *параметрический тест на корреляцию Пирсона*."
   ]
  },
  {
   "cell_type": "code",
   "execution_count": 322,
   "metadata": {},
   "outputs": [
    {
     "name": "stdout",
     "output_type": "stream",
     "text": [
      "            petersburg  magadan\n",
      "petersburg       1.000    0.245\n",
      "magadan          0.245    1.000\n"
     ]
    }
   ],
   "source": [
    "cor = df.corr()\n",
    "print(round(cor, 3))"
   ]
  },
  {
   "cell_type": "code",
   "execution_count": 323,
   "metadata": {},
   "outputs": [
    {
     "data": {
      "text/plain": [
       "<AxesSubplot: xlabel='petersburg', ylabel='magadan'>"
      ]
     },
     "execution_count": 323,
     "metadata": {},
     "output_type": "execute_result"
    },
    {
     "data": {
      "image/png": "[encoded data removed]",
      "text/plain": [
       "<Figure size 640x480 with 1 Axes>"
      ]
     },
     "metadata": {},
     "output_type": "display_data"
    }
   ],
   "source": [
    "sns.scatterplot(data=df, x=\"petersburg\", y=\"magadan\")"
   ]
  },
  {
   "attachments": {},
   "cell_type": "markdown",
   "metadata": {},
   "source": [
    "Значение коэффициента корреляции 0.245 говорит нам об отсутствии связи или очень слабой связи между признаками в группах.\n",
    "\n",
    "Выбираем **сравнительный** тест:\n",
    "\n",
    "Данные распределены по нормальному закону: *да* -> **Параметрический тест** -> Тип зависимой переменной (размер раковины): *количественная* -> **Тест на сравнение выборки** -> Сколько групп сравнивается (peterburg и magadan): *2* -> Сколько объектов в выборке (8): *<30* -> ***Независимый Т-тест***\n",
    "\n",
    ">**Независимый T-тест** проверяет разницу между одной и той же переменной из разных совокупностей (petersburg и magadan)."
   ]
  },
  {
   "cell_type": "code",
   "execution_count": 324,
   "metadata": {},
   "outputs": [],
   "source": [
    "H0 = 'Нет значимой разницы между размером раковины в разных городах.'\n",
    "Ha = 'Есть значимая разница между размером раковины в разных городах.'"
   ]
  },
  {
   "cell_type": "code",
   "execution_count": 325,
   "metadata": {},
   "outputs": [
    {
     "name": "stdout",
     "output_type": "stream",
     "text": [
      "\n",
      "*** Результаты независимого T-теста ***\n",
      "0.003 <= 0.05. Мы отвергаем нулевую гипотезу. Есть значимая разница между размером раковины в разных городах.\n"
     ]
    }
   ],
   "source": [
    "def t_test(data):\n",
    "    print('\\n' + \"*** Результаты независимого T-теста ***\")\n",
    "    test_results = ttest_ind(df['petersburg'], data['magadan'], equal_var=True)\n",
    "\n",
    "    p = round(test_results[1], 3)\n",
    "\n",
    "    if p>alpha:\n",
    "        print(f\"{p} > {alpha}. Мы не можем отвергнуть нулевую гипотезу. {H0}\")\n",
    "    else:\n",
    "        print(f\"{p} <= {alpha}. Мы отвергаем нулевую гипотезу. {Ha}\")\n",
    "\n",
    "t_test(df)"
   ]
  },
  {
   "attachments": {},
   "cell_type": "markdown",
   "metadata": {},
   "source": [
    "Оцениваем разницу среднего размера раковины для представленных городов."
   ]
  },
  {
   "cell_type": "code",
   "execution_count": 326,
   "metadata": {},
   "outputs": [
    {
     "name": "stdout",
     "output_type": "stream",
     "text": [
      "Среднее значение размера раковины в petersburg составляет: 0.103\n",
      "Среднее значение размера раковины в petersburg составляет: 0.078\n",
      "Разница между средними величинами раковины составляет: 0.025\n"
     ]
    }
   ],
   "source": [
    "print(f'Среднее значение размера раковины в petersburg составляет: %.3f' %df.petersburg.mean())\n",
    "print(f'Среднее значение размера раковины в petersburg составляет: %.3f' %df.magadan.mean())\n",
    "print(f'Разница между средними величинами раковины составляет: %.3f' %(df.petersburg.mean() - df.magadan.mean()))"
   ]
  },
  {
   "cell_type": "code",
   "execution_count": 327,
   "metadata": {},
   "outputs": [
    {
     "data": {
      "text/plain": [
       "<matplotlib.legend.Legend at 0x1d3b78d6770>"
      ]
     },
     "execution_count": 327,
     "metadata": {},
     "output_type": "execute_result"
    },
    {
     "data": {
      "image/png": "[encoded data removed]",
      "text/plain": [
       "<Figure size 1000x400 with 1 Axes>"
      ]
     },
     "metadata": {},
     "output_type": "display_data"
    }
   ],
   "source": [
    "# оценим распределения размера раковины в разных городах визуально\n",
    "fig, (ax1) = plt.subplots(ncols=1, figsize=(10, 4))\n",
    "ax1.set_title('Распределения размеров раковин')\n",
    "\n",
    "sns.kdeplot(df['petersburg'], ax=ax1, label ='petersburg')\n",
    "sns.kdeplot(df['magadan'], ax=ax1, label ='magadan')\n",
    "plt.legend()"
   ]
  },
  {
   "attachments": {},
   "cell_type": "markdown",
   "metadata": {},
   "source": [
    "Подводим итог, из предоставленных данным мы собрали DataFrame, данные в нем распределены нормально.\n",
    "\n",
    "Был проведен независимый т-тест для проверки гипотезы, что нет заначимой разницы в размере раковины мидии в зависимости от города произодителя. Эту гипотезу удалось опровегнуть. \n",
    "\n",
    "Следовательно, делаем вывод, что есть значимая разница между размером раковины в разных городах на основании предоставленных данных."
   ]
  }
 ],
 "metadata": {
  "kernelspec": {
   "display_name": "Python 3",
   "language": "python",
   "name": "python3"
  },
  "language_info": {
   "codemirror_mode": {
    "name": "ipython",
    "version": 3
   },
   "file_extension": ".py",
   "mimetype": "text/x-python",
   "name": "python",
   "nbconvert_exporter": "python",
   "pygments_lexer": "ipython3",
   "version": "3.10.9"
  },
  "orig_nbformat": 4,
  "vscode": {
   "interpreter": {
    "hash": "b826e86f7a23ce94616280f10c2156a0cc53018215abff47993399e88c54b8ad"
   }
  }
 },
 "nbformat": 4,
 "nbformat_minor": 2
}
