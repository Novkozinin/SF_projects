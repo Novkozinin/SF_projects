{
 "cells": [
  {
   "attachments": {},
   "cell_type": "markdown",
   "metadata": {},
   "source": [
    "## **PROJECT-3. EDA + Feature Engineering. Соревнование на Kaggle**"
   ]
  },
  {
   "attachments": {},
   "cell_type": "markdown",
   "metadata": {},
   "source": [
    "## <center>**1. Введение**\n",
    "\n",
    "***\n",
    "✍ Вы прошли все необходимые модули разведывательного анализа данных — теперь пришло время переходить к настоящей практике! В этом проекте мы применим свои знания и навыки на реальной задаче. Готовы приступать?\n",
    "***\n",
    "\n",
    "**В РЕЗУЛЬТАТЕ РАБОТЫ НАД ДАННЫМ ПРОЕКТОМ ВЫ:**\n",
    "\n",
    "✔️ создадите свою первую модель, основанную на алгоритмах машинного обучения;\n",
    "\n",
    "✔️ примете участие в соревновании на *Kaggle*;\n",
    "\n",
    "✔️ поймёте, как правильно «подготовить» данные, чтобы ваша модель работала лучше.\n",
    "\n",
    "### <span style=color:green>**ЧЕМ МЫ БУДЕМ ЗАНИМАТЬСЯ?**\n",
    "\n",
    "В этом модуле вы попробуете решить свой первый настоящий кейс и создадите первую модель, использующую алгоритмы машинного обучения.\n",
    "\n",
    "<span style=background:grey;color:white>→ Не пугайтесь, вам не придётся изучать машинное обучение в экстремально короткие сроки! На самом деле код для создания и обучения модели мы вам предоставим в готовом виде, и этот код будет довольно простым. Всему этому более подробно вы научитесь позже, в модулях по машинному обучению. Пока ваша задача будет состоять в том, чтобы качественно подготовить данные для обучения модели.\n",
    "\n",
    "Скоро вы убедитесь не только в теории, но и на практике, что тщательная очистка данных, проектирование признаков и разведывательный анализ данных способны повысить точность модели в два и более раз, и владение этими навыками играет в машинном обучении не меньшую роль, чем умение выбрать алгоритм и настроить модель.\n",
    "\n",
    "Итак, вы создадите свою первую модель, а после этого используете свои навыки для участия в соревновании на платформе [Kaggle](https://www.kaggle.com/).\n",
    "\n",
    "### <span style=color:green>**КАКОЙ КЕЙС РЕШАЕМ?**\n",
    "\n",
    "Представьте, что вы работаете дата-сайентистом в компании Booking. Одна из проблем компании — это нечестные отели, которые накручивают себе рейтинг. Одним из способов обнаружения таких отелей является построение модели, которая предсказывает рейтинг отеля. Если предсказания модели сильно отличаются от фактического результата, то, возможно, отель ведёт себя нечестно, и его стоит проверить.\n",
    "\n",
    "## <center>**2. Разбираемся с данными**\n",
    "\n",
    "***\n",
    "✍ *В этом модуле мы будем работать с датасетом, в котором содержатся сведения о 515 000 отзывов на отели Европы. Модель, которую мы будем обучать, должна предсказывать рейтинг отеля по данным сайта Booking на основе имеющихся в датасете данных. Изученные навыки разведывательного анализа помогут нам улучшить модель.*\n",
    "***"
   ]
  },
  {
   "attachments": {},
   "cell_type": "markdown",
   "metadata": {},
   "source": [
    "Первоначальная версия датасета содержит 17 полей со следующей информацией:\n",
    "\n",
    "* *hotel_address* — адрес отеля;\n",
    "* *review_date* — дата, когда рецензент разместил соответствующий отзыв;\n",
    "* *average_score* — средний балл отеля, рассчитанный на основе последнего комментария за последний год;\n",
    "* *hotel_name* — название отеля;\n",
    "* *reviewer_nationality* — страна рецензента;\n",
    "* *negative_review* — отрицательный отзыв, который рецензент дал отелю;\n",
    "* *review_total_negative_word_counts* — общее количество слов в отрицательном отзыв;\n",
    "* *positive_review* — положительный отзыв, который рецензент дал отелю;\n",
    "* *review_total_positive_word_counts* — общее количество слов в положительном отзыве.\n",
    "* *reviewer_score* — оценка, которую рецензент поставил отелю на основе своего опыта;\n",
    "* *total_number_of_reviews_reviewer_has_given* — количество отзывов, которые рецензенты дали в прошлом;\n",
    "* *total_number_of_reviews* — общее количество действительных отзывов об отеле;\n",
    "* *tags* — теги, которые рецензент дал отелю;\n",
    "* *days_since_review* — количество дней между датой проверки и датой очистки;\n",
    "* *additional_number_of_scoring* — есть также некоторые гости, которые просто поставили оценку сервису, но не оставили отзыв. Это число указывает, сколько там действительных оценок без проверки.\n",
    "* *lat* — географическая широта отеля;\n",
    "* *lng* — географическая долгота отеля."
   ]
  },
  {
   "cell_type": "code",
   "execution_count": 4,
   "metadata": {},
   "outputs": [
    {
     "data": {
      "text/html": [
       "<div>\n",
       "<style scoped>\n",
       "    .dataframe tbody tr th:only-of-type {\n",
       "        vertical-align: middle;\n",
       "    }\n",
       "\n",
       "    .dataframe tbody tr th {\n",
       "        vertical-align: top;\n",
       "    }\n",
       "\n",
       "    .dataframe thead th {\n",
       "        text-align: right;\n",
       "    }\n",
       "</style>\n",
       "<table border=\"1\" class=\"dataframe\">\n",
       "  <thead>\n",
       "    <tr style=\"text-align: right;\">\n",
       "      <th></th>\n",
       "      <th>hotel_address</th>\n",
       "      <th>additional_number_of_scoring</th>\n",
       "      <th>review_date</th>\n",
       "      <th>average_score</th>\n",
       "      <th>hotel_name</th>\n",
       "      <th>reviewer_nationality</th>\n",
       "      <th>negative_review</th>\n",
       "      <th>review_total_negative_word_counts</th>\n",
       "      <th>total_number_of_reviews</th>\n",
       "      <th>positive_review</th>\n",
       "      <th>review_total_positive_word_counts</th>\n",
       "      <th>total_number_of_reviews_reviewer_has_given</th>\n",
       "      <th>reviewer_score</th>\n",
       "      <th>tags</th>\n",
       "      <th>days_since_review</th>\n",
       "      <th>lat</th>\n",
       "      <th>lng</th>\n",
       "    </tr>\n",
       "  </thead>\n",
       "  <tbody>\n",
       "    <tr>\n",
       "      <th>0</th>\n",
       "      <td>Stratton Street Mayfair Westminster Borough Lo...</td>\n",
       "      <td>581</td>\n",
       "      <td>2/19/2016</td>\n",
       "      <td>8.4</td>\n",
       "      <td>The May Fair Hotel</td>\n",
       "      <td>United Kingdom</td>\n",
       "      <td>Leaving</td>\n",
       "      <td>3</td>\n",
       "      <td>1994</td>\n",
       "      <td>Staff were amazing</td>\n",
       "      <td>4</td>\n",
       "      <td>7</td>\n",
       "      <td>10.0</td>\n",
       "      <td>[' Leisure trip ', ' Couple ', ' Studio Suite ...</td>\n",
       "      <td>531 day</td>\n",
       "      <td>51.507894</td>\n",
       "      <td>-0.143671</td>\n",
       "    </tr>\n",
       "    <tr>\n",
       "      <th>1</th>\n",
       "      <td>130 134 Southampton Row Camden London WC1B 5AF...</td>\n",
       "      <td>299</td>\n",
       "      <td>1/12/2017</td>\n",
       "      <td>8.3</td>\n",
       "      <td>Mercure London Bloomsbury Hotel</td>\n",
       "      <td>United Kingdom</td>\n",
       "      <td>poor breakfast</td>\n",
       "      <td>3</td>\n",
       "      <td>1361</td>\n",
       "      <td>location</td>\n",
       "      <td>2</td>\n",
       "      <td>14</td>\n",
       "      <td>6.3</td>\n",
       "      <td>[' Business trip ', ' Couple ', ' Standard Dou...</td>\n",
       "      <td>203 day</td>\n",
       "      <td>51.521009</td>\n",
       "      <td>-0.123097</td>\n",
       "    </tr>\n",
       "    <tr>\n",
       "      <th>2</th>\n",
       "      <td>151 bis Rue de Rennes 6th arr 75006 Paris France</td>\n",
       "      <td>32</td>\n",
       "      <td>10/18/2016</td>\n",
       "      <td>8.9</td>\n",
       "      <td>Legend Saint Germain by Elegancia</td>\n",
       "      <td>China</td>\n",
       "      <td>No kettle in room</td>\n",
       "      <td>6</td>\n",
       "      <td>406</td>\n",
       "      <td>No Positive</td>\n",
       "      <td>0</td>\n",
       "      <td>14</td>\n",
       "      <td>7.5</td>\n",
       "      <td>[' Leisure trip ', ' Solo traveler ', ' Modern...</td>\n",
       "      <td>289 day</td>\n",
       "      <td>48.845377</td>\n",
       "      <td>2.325643</td>\n",
       "    </tr>\n",
       "    <tr>\n",
       "      <th>3</th>\n",
       "      <td>216 Avenue Jean Jaures 19th arr 75019 Paris Fr...</td>\n",
       "      <td>34</td>\n",
       "      <td>9/22/2015</td>\n",
       "      <td>7.5</td>\n",
       "      <td>Mercure Paris 19 Philharmonie La Villette</td>\n",
       "      <td>United Kingdom</td>\n",
       "      <td>No Negative</td>\n",
       "      <td>0</td>\n",
       "      <td>607</td>\n",
       "      <td>Friendly staff quiet comfortable room spotles...</td>\n",
       "      <td>11</td>\n",
       "      <td>8</td>\n",
       "      <td>10.0</td>\n",
       "      <td>[' Leisure trip ', ' Solo traveler ', ' Standa...</td>\n",
       "      <td>681 day</td>\n",
       "      <td>48.888697</td>\n",
       "      <td>2.394540</td>\n",
       "    </tr>\n",
       "    <tr>\n",
       "      <th>4</th>\n",
       "      <td>Molenwerf 1 1014 AG Amsterdam Netherlands</td>\n",
       "      <td>914</td>\n",
       "      <td>3/5/2016</td>\n",
       "      <td>8.5</td>\n",
       "      <td>Golden Tulip Amsterdam West</td>\n",
       "      <td>Poland</td>\n",
       "      <td>Torn sheets</td>\n",
       "      <td>4</td>\n",
       "      <td>7586</td>\n",
       "      <td>The staff was very friendly and helpful Break...</td>\n",
       "      <td>20</td>\n",
       "      <td>10</td>\n",
       "      <td>9.6</td>\n",
       "      <td>[' Business trip ', ' Couple ', ' Standard Dou...</td>\n",
       "      <td>516 day</td>\n",
       "      <td>52.385601</td>\n",
       "      <td>4.847060</td>\n",
       "    </tr>\n",
       "  </tbody>\n",
       "</table>\n",
       "</div>"
      ],
      "text/plain": [
       "                                       hotel_address  \\\n",
       "0  Stratton Street Mayfair Westminster Borough Lo...   \n",
       "1  130 134 Southampton Row Camden London WC1B 5AF...   \n",
       "2   151 bis Rue de Rennes 6th arr 75006 Paris France   \n",
       "3  216 Avenue Jean Jaures 19th arr 75019 Paris Fr...   \n",
       "4          Molenwerf 1 1014 AG Amsterdam Netherlands   \n",
       "\n",
       "   additional_number_of_scoring review_date  average_score  \\\n",
       "0                           581   2/19/2016            8.4   \n",
       "1                           299   1/12/2017            8.3   \n",
       "2                            32  10/18/2016            8.9   \n",
       "3                            34   9/22/2015            7.5   \n",
       "4                           914    3/5/2016            8.5   \n",
       "\n",
       "                                  hotel_name reviewer_nationality  \\\n",
       "0                         The May Fair Hotel      United Kingdom    \n",
       "1            Mercure London Bloomsbury Hotel      United Kingdom    \n",
       "2          Legend Saint Germain by Elegancia               China    \n",
       "3  Mercure Paris 19 Philharmonie La Villette      United Kingdom    \n",
       "4                Golden Tulip Amsterdam West              Poland    \n",
       "\n",
       "       negative_review  review_total_negative_word_counts  \\\n",
       "0             Leaving                                   3   \n",
       "1       poor breakfast                                  3   \n",
       "2   No kettle in room                                   6   \n",
       "3          No Negative                                  0   \n",
       "4         Torn sheets                                   4   \n",
       "\n",
       "   total_number_of_reviews                                    positive_review  \\\n",
       "0                     1994                                 Staff were amazing   \n",
       "1                     1361                                           location   \n",
       "2                      406                                        No Positive   \n",
       "3                      607   Friendly staff quiet comfortable room spotles...   \n",
       "4                     7586   The staff was very friendly and helpful Break...   \n",
       "\n",
       "   review_total_positive_word_counts  \\\n",
       "0                                  4   \n",
       "1                                  2   \n",
       "2                                  0   \n",
       "3                                 11   \n",
       "4                                 20   \n",
       "\n",
       "   total_number_of_reviews_reviewer_has_given  reviewer_score  \\\n",
       "0                                           7            10.0   \n",
       "1                                          14             6.3   \n",
       "2                                          14             7.5   \n",
       "3                                           8            10.0   \n",
       "4                                          10             9.6   \n",
       "\n",
       "                                                tags days_since_review  \\\n",
       "0  [' Leisure trip ', ' Couple ', ' Studio Suite ...           531 day   \n",
       "1  [' Business trip ', ' Couple ', ' Standard Dou...           203 day   \n",
       "2  [' Leisure trip ', ' Solo traveler ', ' Modern...           289 day   \n",
       "3  [' Leisure trip ', ' Solo traveler ', ' Standa...           681 day   \n",
       "4  [' Business trip ', ' Couple ', ' Standard Dou...           516 day   \n",
       "\n",
       "         lat       lng  \n",
       "0  51.507894 -0.143671  \n",
       "1  51.521009 -0.123097  \n",
       "2  48.845377  2.325643  \n",
       "3  48.888697  2.394540  \n",
       "4  52.385601  4.847060  "
      ]
     },
     "execution_count": 4,
     "metadata": {},
     "output_type": "execute_result"
    }
   ],
   "source": [
    "import pandas as pd\n",
    "\n",
    "hotels = pd.read_csv('hotels.csv')\n",
    "hotels.head()"
   ]
  },
  {
   "cell_type": "code",
   "execution_count": 5,
   "metadata": {},
   "outputs": [
    {
     "name": "stdout",
     "output_type": "stream",
     "text": [
      "Cтолбцы, данные которых содержат пропущенные значения: \n",
      "lat    0.63288\n",
      "lng    0.63288\n",
      "dtype: float64\n"
     ]
    }
   ],
   "source": [
    "# В каких столбцах данные содержат пропущенные значения?\n",
    "hotels_cols_null_percent = hotels.isnull().mean() * 100\n",
    "hotels_cols_with_null = hotels_cols_null_percent[hotels_cols_null_percent > 0].sort_values(ascending=False)\n",
    "print(f\"Cтолбцы, данные которых содержат пропущенные значения: \\n{hotels_cols_with_null}\")"
   ]
  },
  {
   "cell_type": "code",
   "execution_count": 6,
   "metadata": {},
   "outputs": [
    {
     "name": "stdout",
     "output_type": "stream",
     "text": [
      "<class 'pandas.core.frame.DataFrame'>\n",
      "RangeIndex: 386803 entries, 0 to 386802\n",
      "Data columns (total 9 columns):\n",
      " #   Column                                      Non-Null Count   Dtype  \n",
      "---  ------                                      --------------   -----  \n",
      " 0   additional_number_of_scoring                386803 non-null  int64  \n",
      " 1   average_score                               386803 non-null  float64\n",
      " 2   review_total_negative_word_counts           386803 non-null  int64  \n",
      " 3   total_number_of_reviews                     386803 non-null  int64  \n",
      " 4   review_total_positive_word_counts           386803 non-null  int64  \n",
      " 5   total_number_of_reviews_reviewer_has_given  386803 non-null  int64  \n",
      " 6   reviewer_score                              386803 non-null  float64\n",
      " 7   lat                                         384355 non-null  float64\n",
      " 8   lng                                         384355 non-null  float64\n",
      "dtypes: float64(4), int64(5)\n",
      "memory usage: 26.6 MB\n"
     ]
    }
   ],
   "source": [
    "# В каких столбцах данные хранятся в числовом формате?\n",
    "# hotels.info()\n",
    "hotels.select_dtypes(['int64', 'float64']).info()"
   ]
  },
  {
   "cell_type": "code",
   "execution_count": 7,
   "metadata": {},
   "outputs": [
    {
     "name": "stdout",
     "output_type": "stream",
     "text": [
      "<class 'pandas.core.frame.DataFrame'>\n",
      "RangeIndex: 386803 entries, 0 to 386802\n",
      "Data columns (total 8 columns):\n",
      " #   Column                Non-Null Count   Dtype \n",
      "---  ------                --------------   ----- \n",
      " 0   hotel_address         386803 non-null  object\n",
      " 1   review_date           386803 non-null  object\n",
      " 2   hotel_name            386803 non-null  object\n",
      " 3   reviewer_nationality  386803 non-null  object\n",
      " 4   negative_review       386803 non-null  object\n",
      " 5   positive_review       386803 non-null  object\n",
      " 6   tags                  386803 non-null  object\n",
      " 7   days_since_review     386803 non-null  object\n",
      "dtypes: object(8)\n",
      "memory usage: 23.6+ MB\n"
     ]
    }
   ],
   "source": [
    "# В каких столбцах данные представляют собой строки?\n",
    "hotels.select_dtypes(['object']).info()\n",
    "# hotels.select_dtypes(['object']).head()"
   ]
  },
  {
   "cell_type": "code",
   "execution_count": 8,
   "metadata": {},
   "outputs": [
    {
     "data": {
      "text/plain": [
       "'5 Curzon St Westminster Borough London W1J 5HL United Kingdom'"
      ]
     },
     "execution_count": 8,
     "metadata": {},
     "output_type": "execute_result"
    }
   ],
   "source": [
    "hotels['hotel_address'][100]"
   ]
  },
  {
   "cell_type": "code",
   "execution_count": 9,
   "metadata": {},
   "outputs": [
    {
     "data": {
      "text/plain": [
       "array(['London United Kingdom', 'Paris France', 'Amsterdam Netherlands',\n",
       "       'Milan Italy', 'Vienna Austria', 'Barcelona Spain'], dtype=object)"
      ]
     },
     "execution_count": 9,
     "metadata": {},
     "output_type": "execute_result"
    }
   ],
   "source": [
    "# Созданим новые признак 'city' (city country) из информации об адресе отеля\n",
    "def get_city (address):\n",
    "    country = ' '.join(address.split(' ')[-2:])\n",
    "    if  country == \"United Kingdom\":\n",
    "        country = address.split(' ')[-5] + ' ' + country\n",
    "    return country\n",
    "\n",
    "hotels['city'] = hotels['hotel_address'].apply(get_city)\n",
    "hotels['city'].unique()\n",
    "#hotels.head()"
   ]
  },
  {
   "cell_type": "code",
   "execution_count": 10,
   "metadata": {},
   "outputs": [
    {
     "name": "stderr",
     "output_type": "stream",
     "text": [
      "C:\\Users\\igork\\AppData\\Local\\Temp\\ipykernel_14704\\1668217857.py:38: SettingWithCopyWarning: \n",
      "A value is trying to be set on a copy of a slice from a DataFrame\n",
      "\n",
      "See the caveats in the documentation: https://pandas.pydata.org/pandas-docs/stable/user_guide/indexing.html#returning-a-view-versus-a-copy\n",
      "  df['lat'].iloc[idx] = gps_dict[region][0]\n",
      "C:\\Users\\igork\\AppData\\Local\\Temp\\ipykernel_14704\\1668217857.py:39: SettingWithCopyWarning: \n",
      "A value is trying to be set on a copy of a slice from a DataFrame\n",
      "\n",
      "See the caveats in the documentation: https://pandas.pydata.org/pandas-docs/stable/user_guide/indexing.html#returning-a-view-versus-a-copy\n",
      "  df['lng'].iloc[idx] = gps_dict[region][1]\n"
     ]
    },
    {
     "name": "stdout",
     "output_type": "stream",
     "text": [
      "<class 'pandas.core.frame.DataFrame'>\n",
      "RangeIndex: 386803 entries, 0 to 386802\n",
      "Data columns (total 18 columns):\n",
      " #   Column                                      Non-Null Count   Dtype  \n",
      "---  ------                                      --------------   -----  \n",
      " 0   hotel_address                               386803 non-null  object \n",
      " 1   additional_number_of_scoring                386803 non-null  int64  \n",
      " 2   review_date                                 386803 non-null  object \n",
      " 3   average_score                               386803 non-null  float64\n",
      " 4   hotel_name                                  386803 non-null  object \n",
      " 5   reviewer_nationality                        386803 non-null  object \n",
      " 6   negative_review                             386803 non-null  object \n",
      " 7   review_total_negative_word_counts           386803 non-null  int64  \n",
      " 8   total_number_of_reviews                     386803 non-null  int64  \n",
      " 9   positive_review                             386803 non-null  object \n",
      " 10  review_total_positive_word_counts           386803 non-null  int64  \n",
      " 11  total_number_of_reviews_reviewer_has_given  386803 non-null  int64  \n",
      " 12  reviewer_score                              386803 non-null  float64\n",
      " 13  tags                                        386803 non-null  object \n",
      " 14  days_since_review                           386803 non-null  object \n",
      " 15  lat                                         386803 non-null  float64\n",
      " 16  lng                                         386803 non-null  float64\n",
      " 17  city                                        386803 non-null  object \n",
      "dtypes: float64(4), int64(5), object(9)\n",
      "memory usage: 53.1+ MB\n"
     ]
    }
   ],
   "source": [
    "# Создадим словарь вида {'city country': [latitude, longitude]}\n",
    "import numpy as np\n",
    "\n",
    "def get_gps(df):\n",
    "    # Create empty dictionary\n",
    "    coordinates_dict = dict()\n",
    "    \n",
    "    # Go along the rows by indexes\n",
    "    for idx, row in enumerate(df.index):\n",
    "        # Extract the city and the country\n",
    "        if not np.isnan(df['lat'].iloc[idx]) and not np.isnan(df['lng'].iloc[idx]):\n",
    "            region = df['city'].iloc[idx]\n",
    "            \n",
    "            # Get the latitude and longitude from the rows\n",
    "            coordinates = list([round(df['lat'].iloc[idx], 6), round(df['lng'].iloc[idx], 6)])\n",
    "            \n",
    "            if region not in coordinates_dict.keys():\n",
    "                coordinates_dict.update({region: coordinates})\n",
    "            \n",
    "    return coordinates_dict\n",
    "\n",
    "gps_dict = get_gps(hotels)\n",
    "\n",
    "# используем словарь и датасет с пропусками\n",
    "# проставляем отсутствующие координаты по признаку 'city' и координатам из словаря\n",
    "def set_gps(df, gps_dict):\n",
    "    # Go along the rows by indexes\n",
    "    for idx, row in enumerate(df.index):\n",
    "        # Get the latitude and longitude from the rows\n",
    "        lat = str(df['lat'].iloc[idx])\n",
    "        lng = str(df['lng'].iloc[idx])\n",
    "        \n",
    "        if lat in ['nan', 'NaN'] or lng in ['nan', 'NaN']:\n",
    "            region = df['city'].iloc[idx]\n",
    "            \n",
    "            if region in gps_dict.keys():\n",
    "                # Fill the coordinates\n",
    "                df['lat'].iloc[idx] = gps_dict[region][0]\n",
    "                df['lng'].iloc[idx] = gps_dict[region][1]\n",
    "    return df\n",
    "\n",
    "hotels = set_gps(hotels, gps_dict)\n",
    "hotels.head()\n",
    "hotels.info()"
   ]
  },
  {
   "cell_type": "code",
   "execution_count": 11,
   "metadata": {},
   "outputs": [
    {
     "name": "stdout",
     "output_type": "stream",
     "text": [
      "<class 'pandas.core.frame.DataFrame'>\n",
      "RangeIndex: 386803 entries, 0 to 386802\n",
      "Data columns (total 21 columns):\n",
      " #   Column                                      Non-Null Count   Dtype         \n",
      "---  ------                                      --------------   -----         \n",
      " 0   hotel_address                               386803 non-null  object        \n",
      " 1   additional_number_of_scoring                386803 non-null  int64         \n",
      " 2   review_date                                 386803 non-null  datetime64[ns]\n",
      " 3   average_score                               386803 non-null  float64       \n",
      " 4   hotel_name                                  386803 non-null  object        \n",
      " 5   reviewer_nationality                        386803 non-null  object        \n",
      " 6   negative_review                             386803 non-null  object        \n",
      " 7   review_total_negative_word_counts           386803 non-null  int64         \n",
      " 8   total_number_of_reviews                     386803 non-null  int64         \n",
      " 9   positive_review                             386803 non-null  object        \n",
      " 10  review_total_positive_word_counts           386803 non-null  int64         \n",
      " 11  total_number_of_reviews_reviewer_has_given  386803 non-null  int64         \n",
      " 12  reviewer_score                              386803 non-null  float64       \n",
      " 13  tags                                        386803 non-null  object        \n",
      " 14  days_since_review                           386803 non-null  int64         \n",
      " 15  lat                                         386803 non-null  float64       \n",
      " 16  lng                                         386803 non-null  float64       \n",
      " 17  city                                        386803 non-null  object        \n",
      " 18  review_quarter                              386803 non-null  int64         \n",
      " 19  review_month                                386803 non-null  int64         \n",
      " 20  is_day_off                                  386803 non-null  int64         \n",
      "dtypes: datetime64[ns](1), float64(4), int64(9), object(7)\n",
      "memory usage: 62.0+ MB\n"
     ]
    }
   ],
   "source": [
    "# cоздадим новые признаки: квартал, месяц и день недели даты отзыва. \n",
    "# На основе дня недели создадим флаг выходного дня 'is_day_off'. \n",
    "# Также преобразуем количество дней прошедших с момента отзыва в int.\n",
    "hotels['review_date'] = pd.to_datetime(hotels['review_date'])\n",
    "\n",
    "hotels['review_quarter'] = hotels['review_date'].dt.quarter\n",
    "hotels['review_month'] = hotels['review_date'].dt.month\n",
    "hotels['review_dayofweek'] = hotels['review_date'].dt.dayofweek\n",
    "\n",
    "hotels['is_day_off'] = hotels['review_dayofweek'].apply(lambda x: 1 if x > 5 else 0)\n",
    "hotels = hotels.drop(['review_dayofweek'], axis=1)\n",
    "\n",
    "hotels['days_since_review'] = hotels['days_since_review'].apply(lambda x: int(x.split(' ')[0]))\n",
    "\n",
    "hotels.info()"
   ]
  },
  {
   "attachments": {},
   "cell_type": "markdown",
   "metadata": {},
   "source": [
    "## <center>**3. Машинное обучение для самых маленьких**"
   ]
  },
  {
   "attachments": {},
   "cell_type": "markdown",
   "metadata": {},
   "source": [
    "***\n",
    "\n",
    "✍ Что нужно сделать в этом юните?\n",
    "\n",
    "**Создать свою первую модель, основанную на алгоритмах машинного обучения.**\n",
    "\n",
    "Код для создания модели мы предоставим, но чтобы модель заработала, в неё нужно передать правильные данные. **Приведение данных в нужный вид и будет вашей задачей в этом юните.**\n",
    "\n",
    "Однако прежде мы рассмотрим основные шаги, которые нужно проделать с данными от загрузки до получения результатов модели.\n",
    "***"
   ]
  },
  {
   "cell_type": "code",
   "execution_count": 12,
   "metadata": {},
   "outputs": [
    {
     "name": "stdout",
     "output_type": "stream",
     "text": [
      "['hotel_address', 'hotel_name', 'reviewer_nationality', 'negative_review', 'positive_review', 'tags', 'city']\n",
      "<class 'pandas.core.frame.DataFrame'>\n",
      "RangeIndex: 386803 entries, 0 to 386802\n",
      "Data columns (total 13 columns):\n",
      " #   Column                                      Non-Null Count   Dtype  \n",
      "---  ------                                      --------------   -----  \n",
      " 0   additional_number_of_scoring                386803 non-null  int64  \n",
      " 1   average_score                               386803 non-null  float64\n",
      " 2   review_total_negative_word_counts           386803 non-null  int64  \n",
      " 3   total_number_of_reviews                     386803 non-null  int64  \n",
      " 4   review_total_positive_word_counts           386803 non-null  int64  \n",
      " 5   total_number_of_reviews_reviewer_has_given  386803 non-null  int64  \n",
      " 6   reviewer_score                              386803 non-null  float64\n",
      " 7   days_since_review                           386803 non-null  int64  \n",
      " 8   lat                                         386803 non-null  float64\n",
      " 9   lng                                         386803 non-null  float64\n",
      " 10  review_quarter                              386803 non-null  int64  \n",
      " 11  review_month                                386803 non-null  int64  \n",
      " 12  is_day_off                                  386803 non-null  int64  \n",
      "dtypes: float64(4), int64(9)\n",
      "memory usage: 38.4 MB\n"
     ]
    }
   ],
   "source": [
    "# убираем признаки которые еще не успели обработать, \n",
    "# модель на признаках с dtypes \"object\" обучаться не будет, просто выберем их и удалим\n",
    "\n",
    "object_columns = list(hotels.select_dtypes(include = 'object').columns)\n",
    "\n",
    "print(object_columns)\n",
    "\n",
    "# убираем признаки object и dtype\n",
    "hotels.drop(object_columns, axis = 1, inplace=True)\n",
    "hotels.drop(['review_date'], axis = 1, inplace=True)\n",
    "\n",
    "# заполняем пропуски самым простым способом\n",
    "hotels = hotels.fillna(0)\n",
    "\n",
    "hotels.info()"
   ]
  },
  {
   "attachments": {},
   "cell_type": "markdown",
   "metadata": {},
   "source": [
    "1. **РАЗДЕЛЕНИЕ НАБОРА ДАННЫХ**\n",
    "\n",
    "![img](dst3-u2-pr3_3_1.png)\n",
    "\n",
    "Далее каждый из полученных наборов мы делим на **тренировочный** (*train*, используется для обучения модели) и **тестовый** (*test*, используется для оценки точности модели). Такое деление осуществляется с помощью специального метода *train_test_split()* библиотеки *sklearn*. В параметрах метода (параметр *test_size*) мы указываем, какую часть исходного датафрейма нужно оставить для тестирования модели. В нашем коде эта часть составляет 25 %, или 0.25.\n",
    "\n",
    "<span style=background:green;color:white>Не существует идеального соотношения обучающей и тестовой выборки, однако принято выделять на часть обучения больше данных, около ⅔, а оставшуюся часть используют для проверки — ⅓ выборки. Таким образом, самые популярные значения параметра *test_size* составляют 0.3, 0.25, 0.2."
   ]
  },
  {
   "cell_type": "code",
   "execution_count": 13,
   "metadata": {},
   "outputs": [],
   "source": [
    "# Разбиваем датафрейм на части, необходимые для обучения и тестирования модели  \n",
    "# Х — данные с информацией об отелях, у — целевая переменная (рейтинги отелей)  \n",
    "X = hotels.drop(['reviewer_score'], axis = 1)  \n",
    "y = hotels['reviewer_score']  \n",
    "      \n",
    "# Загружаем специальный инструмент для разбивки:  \n",
    "from sklearn.model_selection import train_test_split  \n",
    "      \n",
    "# Наборы данных с меткой \"train\" будут использоваться для обучения модели, \"test\" — для тестирования.  \n",
    "# Для тестирования мы будем использовать 25 % от исходного датасета.  \n",
    "X_train, X_test, y_train, y_test = train_test_split(X, y, test_size=0.25, random_state=42)"
   ]
  },
  {
   "attachments": {},
   "cell_type": "markdown",
   "metadata": {},
   "source": [
    "2. **СОЗДАНИЕ И ОБУЧЕНИЕ МОДЕЛИ**\n",
    "\n",
    "Сам процесс создания и тестирования модели занимает всего четыре строчки кода. В качестве алгоритма мы будем использовать популярный и довольно мощный алгоритм *RandomForestRegressor*. Он реализован в библиотеке **sklearn**."
   ]
  },
  {
   "cell_type": "code",
   "execution_count": 14,
   "metadata": {},
   "outputs": [],
   "source": [
    "# Импортируем необходимые библиотеки:  \n",
    "from sklearn.ensemble import RandomForestRegressor # инструмент для создания и обучения модели  \n",
    "from sklearn import metrics # инструменты для оценки точности модели  \n",
    "  \n",
    "# Создаём модель  \n",
    "regr = RandomForestRegressor(n_estimators=100)  \n",
    "      \n",
    "# Обучаем модель на тестовом наборе данных  \n",
    "regr.fit(X_train, y_train)  \n",
    "      \n",
    "# Используем обученную модель для предсказания рейтинга отелей в тестовой выборке.  \n",
    "# Предсказанные значения записываем в переменную y_pred  \n",
    "y_pred = regr.predict(X_test)  "
   ]
  },
  {
   "attachments": {},
   "cell_type": "markdown",
   "metadata": {},
   "source": [
    "3. **ОЦЕНКА КАЧЕСТВА МОДЕЛИ**\n",
    "\n",
    "Для оценки качества модели — точности прогнозов, сделанных моделью, — мы будем использовать метрику (некий числовой показатель), которая называется **MAPE (mean absolute percentage error)**, средняя абсолютная процентная ошибка. Эту метрику очень легко интерпретировать. Если у вас *MAPE* = 11.4 %, то это говорит о том, что ошибка составила 11.4 % от фактических значений.\n",
    "\n",
    "$MAPE = 100 \\%$ $* \\: 1/n\\sum^{n}_{i=1} \\frac{|ytrue_{i} - ypred_{i}|}{|ytrue_{i}|}$\n",
    "\n",
    "где $ytrue_{i}$ — фактические значения прогноза, a $ypred_{i}$ — предсказанные.\n",
    "\n",
    "Для расчета MAPE сравним предсказанные нашей моделью значения с реальными и посмотрим на значение ошибки."
   ]
  },
  {
   "cell_type": "code",
   "execution_count": 15,
   "metadata": {},
   "outputs": [
    {
     "name": "stdout",
     "output_type": "stream",
     "text": [
      "MAPE: 0.13761105528748105\n"
     ]
    }
   ],
   "source": [
    "# Сравниваем предсказанные значения (y_pred) с реальными (y_test), и смотрим насколько они отличаются  \n",
    "# Метрика называется Mean Absolute Percentage Error (MAPE) и показывает среднюю абсолютную процентную ошибку предсказанных значений от фактических.  \n",
    "print('MAPE:', metrics.mean_absolute_percentage_error(y_test, y_pred))"
   ]
  },
  {
   "attachments": {},
   "cell_type": "markdown",
   "metadata": {},
   "source": [
    "Итак, мы выяснили, что для корректной работы все данные в датафрейме, который вы будете использовать при обучении модели, должны быть в числовых форматах *int* или *float*. \n",
    "\n",
    "<span style=background:red;color:white>Есть ещё одно ограничение: в столбцах не должно быть пропущенных значений. Вместо каждого пропущенного значения вам нужно будет вычислить и поместить в ячейку максимально близкое к реальности значение.\n",
    "\n",
    "*→ Таким образом, чтобы код, отвечающий за обучение модели, заработал, мы должны использовать в нём датафрейм, содержащий только количественные признаки и не содержащий пропущенных значений.*\n",
    "\n",
    "На первом этапе для создания такого датафрейма давайте просто удалим столбцы, содержащие данные типов *object* и *string* и заполним пропущенные значения каким-то одним значением (*unknown*, *нулём* или *средним арифметическим*) для всего столбца.\n",
    "\n",
    "Для выполнения этих операций вам понадобятся следующие методы библиотеки Pandas:\n",
    "\n",
    "* *[drop](https://pandas.pydata.org/docs/reference/api/pandas.DataFrame.drop.html)* — метод для удаления ненужных строк и столбцов (**обратите внимание**, что в материалах данного модуля этот метод разрешается использовать только для удаления столбцов);\n",
    "* *[fillna](https://pandas.pydata.org/docs/reference/api/pandas.DataFrame.fillna.html)* — метод для заполнения пропущенных значений в столбце или во всём датафрейме.\n",
    "\n",
    "После выполнения всех преобразований попробуйте заново запустить код уже с очищенными данными."
   ]
  },
  {
   "attachments": {},
   "cell_type": "markdown",
   "metadata": {},
   "source": [
    "## <center>**4. Лучший способ добиться успеха — следовать советам**\n",
    "\n",
    "***\n",
    "✍ Что делать дальше?\n",
    "\n",
    "**Повысить точность прогнозов, которые делает модель, с помощью более тщательной подготовки данных.**\n",
    "\n",
    "При подготовке датасета необходимо будет вспомнить все шаги, которые мы проделывали в модулях *EDA*. Нам нужно будет не только избавиться от пропущенных значений и нечисловых признаков, но и спроектировать новые признаки на основе информации, уже содержащейся в данных, или используя внешние источники данных, если это возможно. Также мы закодируем и преобразуем признаки, а после отберём лучшие из них.\n",
    "***\n",
    "\n",
    "Задачу, которая стоит перед вами, можно свести к пяти пунктам:\n",
    "\n",
    "* **Удаление строковых значений.** Вам необходимо удалить из набора данных столбцы, данные в которых представлены не числами.\n",
    "* **Очистка от пропущенных значений.** На предыдущем шаге мы делали это самым грубым из всех возможных способов, сейчас попробуйте подойти к процессу более гибко.\n",
    "* **Создание новых признаков.** Мы попробуем создать новые столбцы с данными из существующих данных или с использованием внешних источников.\n",
    "* **Преобразование признаков.** Применим различные преобразования над признаками вроде нормализации, стандартизации.\n",
    "* **Отбор признаков.** Используем анализ мультиколлинеарности как шаг отбора признаков для модели.\n",
    "\n",
    "\n",
    "**Ваша задача** — при помощи этих шагов и рекомендаций повысить качество предсказания. Чтобы понять, что качество улучшилось, ориентируйтесь на метрику MAPE: чем она меньше, тем лучше. Рассмотрим шаги подробнее.\n",
    "\n",
    "**СТРОКОВЫЕ ДАННЫЕ**\n",
    "\n",
    "В исходном наборе данных всего девять столбцов содержат числовые данные. Так что просто удалить все *object*-значения и считать задачу выполненной не получится. Мы сделали это в прошлом юните, чтобы получить значение метрики. Но чтобы улучшить качество модели, вам перед удалением придётся очень основательно поработать со строковыми данными и извлечь из них как можно больше информации, которую можно представить в числовом виде.\n",
    "\n",
    "**ПРОПУЩЕННЫЕ ЗНАЧЕНИЯ**\n",
    "\n",
    "Мы уже говорили о том, что в задачах по машинному обучению принято не удалять строки с пустыми значениями, а заполнять их максимально близкими к реальности данными. Используйте знания из модулей очистки данных или вспомните о мере центральной тенденции в юнитах статистики. Попробуйте различные способы и ориентируйтесь на итоговую метрику.\n",
    "\n",
    "**НОВЫЕ ПРИЗНАКИ**\n",
    "\n",
    "Это, пожалуй, самая творческая часть работы на данном шаге. Создание новых признаков потребует от вас способности вникать в контент, умения подключать к работе интуицию, творческого подхода и готовности к экспериментам. Попробуйте извлечь несколько признаков из даты, проанализируйте датасет на возможность добавления внешних источников данных. При наличии времени разберите текстовые столбцы на признаки.\n",
    "\n",
    "**ПРЕОБРАЗОВАНИЕ ПРИЗНАКОВ**\n",
    "\n",
    "Данные могут быть представлены в невыгодном для модели свете. Используйте изученные вами способы преобразования данных, чтобы сделать данные качественнее.\n",
    "\n",
    "**ОТБОР ПРИЗНАКОВ**\n",
    "\n",
    "Признаки могут дублировать информацию. **Анализ мультиколлинеарности** мы будем использовать, чтобы выбрать уникальные признаки для модели.\n",
    "\n",
    "Также перед обучением (после разделения выборки на *X* и *y*) мы можем оценить значимость каждого признака для целевой переменной — рейтинг отеля. При помощи теста мы сможем узнать, как географическая долгота отеля и количество негативных отзывов влияют на его рейтинг.\n",
    "\n",
    "***\n",
    "Для оценки значимости категориальных признаков будем использовать тест **хи-квадрат**, для непрерывных признаков — тест **ANOVA**.\n",
    "***\n",
    "\n",
    "Для начала разделим признаки по типу, перечислим их:"
   ]
  },
  {
   "cell_type": "code",
   "execution_count": 16,
   "metadata": {},
   "outputs": [
    {
     "data": {
      "text/html": [
       "<div>\n",
       "<style scoped>\n",
       "    .dataframe tbody tr th:only-of-type {\n",
       "        vertical-align: middle;\n",
       "    }\n",
       "\n",
       "    .dataframe tbody tr th {\n",
       "        vertical-align: top;\n",
       "    }\n",
       "\n",
       "    .dataframe thead th {\n",
       "        text-align: right;\n",
       "    }\n",
       "</style>\n",
       "<table border=\"1\" class=\"dataframe\">\n",
       "  <thead>\n",
       "    <tr style=\"text-align: right;\">\n",
       "      <th></th>\n",
       "      <th>additional_number_of_scoring</th>\n",
       "      <th>average_score</th>\n",
       "      <th>review_total_negative_word_counts</th>\n",
       "      <th>total_number_of_reviews</th>\n",
       "      <th>review_total_positive_word_counts</th>\n",
       "      <th>total_number_of_reviews_reviewer_has_given</th>\n",
       "      <th>reviewer_score</th>\n",
       "      <th>days_since_review</th>\n",
       "      <th>lat</th>\n",
       "      <th>lng</th>\n",
       "      <th>review_quarter</th>\n",
       "      <th>review_month</th>\n",
       "      <th>is_day_off</th>\n",
       "    </tr>\n",
       "  </thead>\n",
       "  <tbody>\n",
       "    <tr>\n",
       "      <th>0</th>\n",
       "      <td>581</td>\n",
       "      <td>8.4</td>\n",
       "      <td>3</td>\n",
       "      <td>1994</td>\n",
       "      <td>4</td>\n",
       "      <td>7</td>\n",
       "      <td>10.0</td>\n",
       "      <td>531</td>\n",
       "      <td>51.507894</td>\n",
       "      <td>-0.143671</td>\n",
       "      <td>1</td>\n",
       "      <td>2</td>\n",
       "      <td>0</td>\n",
       "    </tr>\n",
       "    <tr>\n",
       "      <th>1</th>\n",
       "      <td>299</td>\n",
       "      <td>8.3</td>\n",
       "      <td>3</td>\n",
       "      <td>1361</td>\n",
       "      <td>2</td>\n",
       "      <td>14</td>\n",
       "      <td>6.3</td>\n",
       "      <td>203</td>\n",
       "      <td>51.521009</td>\n",
       "      <td>-0.123097</td>\n",
       "      <td>1</td>\n",
       "      <td>1</td>\n",
       "      <td>0</td>\n",
       "    </tr>\n",
       "    <tr>\n",
       "      <th>2</th>\n",
       "      <td>32</td>\n",
       "      <td>8.9</td>\n",
       "      <td>6</td>\n",
       "      <td>406</td>\n",
       "      <td>0</td>\n",
       "      <td>14</td>\n",
       "      <td>7.5</td>\n",
       "      <td>289</td>\n",
       "      <td>48.845377</td>\n",
       "      <td>2.325643</td>\n",
       "      <td>4</td>\n",
       "      <td>10</td>\n",
       "      <td>0</td>\n",
       "    </tr>\n",
       "    <tr>\n",
       "      <th>3</th>\n",
       "      <td>34</td>\n",
       "      <td>7.5</td>\n",
       "      <td>0</td>\n",
       "      <td>607</td>\n",
       "      <td>11</td>\n",
       "      <td>8</td>\n",
       "      <td>10.0</td>\n",
       "      <td>681</td>\n",
       "      <td>48.888697</td>\n",
       "      <td>2.394540</td>\n",
       "      <td>3</td>\n",
       "      <td>9</td>\n",
       "      <td>0</td>\n",
       "    </tr>\n",
       "    <tr>\n",
       "      <th>4</th>\n",
       "      <td>914</td>\n",
       "      <td>8.5</td>\n",
       "      <td>4</td>\n",
       "      <td>7586</td>\n",
       "      <td>20</td>\n",
       "      <td>10</td>\n",
       "      <td>9.6</td>\n",
       "      <td>516</td>\n",
       "      <td>52.385601</td>\n",
       "      <td>4.847060</td>\n",
       "      <td>1</td>\n",
       "      <td>3</td>\n",
       "      <td>0</td>\n",
       "    </tr>\n",
       "  </tbody>\n",
       "</table>\n",
       "</div>"
      ],
      "text/plain": [
       "   additional_number_of_scoring  average_score  \\\n",
       "0                           581            8.4   \n",
       "1                           299            8.3   \n",
       "2                            32            8.9   \n",
       "3                            34            7.5   \n",
       "4                           914            8.5   \n",
       "\n",
       "   review_total_negative_word_counts  total_number_of_reviews  \\\n",
       "0                                  3                     1994   \n",
       "1                                  3                     1361   \n",
       "2                                  6                      406   \n",
       "3                                  0                      607   \n",
       "4                                  4                     7586   \n",
       "\n",
       "   review_total_positive_word_counts  \\\n",
       "0                                  4   \n",
       "1                                  2   \n",
       "2                                  0   \n",
       "3                                 11   \n",
       "4                                 20   \n",
       "\n",
       "   total_number_of_reviews_reviewer_has_given  reviewer_score  \\\n",
       "0                                           7            10.0   \n",
       "1                                          14             6.3   \n",
       "2                                          14             7.5   \n",
       "3                                           8            10.0   \n",
       "4                                          10             9.6   \n",
       "\n",
       "   days_since_review        lat       lng  review_quarter  review_month  \\\n",
       "0                531  51.507894 -0.143671               1             2   \n",
       "1                203  51.521009 -0.123097               1             1   \n",
       "2                289  48.845377  2.325643               4            10   \n",
       "3                681  48.888697  2.394540               3             9   \n",
       "4                516  52.385601  4.847060               1             3   \n",
       "\n",
       "   is_day_off  \n",
       "0           0  \n",
       "1           0  \n",
       "2           0  \n",
       "3           0  \n",
       "4           0  "
      ]
     },
     "execution_count": 16,
     "metadata": {},
     "output_type": "execute_result"
    }
   ],
   "source": [
    "hotels.head()"
   ]
  },
  {
   "cell_type": "code",
   "execution_count": 31,
   "metadata": {},
   "outputs": [],
   "source": [
    "# непрерывные признаки\n",
    "num_cols = [\n",
    "    'total_number_of_reviews', \n",
    "    'review_total_negative_word_counts',\n",
    "    'review_total_positive_word_counts',\n",
    "    'total_number_of_reviews_reviewer_has_given',\n",
    "    'days_since_review',\n",
    "    'additional_number_of_scoring', \n",
    "    ]\n",
    "\n",
    "# категориальные признаки\n",
    "cat_cols = [ \n",
    "    'average_score',\n",
    "    'lat',\n",
    "    'review_quarter',\n",
    "    'review_month',\n",
    "    'is_day_off'\n",
    "    ]"
   ]
  },
  {
   "attachments": {},
   "cell_type": "markdown",
   "metadata": {},
   "source": [
    "Для оценки значимости категориальных переменных будем использовать изученный нами непараметрический тест хи-квадрат, реализованный в библиотеке [sklearn.feature_selection.chi2](https://scikit-learn.org/stable/modules/generated/sklearn.feature_selection.chi2.html#sklearn.feature_selection.chi2). Метод возвращает массив значений хи-квадрат и *p-value* для каждого признака. Используем только значения хи-квадрат и выведем их на графике:"
   ]
  },
  {
   "cell_type": "code",
   "execution_count": 32,
   "metadata": {},
   "outputs": [
    {
     "data": {
      "text/plain": [
       "<AxesSubplot: >"
      ]
     },
     "execution_count": 32,
     "metadata": {},
     "output_type": "execute_result"
    },
    {
     "data": {
      "image/png": "[encoded data removed]",
      "text/plain": [
       "<Figure size 640x480 with 1 Axes>"
      ]
     },
     "metadata": {},
     "output_type": "display_data"
    }
   ],
   "source": [
    "y= y.astype('int')\n",
    "\n",
    "...\n",
    "from sklearn.feature_selection import chi2 # хи-квадрат\n",
    "\n",
    "imp_cat = pd.Series(chi2(X[cat_cols], y)[0], index=cat_cols)\n",
    "imp_cat.sort_values(inplace = True)\n",
    "imp_cat.plot(kind = 'barh')"
   ]
  },
  {
   "attachments": {},
   "cell_type": "markdown",
   "metadata": {},
   "source": [
    "По графику важности категориальных признаков мы можем понять, что признак *average_score* важнее, чем *lat*, в определении рейтинга отеля\n",
    "\n",
    "Добавьте и другие категориальные признаки в список *cat_cols*, чтобы оценить их значимость в определении рейтинга отеля.\n",
    "\n",
    "Для оценки значимости непрерывных переменных будем использовать функцию *[f_classif](https://scikit-learn.org/stable/modules/generated/sklearn.feature_selection.f_classif.html#sklearn.feature_selection.f_classif)* из библиотеки *sklearn*. В основе метода оценки значимости переменных лежит изученный вами в юнитах по статистике анализ (*ANOVA*). Основу процедуры составляет обобщение результатов двух выборочных t-тестов для независимых выборок (*2-sample t*).\n",
    "\n",
    "Метод возвращает двумерный массив f-статистик и *p-value* для каждого признака. В качестве меры значимости мы будем использовать значение f-статистики. Чем значение статистики выше, тем меньше вероятность того, что средние значения не отличаются, и тем важнее данный признак для нашей модели."
   ]
  },
  {
   "cell_type": "code",
   "execution_count": 33,
   "metadata": {},
   "outputs": [
    {
     "data": {
      "text/plain": [
       "<AxesSubplot: >"
      ]
     },
     "execution_count": 33,
     "metadata": {},
     "output_type": "execute_result"
    },
    {
     "data": {
      "image/png": "[encoded data removed]",
      "text/plain": [
       "<Figure size 640x480 with 1 Axes>"
      ]
     },
     "metadata": {},
     "output_type": "display_data"
    }
   ],
   "source": [
    "from sklearn.feature_selection import f_classif # anova\n",
    "\n",
    "imp_num = pd.Series(f_classif(X[num_cols], y)[0], index = num_cols)\n",
    "imp_num.sort_values(inplace = True)\n",
    "imp_num.plot(kind = 'barh')"
   ]
  },
  {
   "attachments": {},
   "cell_type": "markdown",
   "metadata": {},
   "source": [
    "По  графику важности категориальных переменных мы можем понять, что признак review_total_negative_word_counts важнее, чем total_number_of_reviews, в определении рейтинга отеля\n",
    "\n",
    "Результаты данных тестов вы сможете использовать в своих исследования при отборе признаков: удаляйте менее значимые признаки и сравнивайте результаты качества полученных моделей.\n",
    "\n",
    "***\n",
    "→ Тесты *chi2* и *f_classif* можно использовать для выбора *n* заданных признаков с наивысшими значениями статистик с помощью метода **SelectKBest**. Подробнее об этом вы можете прочесть в руководстве [Feature selection](https://scikit-learn.org/stable/modules/feature_selection.html#univariate-feature-selection).\n",
    "***\n"
   ]
  },
  {
   "attachments": {},
   "cell_type": "markdown",
   "metadata": {},
   "source": [
    "Попробуйте применить данные  рекомендации для улучшения качества предсказания. **Оцените, насколько изменилась метрика**."
   ]
  },
  {
   "cell_type": "code",
   "execution_count": null,
   "metadata": {},
   "outputs": [
    {
     "ename": "NameError",
     "evalue": "name 'hotels_hw' is not defined",
     "output_type": "error",
     "traceback": [
      "\u001b[1;31m---------------------------------------------------------------------------\u001b[0m",
      "\u001b[1;31mNameError\u001b[0m                                 Traceback (most recent call last)",
      "Cell \u001b[1;32mIn[126], line 2\u001b[0m\n\u001b[0;32m      1\u001b[0m \u001b[39m# Сколько уникальных названий отелей представлено в наборе данных?\u001b[39;00m\n\u001b[1;32m----> 2\u001b[0m hotels_hw[\u001b[39m'\u001b[39m\u001b[39mhotel_name\u001b[39m\u001b[39m'\u001b[39m]\u001b[39m.\u001b[39mnunique()\n\u001b[0;32m      3\u001b[0m \u001b[39mprint\u001b[39m(\u001b[39m'\u001b[39m\u001b[39mКол-во уникальных названий отелей в наборе данных: \u001b[39m\u001b[39m'\u001b[39m, hotels_hw[\u001b[39m'\u001b[39m\u001b[39mhotel_name\u001b[39m\u001b[39m'\u001b[39m]\u001b[39m.\u001b[39mnunique())\n",
      "\u001b[1;31mNameError\u001b[0m: name 'hotels_hw' is not defined"
     ]
    }
   ],
   "source": [
    "# Сколько уникальных названий отелей представлено в наборе данных?\n",
    "hotels_hw['hotel_name'].nunique()\n",
    "print('Кол-во уникальных названий отелей в наборе данных: ', hotels_hw['hotel_name'].nunique())"
   ]
  },
  {
   "cell_type": "code",
   "execution_count": null,
   "metadata": {},
   "outputs": [
    {
     "name": "stdout",
     "output_type": "stream",
     "text": [
      "Когда был оставлен самый свежий отзыв:  2017-08-03 00:00:00\n",
      "Когда был оставлен самый первый отзыв:  2015-08-04 00:00:00\n"
     ]
    }
   ],
   "source": [
    "hotels_hw['review_date'] = pd.to_datetime(hotels_hw['review_date'])\n",
    "\n",
    "hotels_hw['review_date'].min()\n",
    "hotels_hw['review_date'].max()\n",
    "\n",
    "print('Когда был оставлен самый свежий отзыв: ', hotels_hw['review_date'].max())\n",
    "print('Когда был оставлен самый первый отзыв: ', hotels_hw['review_date'].min())"
   ]
  },
  {
   "cell_type": "code",
   "execution_count": null,
   "metadata": {},
   "outputs": [
    {
     "name": "stdout",
     "output_type": "stream",
     "text": [
      "Кол-во уникальных тэгов:  2368\n",
      "Кол-во отзывов с тэгами:  386803\n"
     ]
    }
   ],
   "source": [
    "hotels_hw.head()\n",
    "\n",
    "def collect_tags(df):\n",
    "    tags_dict = dict()\n",
    "    tags_list = list()\n",
    "    for index, row in df['tags'].items():\n",
    "        tags = list(row.replace(\"[' \", '').replace(\" ']\", '').split(\" ', ' \"))\n",
    "        tags_list.append(tags)\n",
    "        for tag in tags:\n",
    "            if tag not in tags_dict.keys():\n",
    "                tags_dict.update({tag:1})\n",
    "            else:\n",
    "                tags_dict[tag] += 1\n",
    "    return tags_list, tags_dict\n",
    "\n",
    "tags_list, tags_dict = collect_tags(hotels_hw)\n",
    "# print(tags_dict)\n",
    "# print(tags_list)\n",
    "print('Кол-во уникальных тэгов: ', len(tags_dict))\n",
    "print('Кол-во отзывов с тэгами: ', len(tags_list))"
   ]
  },
  {
   "cell_type": "code",
   "execution_count": null,
   "metadata": {},
   "outputs": [
    {
     "data": {
      "text/plain": [
       "'Leisure trip'"
      ]
     },
     "execution_count": 37,
     "metadata": {},
     "output_type": "execute_result"
    }
   ],
   "source": [
    "max(tags_dict, key=tags_dict.get)"
   ]
  },
  {
   "cell_type": "code",
   "execution_count": null,
   "metadata": {},
   "outputs": [
    {
     "name": "stdout",
     "output_type": "stream",
     "text": [
      "('Stayed 1 night', 145373)\n"
     ]
    }
   ],
   "source": [
    "def most_freq_tag_stayed(tags):\n",
    "    stayed_dict = dict()\n",
    "    for key, values in tags.items():\n",
    "        if 'stayed' in key.lower():\n",
    "            stayed_dict[key] = values\n",
    "    max_stayed = max(stayed_dict, key=stayed_dict.get) \n",
    "    return max_stayed, tags[max_stayed]\n",
    "\n",
    "print(most_freq_tag_stayed(tags_dict))"
   ]
  }
 ],
 "metadata": {
  "kernelspec": {
   "display_name": "Python 3",
   "language": "python",
   "name": "python3"
  },
  "language_info": {
   "codemirror_mode": {
    "name": "ipython",
    "version": 3
   },
   "file_extension": ".py",
   "mimetype": "text/x-python",
   "name": "python",
   "nbconvert_exporter": "python",
   "pygments_lexer": "ipython3",
   "version": "3.10.9"
  },
  "orig_nbformat": 4,
  "vscode": {
   "interpreter": {
    "hash": "b826e86f7a23ce94616280f10c2156a0cc53018215abff47993399e88c54b8ad"
   }
  }
 },
 "nbformat": 4,
 "nbformat_minor": 2
}
