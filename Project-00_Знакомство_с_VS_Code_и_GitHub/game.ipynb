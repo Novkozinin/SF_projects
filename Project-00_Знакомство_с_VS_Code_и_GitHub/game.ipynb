{
 "cells": [
  {
   "cell_type": "code",
   "execution_count": null,
   "metadata": {},
   "outputs": [],
   "source": []
  },
  {
   "cell_type": "markdown",
   "metadata": {},
   "source": [
    "# Игра: Угадай задуманное число от 1 до 100"
   ]
  },
  {
   "cell_type": "code",
   "execution_count": 1,
   "metadata": {},
   "outputs": [
    {
     "name": "stdout",
     "output_type": "stream",
     "text": [
      "Попытка: 1, Ваш ответ: 50\n",
      "Ответ неверный. Загаданное число больше\n",
      "Попытка: 2, Ваш ответ: 50\n",
      "Ответ неверный. Загаданное число больше\n",
      "Попытка: 3, Ваш ответ: 75\n",
      "Ответ неверный. Загаданное число больше\n",
      "Попытка: 4, Ваш ответ: 85\n",
      "Ответ неверный. Загаданное число меньше\n",
      "Попытка: 5, Ваш ответ: 80\n",
      "Ответ неверный. Загаданное число больше\n",
      "Вы угадали! Это число = 83, за 6 попыток\n"
     ]
    }
   ],
   "source": [
    "import game"
   ]
  }
 ],
 "metadata": {
  "kernelspec": {
   "display_name": "Python 3.10.6 64-bit",
   "language": "python",
   "name": "python3"
  },
  "language_info": {
   "codemirror_mode": {
    "name": "ipython",
    "version": 3
   },
   "file_extension": ".py",
   "mimetype": "text/x-python",
   "name": "python",
   "nbconvert_exporter": "python",
   "pygments_lexer": "ipython3",
   "version": "3.10.6"
  },
  "orig_nbformat": 4,
  "vscode": {
   "interpreter": {
    "hash": "aee8b7b246df8f9039afb4144a1f6fd8d2ca17a180786b69acc140d282b71a49"
   }
  }
 },
 "nbformat": 4,
 "nbformat_minor": 2
}
