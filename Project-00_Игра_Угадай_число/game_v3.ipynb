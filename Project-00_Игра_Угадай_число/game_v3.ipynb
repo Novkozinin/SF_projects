{
 "cells": [
  {
   "cell_type": "markdown",
   "metadata": {},
   "source": [
    "## Проект по созданию алгоритма, \"Угадай число\", который угадывает загаданное число за минимальное количество попыток.\n",
    "### Импорт модуля game_v3"
   ]
  },
  {
   "cell_type": "code",
   "execution_count": 1,
   "metadata": {},
   "outputs": [],
   "source": [
    "import game_v3"
   ]
  },
  {
   "cell_type": "markdown",
   "metadata": {},
   "source": [
    "### Импорт и запуск функции random_predict() \n",
    "Функция random_predict() разработана для самостоятельного запуска с проверкой аргумента (целое число от 1 до 100), прогнозом максимального количества попыток и оценкой результата против прогноза\n",
    "   \n",
    "    По умолчанию, алгоритм рандомно \"загадывает\" целое число от 1 до 100.\n",
    "    При желании, можно задать число самостоятельно в качестве аргумента функции random_predict()"
   ]
  },
  {
   "cell_type": "code",
   "execution_count": 2,
   "metadata": {},
   "outputs": [
    {
     "name": "stdout",
     "output_type": "stream",
     "text": [
      "Алгоритм угадает загаданное число максимум за 7 попыток\n",
      "...\n",
      "Алгоритм угадал загаданное число за 5 попыток - это на 2 хода лучше прогноза!\n"
     ]
    }
   ],
   "source": [
    "from game_v3 import random_predict\n",
    "\n",
    "random_predict()"
   ]
  },
  {
   "cell_type": "markdown",
   "metadata": {},
   "source": [
    "### Импорт и запуск функций random_predict_score() и score_game()\n",
    "Функция random_predict_score() является \"облегченной\" модификацией функции random_predict() для совместного запуска с функцией score_game(random_predict_score).\n",
    "\n",
    "    Функция score_game(random_predict_score) рассчитывает среднее количество попыток на \"угадывание\" числа из интервала 1-100 за 1000 подходов\n",
    "    Функция рандомно генерирует список из 1000 целых чисел (в интервале от 1 до 100) и по очереди передает их в качестве аргумента функции random_predict_score().\n"
   ]
  },
  {
   "cell_type": "code",
   "execution_count": 3,
   "metadata": {},
   "outputs": [
    {
     "name": "stdout",
     "output_type": "stream",
     "text": [
      "Алгоритм угадал задуманное число из интервала 1-100 в среднем за 5 попыток!\n"
     ]
    }
   ],
   "source": [
    "from game_v3 import random_predict_score, score_game\n",
    "\n",
    "score_game(random_predict_score)"
   ]
  }
 ],
 "metadata": {
  "kernelspec": {
   "display_name": "Python 3.10.6 64-bit",
   "language": "python",
   "name": "python3"
  },
  "language_info": {
   "codemirror_mode": {
    "name": "ipython",
    "version": 3
   },
   "file_extension": ".py",
   "mimetype": "text/x-python",
   "name": "python",
   "nbconvert_exporter": "python",
   "pygments_lexer": "ipython3",
   "version": "3.10.6"
  },
  "orig_nbformat": 4,
  "vscode": {
   "interpreter": {
    "hash": "aee8b7b246df8f9039afb4144a1f6fd8d2ca17a180786b69acc140d282b71a49"
   }
  }
 },
 "nbformat": 4,
 "nbformat_minor": 2
}
