{
  "cells": [
    {
      "cell_type": "markdown",
      "id": "42289889-bd57-434e-9637-d3e354756316",
      "metadata": {
        "id": "42289889-bd57-434e-9637-d3e354756316"
      },
      "source": [
        "<center> <img src = https://raw.githubusercontent.com/AndreyRysistov/DatasetsForPandas/main/hh%20label.jpg alt=\"drawing\" style=\"width:400px;\">"
      ]
    },
    {
      "cell_type": "markdown",
      "id": "829cb75b-f14e-4ba8-9195-7ba929a7d656",
      "metadata": {
        "id": "829cb75b-f14e-4ba8-9195-7ba929a7d656",
        "tags": []
      },
      "source": [
        "# <center> Проект: Анализ вакансий из HeadHunter\n",
        "   "
      ]
    },
    {
      "cell_type": "code",
      "execution_count": 73,
      "id": "dccfde33-2452-43fb-a8a5-5c6ebc02a71d",
      "metadata": {
        "id": "dccfde33-2452-43fb-a8a5-5c6ebc02a71d"
      },
      "outputs": [],
      "source": [
        "import pandas as pd\n",
        "import psycopg2"
      ]
    },
    {
      "cell_type": "code",
      "execution_count": 74,
      "id": "19d285b1",
      "metadata": {},
      "outputs": [],
      "source": [
        "# Код отключения предупреждений (см. ниже) - они не мешают работе, но отвлекают и занимают место.\n",
        "# \"UserWarning: pandas only supports SQLAlchemy connectable (engine/connection) \n",
        "# or database string URI or sqlite3 DBAPI2 connection. \n",
        "# Other DBAPI2 objects are not tested. Please consider using SQLAlchemy\".\n",
        "import warnings\n",
        "warnings.filterwarnings('ignore')"
      ]
    },
    {
      "cell_type": "code",
      "execution_count": 75,
      "id": "oVKH4ehvf8Ay",
      "metadata": {
        "id": "oVKH4ehvf8Ay"
      },
      "outputs": [],
      "source": [
        "# вставьте сюда параметры подключения из юнита 1. Работа с базой данных из Python \n",
        "DBNAME = 'project_sql'\n",
        "USER = 'skillfactory'\n",
        "PASSWORD = 'cCkxxLVrDE8EbvjueeMedPKt'\n",
        "HOST = '84.201.134.129'\n",
        "PORT = 5432"
      ]
    },
    {
      "cell_type": "code",
      "execution_count": 76,
      "id": "G4X_q8KBf7SF",
      "metadata": {
        "id": "G4X_q8KBf7SF"
      },
      "outputs": [],
      "source": [
        "connection = psycopg2.connect(\n",
        "    dbname=DBNAME,\n",
        "    user=USER,\n",
        "    host=HOST,\n",
        "    password=PASSWORD,\n",
        "    port=PORT\n",
        ")"
      ]
    },
    {
      "cell_type": "markdown",
      "id": "0dc6476b-7a00-44f1-ac93-6e3baed33a29",
      "metadata": {
        "id": "0dc6476b-7a00-44f1-ac93-6e3baed33a29"
      },
      "source": [
        "# Юнит 3. Предварительный анализ данных"
      ]
    },
    {
      "cell_type": "markdown",
      "id": "889782b6-8d1c-410e-8920-e57f27917c64",
      "metadata": {
        "id": "889782b6-8d1c-410e-8920-e57f27917c64"
      },
      "source": [
        "#### 1. Напишите запрос, который посчитает количество вакансий в нашей базе (вакансии находятся в таблице *vacancies*). "
      ]
    },
    {
      "cell_type": "code",
      "execution_count": 77,
      "id": "eee46560",
      "metadata": {},
      "outputs": [],
      "source": [
        "# текст запроса\n",
        "query_3_1 = f'''\n",
        "select \n",
        "    count(id) as cnt /* счет кол-ва вакансий по уникальному полю id, \n",
        "                    можно было бы выбрать все столбцы и вычислить ответ c помощью python */\n",
        "from public.vacancies /* для оптимизации кода, далее схему public не буду использовать,\n",
        "                    так как это единственная схема в этой базе (информация получена на вебинаре) */\n",
        "'''"
      ]
    },
    {
      "cell_type": "code",
      "execution_count": 78,
      "id": "eff226da",
      "metadata": {},
      "outputs": [
        {
          "name": "stdout",
          "output_type": "stream",
          "text": [
            "Количество вакансий в таблице vacancies: 49197\n"
          ]
        }
      ],
      "source": [
        "# результат запроса\n",
        "# используем метод read_sql_query, чтобы получить результаты запроса сразу в виде датафрейма\n",
        "df_3_1 = pd.read_sql_query(query_3_1, connection)\n",
        "# display(df_3_1) # проверка dataframe\n",
        "print(f'Количество вакансий в таблице vacancies: {df_3_1.iloc[0][0]}') # вывод ответа"
      ]
    },
    {
      "cell_type": "markdown",
      "id": "b583485d-1f9e-494e-ada4-80ffff7c53d6",
      "metadata": {
        "id": "b583485d-1f9e-494e-ada4-80ffff7c53d6"
      },
      "source": [
        "#### 2. Напишите запрос, который посчитает количество работодателей (таблица *employers*). "
      ]
    },
    {
      "cell_type": "code",
      "execution_count": 79,
      "id": "6d406b3f",
      "metadata": {},
      "outputs": [],
      "source": [
        "# текст запроса\n",
        "query_3_2 = f'''\n",
        "select \n",
        "    count(id) cnt -- счет кол-ва работодателей по уникальному полю id\n",
        "from employers -- исходная таблица\n",
        "'''"
      ]
    },
    {
      "cell_type": "code",
      "execution_count": 80,
      "id": "b9dc1103",
      "metadata": {},
      "outputs": [
        {
          "name": "stdout",
          "output_type": "stream",
          "text": [
            "Количество работодателей в таблице employers: 23501\n"
          ]
        }
      ],
      "source": [
        "# результат запроса\n",
        "df_3_2 = pd.read_sql_query(query_3_2, connection)\n",
        "# display(df_3_2) # проверка dataframe\n",
        "print(f'Количество работодателей в таблице employers: {df_3_2.iloc[0][0]}') # вывод ответа"
      ]
    },
    {
      "cell_type": "markdown",
      "id": "a2bfff1f-c975-4bf6-84be-2185d79dcb76",
      "metadata": {
        "id": "a2bfff1f-c975-4bf6-84be-2185d79dcb76"
      },
      "source": [
        "#### 3. Посчитате с помощью запроса количество регионов (таблица *areas*)."
      ]
    },
    {
      "cell_type": "code",
      "execution_count": 81,
      "id": "d642ac59",
      "metadata": {},
      "outputs": [],
      "source": [
        "# текст запроса\n",
        "query_3_3 = f'''\n",
        "select\n",
        "    count(id) cnt -- счет кол-ва регионов по уникальному полю id\n",
        "from areas -- исходная таблица\n",
        "'''"
      ]
    },
    {
      "cell_type": "code",
      "execution_count": 82,
      "id": "8ad208db",
      "metadata": {},
      "outputs": [
        {
          "name": "stdout",
          "output_type": "stream",
          "text": [
            "Количество регионов в таблице areas: 1362\n"
          ]
        }
      ],
      "source": [
        "# результат запроса\n",
        "df_3_3 = pd.read_sql_query(query_3_3, connection)\n",
        "# display(df_3_3) # проверка dataframe\n",
        "print(f'Количество регионов в таблице areas: {df_3_3.iloc[0][0]}') # вывод ответа"
      ]
    },
    {
      "cell_type": "markdown",
      "id": "41bb59f3-53cc-4a67-a5bc-bedf573955e4",
      "metadata": {
        "id": "41bb59f3-53cc-4a67-a5bc-bedf573955e4"
      },
      "source": [
        "#### 4. Посчитате с помощью запроса количество сфер деятельности в базе (таблица *industries*)."
      ]
    },
    {
      "cell_type": "code",
      "execution_count": 83,
      "id": "42111d28",
      "metadata": {},
      "outputs": [],
      "source": [
        "# текст запроса\n",
        "query_3_4 = f'''\n",
        "select\n",
        "    count(id) cnt -- счет кол-ва сфер деятельности по уникальному полю id\n",
        "from industries\n",
        "'''"
      ]
    },
    {
      "cell_type": "code",
      "execution_count": 84,
      "id": "56fd2b79",
      "metadata": {},
      "outputs": [
        {
          "name": "stdout",
          "output_type": "stream",
          "text": [
            "Количество сфер деятельности в таблице industries: 294\n"
          ]
        }
      ],
      "source": [
        "# результат запроса\n",
        "df_3_4 = pd.read_sql_query(query_3_4, connection)\n",
        "# display(df_3_4) # проверка dataframe\n",
        "print(f'Количество сфер деятельности в таблице industries: {df_3_4.iloc[0][0]}') # вывод ответа"
      ]
    },
    {
      "cell_type": "markdown",
      "id": "9a8a2181-6914-448b-85f1-38f5f18b8a93",
      "metadata": {
        "id": "9a8a2181-6914-448b-85f1-38f5f18b8a93"
      },
      "source": [
        "***"
      ]
    },
    {
      "cell_type": "markdown",
      "id": "5abfb4f6",
      "metadata": {},
      "source": [
        "#### **<span style=color:green>Юнит 3. Дополнительное исслелование:**\n",
        "#### 3.5. Количество наименований вакансий и Топ-5 наиболее востребованных названий вакансий."
      ]
    },
    {
      "cell_type": "code",
      "execution_count": 85,
      "id": "48551b81",
      "metadata": {},
      "outputs": [],
      "source": [
        "query_3_5 = f'''\n",
        "select \n",
        "    name,\n",
        "    count(*) cnt\n",
        "from vacancies\n",
        "group by name\n",
        "order by cnt desc\n",
        "limit 5\n",
        "'''"
      ]
    },
    {
      "cell_type": "code",
      "execution_count": 86,
      "id": "7c79eb08",
      "metadata": {},
      "outputs": [
        {
          "data": {
            "text/html": [
              "<div>\n",
              "<style scoped>\n",
              "    .dataframe tbody tr th:only-of-type {\n",
              "        vertical-align: middle;\n",
              "    }\n",
              "\n",
              "    .dataframe tbody tr th {\n",
              "        vertical-align: top;\n",
              "    }\n",
              "\n",
              "    .dataframe thead th {\n",
              "        text-align: right;\n",
              "    }\n",
              "</style>\n",
              "<table border=\"1\" class=\"dataframe\">\n",
              "  <thead>\n",
              "    <tr style=\"text-align: right;\">\n",
              "      <th></th>\n",
              "      <th>name</th>\n",
              "      <th>cnt</th>\n",
              "    </tr>\n",
              "  </thead>\n",
              "  <tbody>\n",
              "    <tr>\n",
              "      <th>0</th>\n",
              "      <td>Системный администратор</td>\n",
              "      <td>1761</td>\n",
              "    </tr>\n",
              "    <tr>\n",
              "      <th>1</th>\n",
              "      <td>Программист 1С</td>\n",
              "      <td>1153</td>\n",
              "    </tr>\n",
              "    <tr>\n",
              "      <th>2</th>\n",
              "      <td>Бизнес-аналитик</td>\n",
              "      <td>488</td>\n",
              "    </tr>\n",
              "    <tr>\n",
              "      <th>3</th>\n",
              "      <td>Специалист технической поддержки</td>\n",
              "      <td>457</td>\n",
              "    </tr>\n",
              "    <tr>\n",
              "      <th>4</th>\n",
              "      <td>Системный аналитик</td>\n",
              "      <td>432</td>\n",
              "    </tr>\n",
              "  </tbody>\n",
              "</table>\n",
              "</div>"
            ],
            "text/plain": [
              "                               name   cnt\n",
              "0           Системный администратор  1761\n",
              "1                    Программист 1С  1153\n",
              "2                   Бизнес-аналитик   488\n",
              "3  Специалист технической поддержки   457\n",
              "4                Системный аналитик   432"
            ]
          },
          "metadata": {},
          "output_type": "display_data"
        }
      ],
      "source": [
        "# результат запроса\n",
        "df_3_5 = pd.read_sql_query(query_3_5, connection)\n",
        "display(df_3_5)"
      ]
    },
    {
      "attachments": {},
      "cell_type": "markdown",
      "id": "bc8bf1c0",
      "metadata": {},
      "source": [
        "#### **<span style=color:green>Юнит 3. Выводы по предварительному анализу данных**\n",
        "\n",
        "После знакомства с данными в таблицах и дополнительного исследования можно сделать следующие предварительные выводы:\n",
        "* Количество вакансий более чем в 2 раза превышает количество работодателей\n",
        "    >*Что вполне ожидаемо, так как организациям для успешного функционирования требуются разные специалисты.*\n",
        "* В базе представлено 1.362 региона\n",
        "    >*Это говорит о том, табличные данные охватывают довольно широкую географию.*\n",
        "* Организации - работодатели представляют 294 различные сферы деятельности\n",
        "    >*Что также говорит о большом охвате данных по сферам деятельности.*\n",
        "* В таблице представлено 21.222 различных наименований вакансий\n",
        "    >*Это говорит о широких возможностях для соискателей разных специальностей найти подходящую себе работу/работодателя из разных сфер деятельности.*\n",
        "* ***Интересный факт:*** Тор-5 наиболее востребованных вакансий из сферы IT или анализа данных.  \n",
        "\n",
        "**Представленные данные содержат большой объем информации о вакансиях в разных регионах и сферах деятельности, так что у соискателей  есть возможность выбора и есть неплохие шансы выбора комнании для реализации своего профессионального потенциала.**"
      ]
    },
    {
      "cell_type": "markdown",
      "id": "ce8d2d49",
      "metadata": {},
      "source": [
        "***"
      ]
    },
    {
      "cell_type": "markdown",
      "id": "8d62a9f3-f64e-4fe7-bdac-c4dffa16155e",
      "metadata": {
        "id": "8d62a9f3-f64e-4fe7-bdac-c4dffa16155e"
      },
      "source": [
        "# Юнит 4. Детальный анализ вакансий"
      ]
    },
    {
      "cell_type": "markdown",
      "id": "93053d3d-b284-481a-9cf7-012d7014c0e0",
      "metadata": {
        "id": "93053d3d-b284-481a-9cf7-012d7014c0e0"
      },
      "source": [
        "#### 1. Напишите запрос, который позволит узнать, сколько (*cnt*) вакансий в каждом регионе (*area*). Отсортируйте по количеству вакансий **в порядке убывания**."
      ]
    },
    {
      "cell_type": "code",
      "execution_count": 87,
      "id": "3f069da6-fdc9-4ae7-b514-fafe2675efd3",
      "metadata": {
        "id": "3f069da6-fdc9-4ae7-b514-fafe2675efd3"
      },
      "outputs": [],
      "source": [
        "# текст запроса\n",
        "query_4_1 = f'''\n",
        "select\n",
        "    a.name as area, --  список регионов из таблицы areas\n",
        "    count(v.area_id) as cnt -- подсчет кол-ва вакансий из таблицы vacancies\n",
        "from areas a\n",
        "    join vacancies v on a.id = v.area_id -- соединение таблиц \n",
        "group by area -- группировка по признаку area\n",
        "order by count(v.area_id) desc -- сортировка по убыванию\n",
        "limit 5 -- выбор топ 5\n",
        "'''"
      ]
    },
    {
      "cell_type": "code",
      "execution_count": 88,
      "id": "P7QL86hrjhRJ",
      "metadata": {
        "id": "P7QL86hrjhRJ"
      },
      "outputs": [
        {
          "name": "stdout",
          "output_type": "stream",
          "text": [
            "Топ 5 регионов по количеству вакансий:\n",
            "Москва, Санкт-Петербург, Минск, Новосибирск, Алматы\n"
          ]
        }
      ],
      "source": [
        "# результат запроса\n",
        "df_4_1 = pd.read_sql_query(query_4_1, connection)\n",
        "# display(df_4_1) # проверка dataframe\n",
        "print(f\"Топ 5 регионов по количеству вакансий:\\n\\\n",
        "{', '.join(df_4_1['area'].values.tolist())}\") # вывод ответа"
      ]
    },
    {
      "cell_type": "markdown",
      "id": "4266f0b6-1646-492a-88b4-2f6a46502135",
      "metadata": {
        "id": "4266f0b6-1646-492a-88b4-2f6a46502135"
      },
      "source": [
        "#### 2. Напишите запрос, чтобы определить у какого количества вакансий заполнено **хотя бы одно** из двух полей с зарплатой."
      ]
    },
    {
      "cell_type": "code",
      "execution_count": 89,
      "id": "0c44b350-72eb-4d65-8b54-a1fc449ba9fd",
      "metadata": {
        "id": "0c44b350-72eb-4d65-8b54-a1fc449ba9fd"
      },
      "outputs": [],
      "source": [
        "# текст запроса\n",
        "query_4_2 = f'''\n",
        "select\n",
        "    count(id) cnt -- подсчет кол-ва уникальных вакансий\n",
        "from vacancies \n",
        "where (salary_from is not null) or (salary_to is not null) -- фильтр вакансий по условию задачи\n",
        "'''"
      ]
    },
    {
      "cell_type": "code",
      "execution_count": 90,
      "id": "rhvwaMDkoWTi",
      "metadata": {
        "id": "rhvwaMDkoWTi"
      },
      "outputs": [
        {
          "name": "stdout",
          "output_type": "stream",
          "text": [
            "Количество вакансий, у которых заполнено хотя бы одно из двух полей с зарплатой: 24073\n"
          ]
        }
      ],
      "source": [
        "# результат запроса\n",
        "df_4_2 = pd.read_sql_query(query_4_2, connection)\n",
        "# display(df_4_2) # проверка dataframe\n",
        "print(f'Количество вакансий, у которых заполнено хотя бы одно из двух \\\n",
        "полей с зарплатой: {df_4_2.iloc[0,0]}') # вывод ответа"
      ]
    },
    {
      "cell_type": "markdown",
      "id": "635c4d5d-f323-4c66-b428-50a088120aa0",
      "metadata": {
        "id": "635c4d5d-f323-4c66-b428-50a088120aa0"
      },
      "source": [
        "#### 3. Найдите средние значения для нижней и верхней границы зарплатной вилки. Округлите значения до **целого числа**."
      ]
    },
    {
      "cell_type": "code",
      "execution_count": 91,
      "id": "603cdbe4-0ec3-4106-8eaf-c73fcdd29165",
      "metadata": {
        "id": "603cdbe4-0ec3-4106-8eaf-c73fcdd29165"
      },
      "outputs": [],
      "source": [
        "# текст запроса\n",
        "query_4_3 = f'''\n",
        "select\n",
        "    round(avg(salary_from), 0) avg_salart_from, /* расчет средней нижней границы з/п вилки\n",
        "        с округлением до целого */\n",
        "    round(avg(salary_to), 0) avg_salart_to /* расчет средней верхней границы з/п вилки\n",
        "        с округлением до целого */\n",
        "from vacancies\n",
        "'''"
      ]
    },
    {
      "cell_type": "code",
      "execution_count": 92,
      "id": "pswpAb66ovZZ",
      "metadata": {
        "id": "pswpAb66ovZZ"
      },
      "outputs": [
        {
          "name": "stdout",
          "output_type": "stream",
          "text": [
            "Средние значения для зарплатной вилки\n",
            "нижняя граница: 71065.0\n",
            "верхняя граница: 110537.0\n"
          ]
        }
      ],
      "source": [
        "# результат запроса\n",
        "df_4_3 = pd.read_sql_query(query_4_3, connection)\n",
        "# display(df_4_3) # проверка dataframe\n",
        "print(f'Средние значения для зарплатной вилки\\n\\\n",
        "нижняя граница: {df_4_3.iloc[0,0]}\\n\\\n",
        "верхняя граница: {df_4_3.iloc[0,1]}') # вывод ответа"
      ]
    },
    {
      "cell_type": "markdown",
      "id": "f3fdaec9-5fd3-4260-9cf5-1d7406b628a5",
      "metadata": {
        "id": "f3fdaec9-5fd3-4260-9cf5-1d7406b628a5"
      },
      "source": [
        "#### 4. Напишите запрос, который выведет количество вакансий для каждого сочетания типа рабочего графика (*schedule*) и типа трудоустройства (*employment*), используемого в вакансиях. Какая пара находится на **втором** месте по популярности? Результат отсортируйте по **убыванию** количества.\n"
      ]
    },
    {
      "cell_type": "code",
      "execution_count": 93,
      "id": "1ea710ec-871b-431e-9462-c7d0fd87011b",
      "metadata": {
        "id": "1ea710ec-871b-431e-9462-c7d0fd87011b"
      },
      "outputs": [],
      "source": [
        "# текст запроса\n",
        "query_4_4 = f'''\n",
        "select\n",
        "    schedule || ' - ' || employment schedule_employment, /* создание столбца \n",
        "        с объединением двух признаков */ \n",
        "    count(id) cnt -- расчет кол-ва по каждой паре\n",
        "from vacancies\n",
        "group by schedule_employment -- группировка по признаку\n",
        "order by cnt desc -- сортировка по убыванию cnt\n",
        "offset 1 -- смещение на одну строку для вывода второй строки на первое место\n",
        "limit 1 -- вывод первой строки\n",
        "'''\n",
        "# offset и limit можно было не применять и найти решение с помощью python "
      ]
    },
    {
      "cell_type": "code",
      "execution_count": 94,
      "id": "lGUVqavdo4JQ",
      "metadata": {
        "id": "lGUVqavdo4JQ"
      },
      "outputs": [
        {
          "name": "stdout",
          "output_type": "stream",
          "text": [
            "Второе месте по популярности пары \"тип грвфика - тип трудоустройства\": \n",
            "Удаленная работа - Полная занятость\n"
          ]
        }
      ],
      "source": [
        "# результат запроса\n",
        "df_4_4 = pd.read_sql_query(query_4_4, connection)\n",
        "# display(df_4_4) # проверка dataframe\n",
        "print(f'Второе месте по популярности пары \"тип грвфика - тип трудоустройства\": \\n\\\n",
        "{df_4_4.iloc[0,0]}') # вывод ответа"
      ]
    },
    {
      "cell_type": "markdown",
      "id": "0136ffee-0ead-4a6b-b608-61d1c753a438",
      "metadata": {
        "id": "0136ffee-0ead-4a6b-b608-61d1c753a438"
      },
      "source": [
        "#### 5. Напишите запрос, выводящий значения поля Требуемый опыт работы (*experience*) в порядке **возрастания** количества вакансий, в которых указан данный вариант опыта. "
      ]
    },
    {
      "cell_type": "code",
      "execution_count": 95,
      "id": "5b3a8e79-f7ab-4008-b767-12aea3a205ea",
      "metadata": {
        "id": "5b3a8e79-f7ab-4008-b767-12aea3a205ea"
      },
      "outputs": [],
      "source": [
        "# текст запроса\n",
        "query_4_5 = f'''\n",
        "select\n",
        "    experience, -- вывод значений поля 'Требуемый опыт работы'\n",
        "    count(id) cnt -- кол-во уникальных вакансий\n",
        "from vacancies\n",
        "group by  experience -- группировка по признаку 'Требуемый опыт работы'\n",
        "order by cnt -- сортировка по возрастанию кол-ва вакансий\n",
        "'''"
      ]
    },
    {
      "cell_type": "code",
      "execution_count": 96,
      "id": "40dd618a",
      "metadata": {},
      "outputs": [
        {
          "data": {
            "text/html": [
              "<div>\n",
              "<style scoped>\n",
              "    .dataframe tbody tr th:only-of-type {\n",
              "        vertical-align: middle;\n",
              "    }\n",
              "\n",
              "    .dataframe tbody tr th {\n",
              "        vertical-align: top;\n",
              "    }\n",
              "\n",
              "    .dataframe thead th {\n",
              "        text-align: right;\n",
              "    }\n",
              "</style>\n",
              "<table border=\"1\" class=\"dataframe\">\n",
              "  <thead>\n",
              "    <tr style=\"text-align: right;\">\n",
              "      <th></th>\n",
              "      <th>experience</th>\n",
              "      <th>cnt</th>\n",
              "    </tr>\n",
              "  </thead>\n",
              "  <tbody>\n",
              "    <tr>\n",
              "      <th>0</th>\n",
              "      <td>Более 6 лет</td>\n",
              "      <td>1337</td>\n",
              "    </tr>\n",
              "    <tr>\n",
              "      <th>1</th>\n",
              "      <td>Нет опыта</td>\n",
              "      <td>7197</td>\n",
              "    </tr>\n",
              "    <tr>\n",
              "      <th>2</th>\n",
              "      <td>От 3 до 6 лет</td>\n",
              "      <td>14511</td>\n",
              "    </tr>\n",
              "    <tr>\n",
              "      <th>3</th>\n",
              "      <td>От 1 года до 3 лет</td>\n",
              "      <td>26152</td>\n",
              "    </tr>\n",
              "  </tbody>\n",
              "</table>\n",
              "</div>"
            ],
            "text/plain": [
              "           experience    cnt\n",
              "0         Более 6 лет   1337\n",
              "1           Нет опыта   7197\n",
              "2       От 3 до 6 лет  14511\n",
              "3  От 1 года до 3 лет  26152"
            ]
          },
          "metadata": {},
          "output_type": "display_data"
        },
        {
          "name": "stdout",
          "output_type": "stream",
          "text": [
            "Требуемый опыт работы (experience) в порядке возрастания количества вакансий:\n",
            "Более 6 лет - Нет опыта - От 3 до 6 лет - От 1 года до 3 лет\n"
          ]
        }
      ],
      "source": [
        "# результат запроса\n",
        "df_4_5 = pd.read_sql_query(query_4_5, connection)\n",
        "display(df_4_5) # проверка dataframe\n",
        "print(f\"Требуемый опыт работы (experience) в порядке возрастания количества вакансий:\\n\\\n",
        "{' - '.join(df_4_5['experience'].values.tolist())}\") # вывод ответа"
      ]
    },
    {
      "cell_type": "markdown",
      "id": "oq2b7n1QpIka",
      "metadata": {
        "id": "oq2b7n1QpIka"
      },
      "source": [
        "***"
      ]
    },
    {
      "cell_type": "markdown",
      "id": "7e4476d2",
      "metadata": {},
      "source": [
        "#### **<span style=color:green>Юнит 4. Дополнительное исслелование:**\n",
        "#### 4.6. Расчет средней э/п вилки в зависимости от опыта работы"
      ]
    },
    {
      "cell_type": "code",
      "execution_count": 97,
      "id": "fe1e47fb",
      "metadata": {},
      "outputs": [],
      "source": [
        "# текст запроса\n",
        "query_4_6 = f'''\n",
        "select\n",
        "    experience, -- вывод значений поля 'Требуемый опыт работы'\n",
        "    round(avg(salary_from), 0) \"Мин. сред з/п\", /* расчет средней нижней границы з/п вилки\n",
        "        с округлением до целого */\n",
        "    round(avg(salary_to), 0) \"Макс. сред з/п\" /* расчет средней верхней границы з/п вилки\n",
        "        с округлением до целого */\n",
        "from vacancies\n",
        "group by experience\n",
        "order by \"Мин. сред з/п\" desc,  \"Макс. сред з/п\" desc\n",
        "'''"
      ]
    },
    {
      "cell_type": "code",
      "execution_count": 98,
      "id": "b8e0b5a7",
      "metadata": {},
      "outputs": [
        {
          "data": {
            "image/png": "[encoded data removed]"
          },
          "metadata": {},
          "output_type": "display_data"
        }
      ],
      "source": [
        "import plotly\n",
        "import plotly.express as px\n",
        "\n",
        "# результат запроса\n",
        "df_4_6 = pd.read_sql_query(query_4_6, connection)\n",
        "df_4_6 = df_4_6.set_index('experience') \n",
        "# display(df_4_6) # проверка dataframe\n",
        "\n",
        "# строим диаграмму\n",
        "fig_heat = px.imshow(\n",
        "    img=df_4_6,\n",
        "    origin='upper',\n",
        "    color_continuous_scale=['red', 'yellow', 'green'],\n",
        "    title='Тепловая карта з/п вилки в зависимости от опыта работы',\n",
        "    width=600,\n",
        "    height=600\n",
        "    )\n",
        "\n",
        "# добавляем аннотацию\n",
        "fig_heat.update_traces(\n",
        "    hoverongaps=False,\n",
        "    hovertemplate=\"Опыт работы: %{y}\"\n",
        "                  \"<br>Уровень з/п: %{x}\"\n",
        "                  \"<br>З/п(сред): %{z}<extra></extra>\"\n",
        "    )\n",
        "\n",
        "# добавляем титулы осей\n",
        "fig_heat.update_layout(\n",
        "    xaxis_title='З/п вилка',\n",
        "    yaxis_title='Опыт работы'\n",
        ")\n",
        "# отображаем тепловую карту\n",
        "fig_heat.show('png')\n",
        "# fig_heat.show()"
      ]
    },
    {
      "attachments": {},
      "cell_type": "markdown",
      "id": "efc1a181",
      "metadata": {},
      "source": [
        "#### **<span style=color:green>Юнит 4. Выводы по по детальному анализу вакансий**\n",
        "\n",
        "После детального анализа вакансий и дополнительного исследования можно сделать следующие предварительные выводы:\n",
        "* Основная доля вакансий сосредоточена в крупных городах и столицах стран СНГ: в топ-5 по числу вакансий входят Москва, Санкт-Петербург, Минск, Новосибирск и Алматы (на данные города приходится примерно 30% всех вакансий).\n",
        "  >*Это связано с тем, чтов крупных городах расположено большинство предпрниятий и бизнес-центров.*\n",
        "* Примерно 72% вакансий имеют тип рабочего графика \"полный день\" и тип трудоустройства \"полная занятость\".\n",
        "  >*Работодатели отдают преимущество сотрудникам, которые полностью будут погружены в рабочий процесс.*\n",
        "* Наиболее частые пожелания работодателей по опыту работы (53% вакансий) - от 1 до 3 лет\n",
        "  >*Это можно объяснить тем, что для получения начального уровня опыта достаточно 1 - 3 года, для дальнейшего карьерного роста часто используются внутренние трудовые ресурсы компании.*\n",
        "* Основное количество вакансий приходится на IT-технологии (разработка ПО, системная интеграция и автоматизация, Интернет-компания, мобильная связь) и банковскую сферу. На эти топ-5 отраслей приходится примерно 70% от общего числа вакансий.\n",
        "  >*Это тоже вполне естественно, ведь компьютерные технологии сейчас в том или ином виде присутствуют везде, в том числе и в финансовом секторе.*\n",
        "* Тепловая карта з/п вилки в зависимости от опыта работы показывает прямую зависимость средней з/п вилки (мин и макс уровни) от опыта работы. "
      ]
    },
    {
      "cell_type": "markdown",
      "id": "5009ce55",
      "metadata": {},
      "source": [
        "***"
      ]
    },
    {
      "cell_type": "markdown",
      "id": "7ea20ab6-04a7-40a0-adec-443a0e5a42c3",
      "metadata": {
        "id": "7ea20ab6-04a7-40a0-adec-443a0e5a42c3"
      },
      "source": [
        "# Юнит 5. Анализ работодателей"
      ]
    },
    {
      "cell_type": "markdown",
      "id": "968aed80-74ef-4ffb-b5bf-c65b84e9caea",
      "metadata": {
        "id": "968aed80-74ef-4ffb-b5bf-c65b84e9caea"
      },
      "source": [
        "#### 1. Напишите запрос, который позволит узнать, какие работодатели находятся на **первом** и **пятом** месте по количеству вакансий."
      ]
    },
    {
      "cell_type": "code",
      "execution_count": 99,
      "id": "61d51b35",
      "metadata": {},
      "outputs": [],
      "source": [
        "# текст запроса\n",
        "query_5_1 = f'''\n",
        "(select\n",
        "    e.name empl_name, -- вывод списка работодателей\n",
        "    count(v.id) cnt -- кол-во уникальных вакансий\n",
        "from employers e\n",
        "    join vacancies v on e.id = v.employer_id -- соединение таблиц \n",
        "group by  empl_name -- группировка по работодателям\n",
        "order by cnt desc --сортировка по убыванию кол-ва вакансий\n",
        "limit 1) -- вывод первого места из рейтинга по кол-ву вакансий\n",
        "union all -- объединение возвращаемых sql-запросов\n",
        "(select\n",
        "    e.name empl_name,\n",
        "    count(v.id) cnt \n",
        "from public.employers e\n",
        "    left join public.vacancies v on e.id = v.employer_id \n",
        "group by  empl_name \n",
        "order by cnt desc \n",
        "offset 4 -- \"вырезка\" первых четырех строк\n",
        "limit 1) -- вывод пятого места по кол-ву вакансий\n",
        "'''\n",
        "# в качестве альтернативы можно было вывести 1 и 5 место с помощью инструментов dataframe,\n",
        "# но так как это проект по sql решил представить такое решение "
      ]
    },
    {
      "cell_type": "code",
      "execution_count": 100,
      "id": "f83f9a43",
      "metadata": {},
      "outputs": [
        {
          "name": "stdout",
          "output_type": "stream",
          "text": [
            "Работодатели, находятся на первом и пятом месте по количеству вакансий:\n",
            "Яндекс - Газпром нефть\n"
          ]
        }
      ],
      "source": [
        "# результат запроса\n",
        "df_5_1 = pd.read_sql_query(query_5_1, connection)\n",
        "# display(df_5_1) # проверка dataframe\n",
        "print(f\"Работодатели, находятся на первом и пятом месте по количеству вакансий:\\n\\\n",
        "{' - '.join(df_5_1['empl_name'].values.tolist())}\") # вывод ответа"
      ]
    },
    {
      "cell_type": "markdown",
      "id": "68377cfc-b378-43dc-ab7d-1195abf2c515",
      "metadata": {
        "id": "68377cfc-b378-43dc-ab7d-1195abf2c515"
      },
      "source": [
        "#### 2. Напишите запрос, который для каждого региона выведет количество работодателей и вакансий в нём. \n",
        "#### Среди регионов, в которых нет вакансий, найдите тот, в котором наибольшее количество работодателей.\n"
      ]
    },
    {
      "cell_type": "code",
      "execution_count": 101,
      "id": "dd7df27a-e3e8-412e-a21a-5d389b71e891",
      "metadata": {
        "id": "dd7df27a-e3e8-412e-a21a-5d389b71e891"
      },
      "outputs": [],
      "source": [
        "# текст запроса\n",
        "query_5_2 = f'''\n",
        "select\n",
        "    a.name area_name, -- вывод списка регионов\n",
        "    count(e.id) count_empl -- количество работодателей\n",
        "from areas a\n",
        "    join employers e on a.id = e.area /* соединение таблиц join \n",
        "        т.к. нас интересует наибольшее кол-во работодателей в регионе без вакансий\n",
        "        использование left join также даст правильный ответ, но займет больше времени \n",
        "        и выдаст больше строк*/\n",
        "    left join vacancies v on a.id = v.area_id /* соединение таблиц left join \n",
        "        т.к. в регионе может не быть вакансий */\n",
        "where v.id is null -- выбор регионов, в которых нет вакансий\n",
        "group by  area_name -- группировка по регионам\n",
        "order by count_empl desc -- сортировка по убыванию работодателей\n",
        "'''"
      ]
    },
    {
      "cell_type": "code",
      "execution_count": 102,
      "id": "x1ikWbydrbf6",
      "metadata": {
        "id": "x1ikWbydrbf6"
      },
      "outputs": [
        {
          "name": "stdout",
          "output_type": "stream",
          "text": [
            "Среди регионов, в которых нет вакансий, наибольшее количество работодателей в регионе: Россия\n"
          ]
        }
      ],
      "source": [
        "# результат запроса\n",
        "df_5_2 = pd.read_sql_query(query_5_2, connection)\n",
        "# проверка dataframe, не стал добавлять колонку с кол-вом вакансий т.к. после фильтрации\n",
        "# where v.id is null в колонке все значения будут 0\n",
        "# display(df_5_2)\n",
        "print(f\"Среди регионов, в которых нет вакансий, \\\n",
        "наибольшее количество работодателей в регионе: {df_5_2['area_name'][0]}\") # вывод ответа"
      ]
    },
    {
      "cell_type": "markdown",
      "id": "f2fe0acb-ab1a-4e15-9326-2560e22d73c1",
      "metadata": {
        "id": "f2fe0acb-ab1a-4e15-9326-2560e22d73c1"
      },
      "source": [
        "#### 3. Для каждого работодателя посчитайте количество регионов, в которых он публикует свои вакансии. Отсортируйте результат по убыванию количества.\n"
      ]
    },
    {
      "cell_type": "code",
      "execution_count": 103,
      "id": "6271f8ad-bd2e-4196-ae4a-5b39c4c1010e",
      "metadata": {
        "id": "6271f8ad-bd2e-4196-ae4a-5b39c4c1010e"
      },
      "outputs": [],
      "source": [
        "# текст запроса\n",
        "query_5_3 = f'''\n",
        "select\n",
        "    e.name empl_name, -- список работодателей\n",
        "    count(distinct v.area_id) count_area /* счет уникального кол-ва регионов \n",
        "        (без distinct считает кол-во вакансий) */\n",
        "from employers e\n",
        "    join vacancies v on e.id = v.employer_id -- соединение таблиц \n",
        "group by empl_name -- группировка по признаку\n",
        "order by count_area desc -- сортировка по убыванию\n",
        "'''"
      ]
    },
    {
      "cell_type": "code",
      "execution_count": 104,
      "id": "1EIvX3HasH4F",
      "metadata": {
        "id": "1EIvX3HasH4F"
      },
      "outputs": [
        {
          "name": "stdout",
          "output_type": "stream",
          "text": [
            "Яндекс публикует свои вакансии в наибольшем кол-ве регионов: 181\n"
          ]
        },
        {
          "data": {
            "text/html": [
              "<div>\n",
              "<style scoped>\n",
              "    .dataframe tbody tr th:only-of-type {\n",
              "        vertical-align: middle;\n",
              "    }\n",
              "\n",
              "    .dataframe tbody tr th {\n",
              "        vertical-align: top;\n",
              "    }\n",
              "\n",
              "    .dataframe thead th {\n",
              "        text-align: right;\n",
              "    }\n",
              "</style>\n",
              "<table border=\"1\" class=\"dataframe\">\n",
              "  <thead>\n",
              "    <tr style=\"text-align: right;\">\n",
              "      <th></th>\n",
              "      <th>empl_name</th>\n",
              "      <th>count_area</th>\n",
              "    </tr>\n",
              "  </thead>\n",
              "  <tbody>\n",
              "    <tr>\n",
              "      <th>0</th>\n",
              "      <td>Яндекс</td>\n",
              "      <td>181</td>\n",
              "    </tr>\n",
              "    <tr>\n",
              "      <th>1</th>\n",
              "      <td>Ростелеком</td>\n",
              "      <td>152</td>\n",
              "    </tr>\n",
              "    <tr>\n",
              "      <th>2</th>\n",
              "      <td>Спецремонт</td>\n",
              "      <td>116</td>\n",
              "    </tr>\n",
              "    <tr>\n",
              "      <th>3</th>\n",
              "      <td>Поляков Денис Иванович</td>\n",
              "      <td>88</td>\n",
              "    </tr>\n",
              "    <tr>\n",
              "      <th>4</th>\n",
              "      <td>ООО ЕФИН</td>\n",
              "      <td>71</td>\n",
              "    </tr>\n",
              "    <tr>\n",
              "      <th>...</th>\n",
              "      <td>...</td>\n",
              "      <td>...</td>\n",
              "    </tr>\n",
              "    <tr>\n",
              "      <th>14761</th>\n",
              "      <td>UniSol</td>\n",
              "      <td>1</td>\n",
              "    </tr>\n",
              "    <tr>\n",
              "      <th>14762</th>\n",
              "      <td>UNISTORY LLC</td>\n",
              "      <td>1</td>\n",
              "    </tr>\n",
              "    <tr>\n",
              "      <th>14763</th>\n",
              "      <td>UNIT6</td>\n",
              "      <td>1</td>\n",
              "    </tr>\n",
              "    <tr>\n",
              "      <th>14764</th>\n",
              "      <td>United Distribution</td>\n",
              "      <td>1</td>\n",
              "    </tr>\n",
              "    <tr>\n",
              "      <th>14765</th>\n",
              "      <td>UNITEL LLC</td>\n",
              "      <td>1</td>\n",
              "    </tr>\n",
              "  </tbody>\n",
              "</table>\n",
              "<p>14766 rows × 2 columns</p>\n",
              "</div>"
            ],
            "text/plain": [
              "                    empl_name  count_area\n",
              "0                      Яндекс         181\n",
              "1                  Ростелеком         152\n",
              "2                  Спецремонт         116\n",
              "3      Поляков Денис Иванович          88\n",
              "4                   ООО ЕФИН           71\n",
              "...                       ...         ...\n",
              "14761                  UniSol           1\n",
              "14762            UNISTORY LLC           1\n",
              "14763                   UNIT6           1\n",
              "14764     United Distribution           1\n",
              "14765              UNITEL LLC           1\n",
              "\n",
              "[14766 rows x 2 columns]"
            ]
          },
          "metadata": {},
          "output_type": "display_data"
        }
      ],
      "source": [
        "# результат запроса\n",
        "df_5_3 = pd.read_sql_query(query_5_3, connection)\n",
        "print(f\"{df_5_3['empl_name'][0]} публикует свои вакансии в \\\n",
        "наибольшем кол-ве регионов: {df_5_3['count_area'][0]}\") # вывод ответа\n",
        "display(df_5_3) # вывод dataframe (согласно первой части задания)"
      ]
    },
    {
      "cell_type": "markdown",
      "id": "eab2206d-d95b-468b-8e5f-34381abf0ce7",
      "metadata": {
        "id": "eab2206d-d95b-468b-8e5f-34381abf0ce7"
      },
      "source": [
        "#### 4. Напишите запрос для подсчёта **количества** работодателей, у которых *не указана сфера деятельности*. "
      ]
    },
    {
      "cell_type": "code",
      "execution_count": 105,
      "id": "50817add",
      "metadata": {},
      "outputs": [],
      "source": [
        "# текст запроса\n",
        "query_5_4 = f'''\n",
        "select\n",
        "    count(distinct e.id) cnt -- подсчет уникального кол-ва работодателей\n",
        "from employers e\n",
        "    full join employers_industries ei on e.id = ei.employer_id /* соединение таблиц по full join, \n",
        "        чтобы не потерять работодателей без сферы деятельности */\n",
        "where ei.employer_id is null /* фильтрация соединенной таблицы \n",
        "        (оставляем только работодателей без указанной сферы деятельности) */\n",
        "'''"
      ]
    },
    {
      "cell_type": "code",
      "execution_count": 106,
      "id": "ae141847",
      "metadata": {},
      "outputs": [
        {
          "name": "stdout",
          "output_type": "stream",
          "text": [
            "Количество работодателей, у которых не указана сфера деятельности: 8419 \n"
          ]
        }
      ],
      "source": [
        "# результат запроса\n",
        "df_5_4 = pd.read_sql_query(query_5_4, connection)\n",
        "# display(df_5_4) # проверка dataframe\n",
        "print(f\"Количество работодателей, у которых не указана сфера деятельности: \\\n",
        "{df_5_4['cnt'][0]} \") # вывод ответа"
      ]
    },
    {
      "cell_type": "markdown",
      "id": "0112af31-f6b0-4e3b-82ab-71296e752e5e",
      "metadata": {
        "id": "0112af31-f6b0-4e3b-82ab-71296e752e5e"
      },
      "source": [
        "#### 5. Напишите запрос, чтобы узнать **название компании**, находящейся на *третьем* месте в *алфавитном списке* (по названию) компаний, у которых указано **четыре** сферы деятельности. "
      ]
    },
    {
      "cell_type": "code",
      "execution_count": 107,
      "id": "973b0cfc-a972-470a-8b4a-68744ef220c4",
      "metadata": {
        "id": "973b0cfc-a972-470a-8b4a-68744ef220c4"
      },
      "outputs": [],
      "source": [
        "# текст запроса\n",
        "query_5_5 = f'''\n",
        "select\n",
        "    e.name empl_name,\n",
        "    count(ei.industry_id) cnt_industry -- подсчет кол-ва сфер деятельности\n",
        "from employers e\n",
        "    join employers_industries ei on e.id = ei.employer_id -- соединение таблиц\n",
        "group by e.id\n",
        "having count(ei.industry_id) = 4\n",
        "order by empl_name\n",
        "limit 3\n",
        "'''"
      ]
    },
    {
      "cell_type": "code",
      "execution_count": 108,
      "id": "xsPtpp8EsaED",
      "metadata": {
        "id": "xsPtpp8EsaED"
      },
      "outputs": [
        {
          "name": "stdout",
          "output_type": "stream",
          "text": [
            "2ГИС находится на третьем месте в алфавитном списке (по названию) компаний, у которых указано четыре сферы деятельности.\n"
          ]
        },
        {
          "data": {
            "text/html": [
              "<div>\n",
              "<style scoped>\n",
              "    .dataframe tbody tr th:only-of-type {\n",
              "        vertical-align: middle;\n",
              "    }\n",
              "\n",
              "    .dataframe tbody tr th {\n",
              "        vertical-align: top;\n",
              "    }\n",
              "\n",
              "    .dataframe thead th {\n",
              "        text-align: right;\n",
              "    }\n",
              "</style>\n",
              "<table border=\"1\" class=\"dataframe\">\n",
              "  <thead>\n",
              "    <tr style=\"text-align: right;\">\n",
              "      <th></th>\n",
              "      <th>empl_name</th>\n",
              "      <th>cnt_industry</th>\n",
              "    </tr>\n",
              "  </thead>\n",
              "  <tbody>\n",
              "    <tr>\n",
              "      <th>0</th>\n",
              "      <td>101 Интернет</td>\n",
              "      <td>4</td>\n",
              "    </tr>\n",
              "    <tr>\n",
              "      <th>1</th>\n",
              "      <td>21vek.by</td>\n",
              "      <td>4</td>\n",
              "    </tr>\n",
              "    <tr>\n",
              "      <th>2</th>\n",
              "      <td>2ГИС</td>\n",
              "      <td>4</td>\n",
              "    </tr>\n",
              "  </tbody>\n",
              "</table>\n",
              "</div>"
            ],
            "text/plain": [
              "      empl_name  cnt_industry\n",
              "0  101 Интернет             4\n",
              "1      21vek.by             4\n",
              "2          2ГИС             4"
            ]
          },
          "metadata": {},
          "output_type": "display_data"
        }
      ],
      "source": [
        "# результат запроса\n",
        "df_5_5 = pd.read_sql_query(query_5_5, connection)\n",
        "print(f\"{df_5_5['empl_name'][2]} находится на третьем месте в алфавитном списке (по названию) \\\n",
        "компаний, у которых указано четыре сферы деятельности.\") # вывод ответа\n",
        "display(df_5_5) # вывод dataframe"
      ]
    },
    {
      "cell_type": "markdown",
      "id": "3bfcfdaf-755d-4d2b-8ed8-326201dc07ab",
      "metadata": {
        "id": "3bfcfdaf-755d-4d2b-8ed8-326201dc07ab"
      },
      "source": [
        "#### 6. С помощью запроса выясните, у какого количества работодателей в качестве сферы деятельности указана **\"Разработка программного обеспечения\"**.\n"
      ]
    },
    {
      "cell_type": "code",
      "execution_count": 109,
      "id": "ad3f270f-2991-47eb-929b-e8f88a55b0d1",
      "metadata": {
        "id": "ad3f270f-2991-47eb-929b-e8f88a55b0d1"
      },
      "outputs": [],
      "source": [
        "# текст запроса\n",
        "query_5_6 = f'''\n",
        "select\n",
        "    count(ei.employer_id) cnt_empl -- подсчет кол-ва работодателей\n",
        "from industries i\n",
        "    join employers_industries ei on i.id = ei.industry_id -- соединение таблиц\n",
        "group by i.name -- группировка по сфере деятельности\n",
        "having i.name = 'Разработка программного обеспечения' -- фильтр по критерию\n",
        "'''"
      ]
    },
    {
      "cell_type": "code",
      "execution_count": 110,
      "id": "H72qxWM0shPR",
      "metadata": {
        "id": "H72qxWM0shPR"
      },
      "outputs": [
        {
          "name": "stdout",
          "output_type": "stream",
          "text": [
            "Сфера деятельности «Разработка программного обеспечения» указана у 3553 компаний\n"
          ]
        }
      ],
      "source": [
        "# результат запроса\n",
        "df_5_6 = pd.read_sql_query(query_5_6, connection)\n",
        "# display(df_5_6) # проверка dataframe\n",
        "print(f\"Сфера деятельности «Разработка программного обеспечения» \\\n",
        "указана у {df_5_6.iloc[0][0]} компаний\") # вывод ответа"
      ]
    },
    {
      "cell_type": "markdown",
      "id": "7b02bb86-0546-40fb-94a4-242f050a5c57",
      "metadata": {
        "id": "7b02bb86-0546-40fb-94a4-242f050a5c57"
      },
      "source": [
        "#### 7. Для компании «Яндекс» выведите список регионов-миллионников, в которых представлены вакансии компании, вместе с количеством вакансий в этих регионах. Также добавьте строку Total с общим количеством вакансий компании. Результат отсортируйте по возрастанию количества.\n",
        "\n",
        "Список городов-милионников надо взять [отсюда](https://ru.wikipedia.org/wiki/%D0%93%D0%BE%D1%80%D0%BE%D0%B4%D0%B0-%D0%BC%D0%B8%D0%BB%D0%BB%D0%B8%D0%BE%D0%BD%D0%B5%D1%80%D1%8B_%D0%A0%D0%BE%D1%81%D1%81%D0%B8%D0%B8). \n",
        "\n",
        "Если возникнут трудности с этим задание посмотрите материалы модуля  PYTHON-17. Как получать данные из веб-источников и API. "
      ]
    },
    {
      "cell_type": "code",
      "execution_count": 111,
      "id": "ZdfrL6gIs1Pn",
      "metadata": {
        "id": "ZdfrL6gIs1Pn"
      },
      "outputs": [],
      "source": [
        "# код для получения списка городов-милионников\n",
        "import requests  # Импортируем библиотеку requests\n",
        "from bs4 import BeautifulSoup # Импортируем библиотеку BeautifulSoup\n",
        "# Определяем значение URL страницы для запроса\n",
        "url = 'https://ru.wikipedia.org/wiki/Города-миллионеры_России'\n",
        "response = requests.get(url) # Выполняем GET-запрос, содержимое ответа присваивается переменной response\n",
        "soup = BeautifulSoup(response.text, 'html.parser') # Создаём объект BeautifulSoup, указывая html-парсер\n",
        "city_list =[]\n",
        "# цикл по строкам таблицы, где 'tr' - table row, 'td' - table data, [1] - 2я колонка\n",
        "for items in soup.find('table', class_='standard sortable').find_all('tr')[1::1]: \n",
        "    data = items.find_all(['td'])\n",
        "    try:\n",
        "        city = data[1].a.text\n",
        "    except IndexError: \n",
        "        pass\n",
        "    # print(city) # проверка работы цикла\n",
        "    city_list.append(city)\n",
        "city_tuple = tuple(city_list)\n",
        "# print(city_tuple) # проверка кортежа с городами - миллиониками"
      ]
    },
    {
      "cell_type": "code",
      "execution_count": 112,
      "id": "5a0e32a4-e68a-4365-8a39-2fe24c542c36",
      "metadata": {
        "id": "5a0e32a4-e68a-4365-8a39-2fe24c542c36"
      },
      "outputs": [],
      "source": [
        "# текст запроса\n",
        "query_5_7 = f'''\n",
        "select\n",
        "    a.name,\n",
        "    count(v.id) cnt -- подсчет общего кол-ва вакансий\n",
        "from employers e\n",
        "    join vacancies v on e.id = v.employer_id \n",
        "    join areas a on a.id = v.area_id\n",
        "where e.name = 'Яндекс' and a.name in {city_tuple} -- фильтр по \"Яндекс\" и кортежу с городами\n",
        "group by a.name -- группировка по отфильтрованным городам\n",
        "\n",
        "union -- объединение таблицы со строкой Total\n",
        "\n",
        "select\n",
        "    'Total',\n",
        "    count(v.id) -- подсчет общего кол-ва вакансий\n",
        "from employers e\n",
        "    join vacancies v on e.id = v.employer_id\n",
        "    join areas a on a.id = v.area_id\n",
        "where e.name = 'Яндекс' and a.name in {city_tuple} -- фильтр по \"Яндекс\" и кортежу с городами\n",
        "order by cnt -- сортировка по cnt\n",
        "'''"
      ]
    },
    {
      "cell_type": "code",
      "execution_count": 113,
      "id": "ttPhiO1rsvPq",
      "metadata": {
        "id": "ttPhiO1rsvPq"
      },
      "outputs": [
        {
          "name": "stdout",
          "output_type": "stream",
          "text": [
            "Кол-во строк в выборке: 17\n",
            "Результат в строке Total: 485\n"
          ]
        },
        {
          "data": {
            "text/html": [
              "<div>\n",
              "<style scoped>\n",
              "    .dataframe tbody tr th:only-of-type {\n",
              "        vertical-align: middle;\n",
              "    }\n",
              "\n",
              "    .dataframe tbody tr th {\n",
              "        vertical-align: top;\n",
              "    }\n",
              "\n",
              "    .dataframe thead th {\n",
              "        text-align: right;\n",
              "    }\n",
              "</style>\n",
              "<table border=\"1\" class=\"dataframe\">\n",
              "  <thead>\n",
              "    <tr style=\"text-align: right;\">\n",
              "      <th></th>\n",
              "      <th>name</th>\n",
              "      <th>cnt</th>\n",
              "    </tr>\n",
              "  </thead>\n",
              "  <tbody>\n",
              "    <tr>\n",
              "      <th>0</th>\n",
              "      <td>Омск</td>\n",
              "      <td>21</td>\n",
              "    </tr>\n",
              "    <tr>\n",
              "      <th>1</th>\n",
              "      <td>Челябинск</td>\n",
              "      <td>22</td>\n",
              "    </tr>\n",
              "    <tr>\n",
              "      <th>2</th>\n",
              "      <td>Красноярск</td>\n",
              "      <td>23</td>\n",
              "    </tr>\n",
              "    <tr>\n",
              "      <th>3</th>\n",
              "      <td>Волгоград</td>\n",
              "      <td>24</td>\n",
              "    </tr>\n",
              "    <tr>\n",
              "      <th>4</th>\n",
              "      <td>Пермь</td>\n",
              "      <td>25</td>\n",
              "    </tr>\n",
              "    <tr>\n",
              "      <th>5</th>\n",
              "      <td>Казань</td>\n",
              "      <td>25</td>\n",
              "    </tr>\n",
              "    <tr>\n",
              "      <th>6</th>\n",
              "      <td>Ростов-на-Дону</td>\n",
              "      <td>25</td>\n",
              "    </tr>\n",
              "    <tr>\n",
              "      <th>7</th>\n",
              "      <td>Уфа</td>\n",
              "      <td>26</td>\n",
              "    </tr>\n",
              "    <tr>\n",
              "      <th>8</th>\n",
              "      <td>Самара</td>\n",
              "      <td>26</td>\n",
              "    </tr>\n",
              "    <tr>\n",
              "      <th>9</th>\n",
              "      <td>Краснодар</td>\n",
              "      <td>30</td>\n",
              "    </tr>\n",
              "    <tr>\n",
              "      <th>10</th>\n",
              "      <td>Воронеж</td>\n",
              "      <td>32</td>\n",
              "    </tr>\n",
              "    <tr>\n",
              "      <th>11</th>\n",
              "      <td>Новосибирск</td>\n",
              "      <td>35</td>\n",
              "    </tr>\n",
              "    <tr>\n",
              "      <th>12</th>\n",
              "      <td>Нижний Новгород</td>\n",
              "      <td>36</td>\n",
              "    </tr>\n",
              "    <tr>\n",
              "      <th>13</th>\n",
              "      <td>Екатеринбург</td>\n",
              "      <td>39</td>\n",
              "    </tr>\n",
              "    <tr>\n",
              "      <th>14</th>\n",
              "      <td>Санкт-Петербург</td>\n",
              "      <td>42</td>\n",
              "    </tr>\n",
              "    <tr>\n",
              "      <th>15</th>\n",
              "      <td>Москва</td>\n",
              "      <td>54</td>\n",
              "    </tr>\n",
              "    <tr>\n",
              "      <th>16</th>\n",
              "      <td>Total</td>\n",
              "      <td>485</td>\n",
              "    </tr>\n",
              "  </tbody>\n",
              "</table>\n",
              "</div>"
            ],
            "text/plain": [
              "               name  cnt\n",
              "0              Омск   21\n",
              "1         Челябинск   22\n",
              "2        Красноярск   23\n",
              "3         Волгоград   24\n",
              "4             Пермь   25\n",
              "5            Казань   25\n",
              "6    Ростов-на-Дону   25\n",
              "7               Уфа   26\n",
              "8            Самара   26\n",
              "9         Краснодар   30\n",
              "10          Воронеж   32\n",
              "11      Новосибирск   35\n",
              "12  Нижний Новгород   36\n",
              "13     Екатеринбург   39\n",
              "14  Санкт-Петербург   42\n",
              "15           Москва   54\n",
              "16            Total  485"
            ]
          },
          "metadata": {},
          "output_type": "display_data"
        }
      ],
      "source": [
        "# результат запроса\n",
        "df_5_7 = pd.read_sql_query(query_5_7, connection)\n",
        "print(f\"Кол-во строк в выборке: {df_5_7.shape[0]}\\n\\\n",
        "Результат в строке Total: {df_5_7.iloc[-1,1]}\") # вывод ответа\n",
        "display(df_5_7) # вывод dataframe"
      ]
    },
    {
      "cell_type": "markdown",
      "id": "04966e40-3bc3-4dc8-9ba2-e80580ce3abc",
      "metadata": {
        "id": "04966e40-3bc3-4dc8-9ba2-e80580ce3abc"
      },
      "source": [
        "***"
      ]
    },
    {
      "attachments": {},
      "cell_type": "markdown",
      "id": "698dd000",
      "metadata": {},
      "source": [
        "#### **<span style=color:green>Юнит 5. Выводы по анализу работодателей**\n",
        "\n",
        "После анализа работодателей можно сделать следующие предварительные выводы:\n",
        "* Работодатели преимущественно размещают свои вакансии в городах-миллионниках и столицах\n",
        "  >*Это можно объяснить тем, что там обычно располагается большинство крупных компаний, административных учреждений и бизнес-центров.*\n",
        "* Среди работодателей топ-5 лидеров по количеству размещенных вакансий занимают такие компании, как \"Яндекс\", \"Ростелеком\", \"Сбер\", \"Тинькофф и Газпром\n",
        "  >*Это также вполне ожидаемо, ведь это одни из крупнейших работодателей, имеющих развитую сеть филиалов/представительств и специализирующихся на нескольких смежных областях.* \n",
        "* Стоит отметить, что данные были собраны не очень аккуратно. *Для примера, формат указание региона регистрации компании явно не был согласован - кто-то указал только страну, другие - название конкретного региона, а третьи - конкретный город. \n",
        "  >*Это создает дополнительные сложности в процесс анализа данных и может привести к некорректным результатам. Например, мы получили, что у нас в Ростовской области нет вакансий, в то время как в одном Ростове-на-Дону есть 25 вакансий компании \"Яндекс\".* \n",
        "* *Дополнительно, отсутствие данных о сфере деятельности у 36% работодателей также создает ограничения по детализации анализа сфер деятельности.*"
      ]
    },
    {
      "cell_type": "markdown",
      "id": "f2c5e1d2",
      "metadata": {},
      "source": [
        "***"
      ]
    },
    {
      "cell_type": "markdown",
      "id": "b1ef156a-efcb-49ce-bb23-90763e7f35b2",
      "metadata": {
        "id": "b1ef156a-efcb-49ce-bb23-90763e7f35b2",
        "tags": []
      },
      "source": [
        "# Юнит 6. Предметный анализ"
      ]
    },
    {
      "cell_type": "markdown",
      "id": "b9cd50a0-992d-4988-8463-2b2b1c4629b4",
      "metadata": {
        "id": "b9cd50a0-992d-4988-8463-2b2b1c4629b4"
      },
      "source": [
        "#### 1. Сколько вакансий имеет отношение к данным?\n",
        "\n",
        "Считаем, что вакансия имеет отношение к данным, если в её названии содержатся слова 'data' или 'данн'.\n",
        "\n",
        ">*Подсказка: Обратите внимание, что названия вакансий могут быть написаны в любом регистре.* \n"
      ]
    },
    {
      "cell_type": "code",
      "execution_count": 114,
      "id": "54ab0e50-c0f1-47cc-a54b-bc5c8bc363f9",
      "metadata": {
        "id": "54ab0e50-c0f1-47cc-a54b-bc5c8bc363f9"
      },
      "outputs": [],
      "source": [
        "# текст запроса\n",
        "query_6_1 = f'''\n",
        "select\n",
        "    count(id) cnt -- подсчет кол-ва вакансий\n",
        "from vacancies\n",
        "where lower(name) like '%data%'\n",
        "    or lower(name) like '%данн%' /* перевод названий вакансий в нижний регистр и проверка на\n",
        "        вхождение элементов слов 'data' или 'данн' */\n",
        "'''"
      ]
    },
    {
      "cell_type": "code",
      "execution_count": 115,
      "id": "9F1meAqsuUjd",
      "metadata": {
        "id": "9F1meAqsuUjd"
      },
      "outputs": [
        {
          "name": "stdout",
          "output_type": "stream",
          "text": [
            "1771 вакансий имеют отношение к данным\n"
          ]
        }
      ],
      "source": [
        "# результат запроса\n",
        "df_6_1 = pd.read_sql_query(query_6_1, connection)\n",
        "# display(df_6_1) # проверка dataframe\n",
        "print(f\"{df_6_1.iloc[0,0]} вакансий имеют отношение к данным\") # вывод ответа"
      ]
    },
    {
      "cell_type": "markdown",
      "id": "4dea20cb-a36b-474a-a0b9-e08e8e3857a5",
      "metadata": {
        "id": "4dea20cb-a36b-474a-a0b9-e08e8e3857a5"
      },
      "source": [
        "#### 2. Сколько есть подходящих вакансий для начинающего дата-сайентиста? \n",
        "Будем считать вакансиями для дата-сайентистов такие, в названии которых есть хотя бы одно из следующих сочетаний:\n",
        "* 'data scientist'\n",
        "* 'data science'\n",
        "* 'исследователь данных'\n",
        "* 'ML' (здесь не нужно брать вакансии по HTML)\n",
        "* 'machine learning'\n",
        "* 'машинн%обучен%'\n",
        "\n",
        "* В следующих заданиях мы продолжим работать с вакансиями по этому условию.\n",
        "\n",
        "Считаем вакансиями для специалистов уровня Junior следующие:\n",
        "* в названии есть слово 'junior' *или*\n",
        "* требуемый опыт — Нет опыта *или*\n",
        "* тип трудоустройства — Стажировка.\n",
        " "
      ]
    },
    {
      "cell_type": "code",
      "execution_count": 116,
      "id": "9c61b3c0-bb66-46c9-ae1e-81d3f5752b4a",
      "metadata": {
        "id": "9c61b3c0-bb66-46c9-ae1e-81d3f5752b4a"
      },
      "outputs": [],
      "source": [
        "# сохраним текст запроса вакансий дата-сайентистов для сдедующих заданий\n",
        "ds_vacancies = f'''\n",
        "select *\n",
        "from vacancies \n",
        "where lower(name) like '%data scientist%'\n",
        "    or lower(name) like '%data science%'\n",
        "    or lower(name) like '%исследователь данных%'\n",
        "    or (name like '%ML%' and name not like '%HTML%')\n",
        "    or lower(name) like '%machine learning%'\n",
        "    or lower(name) like '%машинн%обучен%'\n",
        "'''"
      ]
    },
    {
      "cell_type": "code",
      "execution_count": 117,
      "id": "ccff4dc3",
      "metadata": {},
      "outputs": [],
      "source": [
        "# текст запроса\n",
        "query_6_2 = f'''\n",
        "select\n",
        "    count(*) cnt -- подсчет кол-ва вакансий\n",
        "from -- используем код запроса для фильтра вакансий дата-сайентистов в качестве подзапроса\n",
        "    (select *\n",
        "    from vacancies \n",
        "    where lower(name) like '%data scientist%' -- критерии отбора вакансий дата-сайентистов\n",
        "        or lower(name) like '%data science%'\n",
        "        or lower(name) like '%исследователь данных%'\n",
        "        or (name like '%ML%' and name not like '%HTML%')\n",
        "        or lower(name) like '%machine learning%'\n",
        "        or lower(name) like '%машинн%обучен%') as ds\n",
        "where lower(ds.name) like '%junior%' -- дополнительные критерии отбора junior\n",
        "    or ds.experience = 'Нет опыта'\n",
        "    or ds.employment = 'Стажировка'\n",
        "'''"
      ]
    },
    {
      "cell_type": "code",
      "execution_count": 118,
      "id": "ZNM-LLYuu1dj",
      "metadata": {
        "id": "ZNM-LLYuu1dj"
      },
      "outputs": [
        {
          "name": "stdout",
          "output_type": "stream",
          "text": [
            "51 подходящих вакансий для начинающего дата-сайентиста\n"
          ]
        }
      ],
      "source": [
        "# результат запроса\n",
        "df_6_2 = pd.read_sql_query(query_6_2, connection)\n",
        "# display(df_6_2) # проверка dataframe\n",
        "print(f\"{df_6_2.iloc[0,0]} подходящих вакансий для начинающего дата-сайентиста\") # вывод ответа"
      ]
    },
    {
      "cell_type": "markdown",
      "id": "eedceb80-c5ca-480e-b27a-278dfb8b4438",
      "metadata": {
        "id": "eedceb80-c5ca-480e-b27a-278dfb8b4438"
      },
      "source": [
        "#### 3. Сколько есть вакансий для DS, в которых в качестве ключевого навыка указан SQL или postgres?\n",
        "\n",
        ">*Критерии для отнесения вакансии к DS указаны в предыдущем задании.*"
      ]
    },
    {
      "cell_type": "code",
      "execution_count": 119,
      "id": "69621713-0cc5-4f1b-a1d7-bb144fa6148c",
      "metadata": {
        "id": "69621713-0cc5-4f1b-a1d7-bb144fa6148c"
      },
      "outputs": [],
      "source": [
        "# текст запроса\n",
        "query_6_3 = f'''\n",
        "select\n",
        "    count(*) cnt -- подсчет кол-ва вакансий\n",
        "from -- используем код запроса для фильтра вакансий дата-сайентистов в качестве подзапроса\n",
        "    (select *\n",
        "    from vacancies \n",
        "    where lower(name) like '%data scientist%' -- критерии отбора вакансий дата-сайентистов\n",
        "        or lower(name) like '%data science%'\n",
        "        or lower(name) like '%исследователь данных%'\n",
        "        or (name like '%ML%' and name not like '%HTML%')\n",
        "        or lower(name) like '%machine learning%'\n",
        "        or lower(name) like '%машинн%обучен%') as ds\n",
        "where lower(ds.key_skills) like '%sql%' -- дополнительные критерии отбора SQL или postgres\n",
        "    or lower(ds.key_skills) like '%postgres%'\n",
        "'''"
      ]
    },
    {
      "cell_type": "code",
      "execution_count": 120,
      "id": "alA8WEAAvGdf",
      "metadata": {
        "id": "alA8WEAAvGdf"
      },
      "outputs": [
        {
          "name": "stdout",
          "output_type": "stream",
          "text": [
            "201 вакансий для DS, в которых в качестве ключевого навыка указан SQL или postgres\n"
          ]
        }
      ],
      "source": [
        "# результат запроса\n",
        "df_6_3 = pd.read_sql_query(query_6_3, connection)\n",
        "# display(df_6_3) # проверка dataframe\n",
        "print(f\"{df_6_3.iloc[0,0]} вакансий для DS, \\\n",
        "в которых в качестве ключевого навыка указан SQL или postgres\") # вывод ответа"
      ]
    },
    {
      "attachments": {},
      "cell_type": "markdown",
      "id": "1be1e9c6-37cf-4a5f-bfeb-04cab799dc80",
      "metadata": {
        "id": "1be1e9c6-37cf-4a5f-bfeb-04cab799dc80"
      },
      "source": [
        "#### 4. Проверьте, насколько популярен Python в требованиях работодателей к DS. Для этого вычислите количество вакансий, в которых в качестве ключевого навыка указан Python.\n",
        "\n",
        ">*Это можно сделать помощью запроса, аналогичного предыдущему.*"
      ]
    },
    {
      "cell_type": "code",
      "execution_count": 121,
      "id": "0036a355-9ccf-4564-8b01-73d8194297e7",
      "metadata": {
        "id": "0036a355-9ccf-4564-8b01-73d8194297e7"
      },
      "outputs": [],
      "source": [
        "# текст запроса\n",
        "query_6_4 = f'''\n",
        "select\n",
        "    count(*) cnt -- подсчет кол-ва вакансий\n",
        "from -- используем код запроса для фильтра вакансий дата-сайентистов в качестве подзапроса\n",
        "    (select *\n",
        "    from vacancies \n",
        "    where lower(name) like '%data scientist%' -- критерии отбора вакансий дата-сайентистов\n",
        "        or lower(name) like '%data science%'\n",
        "        or lower(name) like '%исследователь данных%'\n",
        "        or (name like '%ML%' and name not like '%HTML%')\n",
        "        or lower(name) like '%machine learning%'\n",
        "        or lower(name) like '%машинн%обучен%') as ds_vacancies\n",
        "where lower(key_skills) like '%python%' -- дополнительный критерий отбора Python\n",
        "'''"
      ]
    },
    {
      "cell_type": "code",
      "execution_count": 122,
      "id": "1i-5WyucvQ6v",
      "metadata": {
        "id": "1i-5WyucvQ6v"
      },
      "outputs": [
        {
          "name": "stdout",
          "output_type": "stream",
          "text": [
            "Кол-во вакансий, в которых в качестве ключевого навыка указан Python: 351\n"
          ]
        }
      ],
      "source": [
        "# результат запроса\n",
        "df_6_4 = pd.read_sql_query(query_6_4, connection)\n",
        "# display(df_6_4) # проверка dataframe\n",
        "print(f\"Кол-во вакансий, в которых в качестве ключевого навыка указан \\\n",
        "Python: {df_6_4.iloc[0,0]}\") # вывод ответа"
      ]
    },
    {
      "cell_type": "markdown",
      "id": "ec3c8db7-fa21-4a41-a994-1af63742a642",
      "metadata": {
        "id": "ec3c8db7-fa21-4a41-a994-1af63742a642"
      },
      "source": [
        "#### 5. Сколько ключевых навыков в среднем указывают в вакансиях для DS?\n",
        "Ответ округлите до двух знаков после точки-разделителя."
      ]
    },
    {
      "cell_type": "code",
      "execution_count": 123,
      "id": "949132bc-d5b6-4611-8218-0b9a504d74f4",
      "metadata": {
        "id": "949132bc-d5b6-4611-8218-0b9a504d74f4"
      },
      "outputs": [],
      "source": [
        "# текст запроса\n",
        "query_6_5 = f'''\n",
        "select\n",
        "    round( -- округление рез-та до 2 знаков\n",
        "        avg( -- расчет средней\n",
        "            length(ds.key_skills) - length(replace(ds.key_skills, chr(9), '')) + 1 -- замена chr(9) = \\t на '' \n",
        "        ), 2\n",
        "    )\n",
        "from -- используем код запроса для фильтра вакансий дата-сайентистов в качестве подзапроса\n",
        "    (select *\n",
        "    from vacancies \n",
        "    where lower(name) like '%data scientist%' -- критерии отбора вакансий дата-сайентистов\n",
        "        or lower(name) like '%data science%'\n",
        "        or lower(name) like '%исследователь данных%'\n",
        "        or (name like '%ML%' and name not like '%HTML%')\n",
        "        or lower(name) like '%machine learning%'\n",
        "        or lower(name) like '%машинн%обучен%') as ds\n",
        "'''"
      ]
    },
    {
      "cell_type": "code",
      "execution_count": 124,
      "id": "a3V24Tvmviqk",
      "metadata": {
        "id": "a3V24Tvmviqk"
      },
      "outputs": [
        {
          "name": "stdout",
          "output_type": "stream",
          "text": [
            "6.41 ключевых навыков в среднем указывают в вакансиях для DS\n"
          ]
        }
      ],
      "source": [
        "# результат запроса\n",
        "df_6_5 = pd.read_sql_query(query_6_5, connection)\n",
        "# display(df_6_5) # проверка dataframe\n",
        "print(f\"{df_6_5.iloc[0,0]} ключевых навыков в среднем указывают в вакансиях для DS\") # вывод ответа"
      ]
    },
    {
      "cell_type": "markdown",
      "id": "1041c17a-ca8f-4543-a0ca-32778914fb00",
      "metadata": {
        "id": "1041c17a-ca8f-4543-a0ca-32778914fb00"
      },
      "source": [
        "#### 6. Напишите запрос, позволяющий вычислить, какую зарплату для DS в **среднем** указывают для каждого типа требуемого опыта (уникальное значение из поля *experience*). \n",
        "\n",
        "При решении задачи примите во внимание следующее:\n",
        "1. Рассматриваем только вакансии, у которых заполнено хотя бы одно из двух полей с зарплатой.\n",
        "2. Если заполнены оба поля с зарплатой, то считаем зарплату по каждой вакансии как сумму двух полей, делённую на 2. Если заполнено только одно из полей, то его и считаем зарплатой по вакансии.\n",
        "3. Если в расчётах участвует null, в результате он тоже даст null (посмотрите, что возвращает запрос select 1 + null). Чтобы избежать этой ситуацию, мы воспользуемся функцией [coalesce](https://postgrespro.ru/docs/postgresql/9.5/functions-conditional#functions-coalesce-nvl-ifnull), которая заменит null на значение, которое мы передадим. Например, посмотрите, что возвращает запрос `select 1 + coalesce(null, 0)`\n",
        "\n",
        "#### Выясните, на какую зарплату в среднем может рассчитывать дата-сайентист с опытом работы от 3 до 6 лет. Результат округлите до **целого** числа. "
      ]
    },
    {
      "cell_type": "code",
      "execution_count": 125,
      "id": "6a743d39-5204-48d3-8271-b9f88e68d40e",
      "metadata": {
        "id": "6a743d39-5204-48d3-8271-b9f88e68d40e"
      },
      "outputs": [],
      "source": [
        "# текст запроса\n",
        "query_6_6 = f'''\n",
        "select\n",
        "    ds.experience,\n",
        "    round( -- округляем до целого значения\n",
        "        avg( -- агрегируем среднее значение\n",
        "            case -- используем выбор по условию для поиска средней э/п (from - to)  \n",
        "                when ds.salary_from is not null and ds.salary_to is not null\n",
        "                    then (ds.salary_from + ds.salary_to) / 2\n",
        "                when ds.salary_from is not null \n",
        "                    then ds.salary_from\n",
        "                else ds.salary_to\n",
        "            end), 0) as avg_salary\n",
        "from -- используем код запроса для фильтра вакансий дата-сайентистов в качестве подзапроса\n",
        "    (select *\n",
        "    from vacancies \n",
        "    where lower(name) like '%data scientist%' -- критерии отбора вакансий дата-сайентистов\n",
        "        or lower(name) like '%data science%'\n",
        "        or lower(name) like '%исследователь данных%'\n",
        "        or (name like '%ML%' and name not like '%HTML%')\n",
        "        or lower(name) like '%machine learning%'\n",
        "        or lower(name) like '%машинн%обучен%') as ds\n",
        "where coalesce(ds.salary_from, 0) > 0 \n",
        "    or coalesce(ds.salary_to, 0) > 0\n",
        "group by experience\n",
        "'''"
      ]
    },
    {
      "cell_type": "code",
      "execution_count": 126,
      "id": "aRIJ0mZEwU1_",
      "metadata": {
        "id": "aRIJ0mZEwU1_"
      },
      "outputs": [
        {
          "name": "stdout",
          "output_type": "stream",
          "text": [
            "Дата-сайентист с опытом работы от 3 до 6 лет в среднем может рассчитывать на з/п 243115.0 руб.\n"
          ]
        },
        {
          "data": {
            "text/html": [
              "<div>\n",
              "<style scoped>\n",
              "    .dataframe tbody tr th:only-of-type {\n",
              "        vertical-align: middle;\n",
              "    }\n",
              "\n",
              "    .dataframe tbody tr th {\n",
              "        vertical-align: top;\n",
              "    }\n",
              "\n",
              "    .dataframe thead th {\n",
              "        text-align: right;\n",
              "    }\n",
              "</style>\n",
              "<table border=\"1\" class=\"dataframe\">\n",
              "  <thead>\n",
              "    <tr style=\"text-align: right;\">\n",
              "      <th></th>\n",
              "      <th>experience</th>\n",
              "      <th>avg_salary</th>\n",
              "    </tr>\n",
              "  </thead>\n",
              "  <tbody>\n",
              "    <tr>\n",
              "      <th>0</th>\n",
              "      <td>Нет опыта</td>\n",
              "      <td>74643.0</td>\n",
              "    </tr>\n",
              "    <tr>\n",
              "      <th>1</th>\n",
              "      <td>От 1 года до 3 лет</td>\n",
              "      <td>139675.0</td>\n",
              "    </tr>\n",
              "    <tr>\n",
              "      <th>2</th>\n",
              "      <td>От 3 до 6 лет</td>\n",
              "      <td>243115.0</td>\n",
              "    </tr>\n",
              "  </tbody>\n",
              "</table>\n",
              "</div>"
            ],
            "text/plain": [
              "           experience  avg_salary\n",
              "0           Нет опыта     74643.0\n",
              "1  От 1 года до 3 лет    139675.0\n",
              "2       От 3 до 6 лет    243115.0"
            ]
          },
          "metadata": {},
          "output_type": "display_data"
        }
      ],
      "source": [
        "# результат запроса\n",
        "df_6_6 = pd.read_sql_query(query_6_6, connection)\n",
        "print(f\"Дата-сайентист с опытом работы от 3 до 6 лет в среднем может рассчитывать на з/п \\\n",
        "{df_6_6['avg_salary'][2]} руб.\") # вывод ответа\n",
        "display(df_6_6) # вывод dataframe"
      ]
    },
    {
      "cell_type": "markdown",
      "id": "6a7892b4-4113-4746-adce-18aa2844f18e",
      "metadata": {
        "id": "6a7892b4-4113-4746-adce-18aa2844f18e"
      },
      "source": [
        "***"
      ]
    },
    {
      "attachments": {},
      "cell_type": "markdown",
      "id": "af2c2275",
      "metadata": {},
      "source": [
        "#### **<span style=color:green>Дополнительные исслелования:**\n",
        "#### 7. Выясним, как часто от специалистов по Data Science работодатели требуют знания Python и SQL/Postgres\n",
        "*Рассматриваются только вакансии Data Science с заполненными навыками (key_skills != null)*"
      ]
    },
    {
      "cell_type": "code",
      "execution_count": 127,
      "id": "92b27bc5",
      "metadata": {},
      "outputs": [],
      "source": [
        "# текст запроса\n",
        "query_6_7 = f'''\n",
        "select\n",
        "    'Python' ds_skill, \n",
        "    count(*) cnt -- кол-во вакансий DS с требуемым навыком Python\n",
        "from -- используем код запроса для фильтра вакансий дата-сайентистов в качестве подзапроса\n",
        "    (select *\n",
        "    from vacancies \n",
        "    where lower(name) like '%data scientist%' -- критерии отбора вакансий дата-сайентистов\n",
        "        or lower(name) like '%data science%'\n",
        "        or lower(name) like '%исследователь данных%'\n",
        "        or (name like '%ML%' and name not like '%HTML%')\n",
        "        or lower(name) like '%machine learning%'\n",
        "        or lower(name) like '%машинн%обучен%') as ds\n",
        "where lower(ds.key_skills) like '%python%'\n",
        "group by ds_skill\n",
        "\n",
        "union \n",
        "\n",
        "select\n",
        "    'SQL/Postgres' ds_skill,\n",
        "    count(*) cnt -- кол-во вакансий DS с требуемым навыком SQL или postgres\n",
        "from -- используем код запроса для фильтра вакансий дата-сайентистов в качестве подзапроса\n",
        "    (select *\n",
        "    from vacancies \n",
        "    where lower(name) like '%data scientist%' -- критерии отбора вакансий дата-сайентистов\n",
        "        or lower(name) like '%data science%'\n",
        "        or lower(name) like '%исследователь данных%'\n",
        "        or (name like '%ML%' and name not like '%HTML%')\n",
        "        or lower(name) like '%machine learning%'\n",
        "        or lower(name) like '%машинн%обучен%') as ds\n",
        "where lower(ds.key_skills) like '%sql%'\n",
        "    or lower(ds.key_skills) like '%postgres%'\n",
        "group by ds_skill\n",
        "\n",
        "union \n",
        "\n",
        "select\n",
        "    'Python & SQL/Postgres' ds_skill,\n",
        "    count(*) cnt -- кол-во вакансий DS с требуемым навыком Python & SQL & postgres\n",
        "from -- используем код запроса для фильтра вакансий дата-сайентистов в качестве подзапроса\n",
        "    (select *\n",
        "    from vacancies \n",
        "    where lower(name) like '%data scientist%' -- критерии отбора вакансий дата-сайентистов\n",
        "        or lower(name) like '%data science%'\n",
        "        or lower(name) like '%исследователь данных%'\n",
        "        or (name like '%ML%' and name not like '%HTML%')\n",
        "        or lower(name) like '%machine learning%'\n",
        "        or lower(name) like '%машинн%обучен%') as ds\n",
        "where lower(ds.key_skills) like '%python%'\n",
        "    or lower(ds.key_skills) like '%sql%'\n",
        "    or lower(ds.key_skills) like '%postgres%'\n",
        "group by ds_skill\n",
        "\n",
        "union \n",
        "\n",
        "select\n",
        "    'Total w/o null' ds_skill,\n",
        "    count(*) cnt -- всего кол-во вакансий DS с заполненным полем key_skills\n",
        "from -- используем код запроса для фильтра вакансий дата-сайентистов в качестве подзапроса\n",
        "    (select *\n",
        "    from vacancies \n",
        "    where lower(name) like '%data scientist%' -- критерии отбора вакансий дата-сайентистов\n",
        "        or lower(name) like '%data science%'\n",
        "        or lower(name) like '%исследователь данных%'\n",
        "        or (name like '%ML%' and name not like '%HTML%')\n",
        "        or lower(name) like '%machine learning%'\n",
        "        or lower(name) like '%машинн%обучен%') as ds\n",
        "where key_skills is not null\n",
        "group by ds_skill\n",
        "order by cnt\n",
        "'''"
      ]
    },
    {
      "cell_type": "code",
      "execution_count": 128,
      "id": "27d8836a",
      "metadata": {},
      "outputs": [
        {
          "data": {
            "image/png": "[encoded data removed]"
          },
          "metadata": {},
          "output_type": "display_data"
        }
      ],
      "source": [
        "# результат запроса\n",
        "df_6_7 = pd.read_sql_query(query_6_7, connection)\n",
        "# display(df_6_7) # вывод dataframe\n",
        "fig = px.bar(\n",
        "    data_frame=df_6_7, #датафрейм\n",
        "    x=\"ds_skill\", #ось x\n",
        "    y=\"cnt\", #ось y\n",
        "    color='ds_skill', #расцветка в зависимости от навыка\n",
        "    text = 'cnt', #текст на столбцах\n",
        "    orientation='v', #ориентация графика\n",
        "    title='Кол-во вакансий дата-сайентистов с навыками Python и SQL/Postgres', #заголовок\n",
        "    width=800,\n",
        "    height=600\n",
        ")\n",
        "# добавляем титулы осей и легенды\n",
        "fig.update_layout(\n",
        "    xaxis_title='Требуемые навыки',\n",
        "    yaxis_title=\"Кол-во вакансий DS\",\n",
        "    legend_title=\"DS Skills:\"\n",
        ")\n",
        "#отображаем график\n",
        "fig.show('png')"
      ]
    },
    {
      "cell_type": "markdown",
      "id": "1340a6cd",
      "metadata": {},
      "source": [
        "#### 8. Какие компании чаще всего ищут специалистов по Data Science и их доля (нумерическая и взвещенная) от общего числа работодателей, разместивших вакансии дата-сайентистов"
      ]
    },
    {
      "cell_type": "code",
      "execution_count": 129,
      "id": "1b1c8b48",
      "metadata": {},
      "outputs": [],
      "source": [
        "# текст запроса\n",
        "query_6_8 = f'''\n",
        "(select \n",
        "    e.name as employer_name,\n",
        "    'Top-13' category,\n",
        "    count(ds.id) as ds_vacancies_count\n",
        "from -- используем код запроса для фильтра вакансий дата-сайентистов в качестве подзапроса\n",
        "    (select *\n",
        "    from vacancies \n",
        "    where lower(name) like '%data scientist%' -- критерии отбора вакансий дата-сайентистов\n",
        "        or lower(name) like '%data science%'\n",
        "        or lower(name) like '%исследователь данных%'\n",
        "        or (name like '%ML%' and name not like '%HTML%')\n",
        "        or lower(name) like '%machine learning%'\n",
        "        or lower(name) like '%машинн%обучен%') as ds\n",
        "    join employers as e on e.id = ds.employer_id\n",
        "group by e.id\n",
        "order by ds_vacancies_count desc\n",
        "limit 13) -- 6 и более вакансий на работодателя\n",
        "\n",
        "union\n",
        "\n",
        "(select \n",
        "    e.name as employer_name,\n",
        "    'Others',\n",
        "    count(ds.id) as ds_vacancies_count\n",
        "from -- используем код запроса для фильтра вакансий дата-сайентистов в качестве подзапроса\n",
        "    (select *\n",
        "    from vacancies \n",
        "    where lower(name) like '%data scientist%' -- критерии отбора вакансий дата-сайентистов\n",
        "        or lower(name) like '%data science%'\n",
        "        or lower(name) like '%исследователь данных%'\n",
        "        or (name like '%ML%' and name not like '%HTML%')\n",
        "        or lower(name) like '%machine learning%'\n",
        "        or lower(name) like '%машинн%обучен%') as ds\n",
        "    join employers as e on e.id = ds.employer_id\n",
        "group by e.id\n",
        "order by ds_vacancies_count desc\n",
        "offset 13)\n",
        "order by ds_vacancies_count desc\n",
        "'''"
      ]
    },
    {
      "cell_type": "code",
      "execution_count": 130,
      "id": "ff65070d",
      "metadata": {},
      "outputs": [
        {
          "name": "stdout",
          "output_type": "stream",
          "text": [
            "Топ-13 из 225 работодателей, разместивших вакансии Data Science\n"
          ]
        },
        {
          "data": {
            "text/html": [
              "<div>\n",
              "<style scoped>\n",
              "    .dataframe tbody tr th:only-of-type {\n",
              "        vertical-align: middle;\n",
              "    }\n",
              "\n",
              "    .dataframe tbody tr th {\n",
              "        vertical-align: top;\n",
              "    }\n",
              "\n",
              "    .dataframe thead th {\n",
              "        text-align: right;\n",
              "    }\n",
              "</style>\n",
              "<table border=\"1\" class=\"dataframe\">\n",
              "  <thead>\n",
              "    <tr style=\"text-align: right;\">\n",
              "      <th></th>\n",
              "      <th>employer_name</th>\n",
              "      <th>category</th>\n",
              "      <th>ds_vacancies_count</th>\n",
              "    </tr>\n",
              "  </thead>\n",
              "  <tbody>\n",
              "    <tr>\n",
              "      <th>0</th>\n",
              "      <td>СБЕР</td>\n",
              "      <td>Top-13</td>\n",
              "      <td>37</td>\n",
              "    </tr>\n",
              "    <tr>\n",
              "      <th>1</th>\n",
              "      <td>Bell Integrator</td>\n",
              "      <td>Top-13</td>\n",
              "      <td>25</td>\n",
              "    </tr>\n",
              "    <tr>\n",
              "      <th>2</th>\n",
              "      <td>Банк ВТБ (ПАО)</td>\n",
              "      <td>Top-13</td>\n",
              "      <td>18</td>\n",
              "    </tr>\n",
              "    <tr>\n",
              "      <th>3</th>\n",
              "      <td>VK</td>\n",
              "      <td>Top-13</td>\n",
              "      <td>15</td>\n",
              "    </tr>\n",
              "    <tr>\n",
              "      <th>4</th>\n",
              "      <td>Positive Technologies</td>\n",
              "      <td>Top-13</td>\n",
              "      <td>11</td>\n",
              "    </tr>\n",
              "    <tr>\n",
              "      <th>5</th>\n",
              "      <td>Яндекс</td>\n",
              "      <td>Top-13</td>\n",
              "      <td>9</td>\n",
              "    </tr>\n",
              "    <tr>\n",
              "      <th>6</th>\n",
              "      <td>EvenBet Gaming</td>\n",
              "      <td>Top-13</td>\n",
              "      <td>9</td>\n",
              "    </tr>\n",
              "    <tr>\n",
              "      <th>7</th>\n",
              "      <td>МегаФон</td>\n",
              "      <td>Top-13</td>\n",
              "      <td>8</td>\n",
              "    </tr>\n",
              "    <tr>\n",
              "      <th>8</th>\n",
              "      <td>Andersen</td>\n",
              "      <td>Top-13</td>\n",
              "      <td>7</td>\n",
              "    </tr>\n",
              "    <tr>\n",
              "      <th>9</th>\n",
              "      <td>Ozon</td>\n",
              "      <td>Top-13</td>\n",
              "      <td>6</td>\n",
              "    </tr>\n",
              "    <tr>\n",
              "      <th>10</th>\n",
              "      <td>МТС</td>\n",
              "      <td>Top-13</td>\n",
              "      <td>6</td>\n",
              "    </tr>\n",
              "    <tr>\n",
              "      <th>11</th>\n",
              "      <td>Бэнкс Софт Системс</td>\n",
              "      <td>Top-13</td>\n",
              "      <td>6</td>\n",
              "    </tr>\n",
              "    <tr>\n",
              "      <th>12</th>\n",
              "      <td>Контур</td>\n",
              "      <td>Top-13</td>\n",
              "      <td>6</td>\n",
              "    </tr>\n",
              "  </tbody>\n",
              "</table>\n",
              "</div>"
            ],
            "text/plain": [
              "            employer_name category  ds_vacancies_count\n",
              "0                    СБЕР   Top-13                  37\n",
              "1         Bell Integrator   Top-13                  25\n",
              "2          Банк ВТБ (ПАО)   Top-13                  18\n",
              "3                      VK   Top-13                  15\n",
              "4   Positive Technologies   Top-13                  11\n",
              "5                  Яндекс   Top-13                   9\n",
              "6          EvenBet Gaming   Top-13                   9\n",
              "7                 МегаФон   Top-13                   8\n",
              "8                Andersen   Top-13                   7\n",
              "9                    Ozon   Top-13                   6\n",
              "10                    МТС   Top-13                   6\n",
              "11     Бэнкс Софт Системс   Top-13                   6\n",
              "12                 Контур   Top-13                   6"
            ]
          },
          "metadata": {},
          "output_type": "display_data"
        }
      ],
      "source": [
        "# результат запроса\n",
        "df_6_8 = pd.read_sql_query(query_6_8, connection)\n",
        "print(f\"Топ-13 из {df_6_8.shape[0]} работодателей, разместивших вакансии Data Science\") # заголовок\n",
        "display(df_6_8[df_6_8['category']=='Top-13']) # вывод dataframe таблицы\n"
      ]
    },
    {
      "attachments": {},
      "cell_type": "markdown",
      "id": "826fa812",
      "metadata": {},
      "source": [
        "#### **<span style=color:green>Юнит 6. Выводы по предметному анализу**\n",
        "\n",
        "После предметного анализа и дополнительных исследований можно сделать следующие предварительные выводы:\n",
        "\n",
        "* Специалисты в области Data Science могут претендовать на достаточно высокий уровень з/п: \n",
        "  * в районе 75 тыс.руб. в месяц для новичков, \n",
        "  * в районе 140 тыс. рублей для специалистов со стажем,\n",
        "  * около 243 тыс. руб. для опытных специалистов. \n",
        "> Это является дополнительным подтверждением того, что data scinetist является одной из наиболее высокооплачиваемых профессий в наши дни. \n",
        "* Одним из ключевых навыков для специалиста в области Data Science является владение языком Python. В явном виде этот навык указан в юолее чем 80% DS вакансий, но, *я думаю, реальное количество будет больше, т.к. требованиях работодателя встречаются описания владения конкретными питоновскими фреймворками и библиотеками (scikit-learn, pandas, nltk и т.п.), специфичными для проектов работодателя*.\n",
        "  * Довольно важны также навыки SQL/Postgres (более 47% DS вакансий).\n",
        "  * В представленных вакансиях запрос на наличие у кандидата навыков Python или SQL/Postgres встречается в 88% случаев!\n",
        "  * Однако, стоит отметить, что для успешного работы в области Data Science от кандидата требуется владение более 6-ти (6.41) различными навыками.\n",
        "* Новичку войти в отрасль Data Science не просто - только в 3% вакансий работодатель готов принять специалиста без опыта работы. \n",
        "* Основную часть вакансий по Data Science предоставляют крупные компании с большой клиенской базой, такие как \"Cбер\", \"ВТБ\", \"VK\", \"Яндекс\" и др (см. Топ-13 работодателей по кол-ву размещенных вакансий в области Data Science). \n",
        "> Это вполне ожидаемый результат: данные корпорации успешны в современном бизнесе в том числе благодаря и Data Science."
      ]
    },
    {
      "cell_type": "markdown",
      "id": "c786f6db",
      "metadata": {},
      "source": [
        "***"
      ]
    },
    {
      "cell_type": "code",
      "execution_count": 131,
      "id": "ad2d4c18",
      "metadata": {},
      "outputs": [],
      "source": [
        "#закрываем соединение после окончания работы\n",
        "connection.close()"
      ]
    },
    {
      "attachments": {},
      "cell_type": "markdown",
      "id": "64c0a76a",
      "metadata": {},
      "source": [
        "***"
      ]
    },
    {
      "cell_type": "markdown",
      "id": "c0ED6fh7wiBT",
      "metadata": {
        "id": "c0ED6fh7wiBT"
      },
      "source": [
        "# **<span style=color:green>Общий вывод по проекту**"
      ]
    },
    {
      "attachments": {},
      "cell_type": "markdown",
      "id": "fca78f6a",
      "metadata": {},
      "source": [
        "Итак, мы провели практическую работу по Data Understanding, а именно:\n",
        "* Внимательно изучили данные вакансий HeadHunter, \n",
        "* Провели детальный анализ вакансий и работодателей, \n",
        "* Более подробно остановившись на вакансиях из области Data Science, \n",
        "* Провели дополнительные исследования для лучшего понимания представленных данных. \n",
        "\n",
        "В целом, по результатам анализа данных можно сказать, что данные соответствуют ожиданиям и позволят нам в дальнейшем реализовать цель проекта — <span style=color:green>**Создание модели машинного обучения, которая будет рекомендовать вакансии клиентам агентства, претендующим на позицию Data Scientist**</span>\n",
        "\n",
        "*Однако, было отмечено, что в процессе сбора данных были допущены некоторые отклонения от ожидаемого темплейта, которые могут затруднить последующий анализ (например, неточный формат указания адреса регистрации работодателя, региона вакансии).*"
      ]
    },
    {
      "cell_type": "code",
      "execution_count": 132,
      "id": "h9B3BL-wwj18",
      "metadata": {
        "id": "h9B3BL-wwj18"
      },
      "outputs": [],
      "source": [
        "# подведем итог исследования, обобщите выводы\n",
        "# здесь можно (это будет плюсом) провести дополнительные исследования данных, сделать прогнозы, продумать варианты продолжения исследования"
      ]
    }
  ],
  "metadata": {
    "colab": {
      "collapsed_sections": [
        "8d62a9f3-f64e-4fe7-bdac-c4dffa16155e"
      ],
      "provenance": []
    },
    "kernelspec": {
      "display_name": "Python 3.10.6 64-bit",
      "language": "python",
      "name": "python3"
    },
    "language_info": {
      "codemirror_mode": {
        "name": "ipython",
        "version": 3
      },
      "file_extension": ".py",
      "mimetype": "text/x-python",
      "name": "python",
      "nbconvert_exporter": "python",
      "pygments_lexer": "ipython3",
      "version": "3.10.6"
    },
    "vscode": {
      "interpreter": {
        "hash": "aee8b7b246df8f9039afb4144a1f6fd8d2ca17a180786b69acc140d282b71a49"
      }
    }
  },
  "nbformat": 4,
  "nbformat_minor": 5
}
