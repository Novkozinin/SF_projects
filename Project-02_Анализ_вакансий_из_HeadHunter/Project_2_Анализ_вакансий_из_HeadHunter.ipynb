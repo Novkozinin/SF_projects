{
  "cells": [
    {
      "cell_type": "markdown",
      "id": "42289889-bd57-434e-9637-d3e354756316",
      "metadata": {
        "id": "42289889-bd57-434e-9637-d3e354756316"
      },
      "source": [
        "<center> <img src = https://raw.githubusercontent.com/AndreyRysistov/DatasetsForPandas/main/hh%20label.jpg alt=\"drawing\" style=\"width:400px;\">"
      ]
    },
    {
      "cell_type": "markdown",
      "id": "829cb75b-f14e-4ba8-9195-7ba929a7d656",
      "metadata": {
        "id": "829cb75b-f14e-4ba8-9195-7ba929a7d656",
        "tags": []
      },
      "source": [
        "# <center> Проект: Анализ вакансий из HeadHunter\n",
        "   "
      ]
    },
    {
      "cell_type": "code",
      "execution_count": 1414,
      "id": "dccfde33-2452-43fb-a8a5-5c6ebc02a71d",
      "metadata": {
        "id": "dccfde33-2452-43fb-a8a5-5c6ebc02a71d"
      },
      "outputs": [],
      "source": [
        "import pandas as pd\n",
        "import psycopg2"
      ]
    },
    {
      "cell_type": "code",
      "execution_count": 1415,
      "id": "19d285b1",
      "metadata": {},
      "outputs": [],
      "source": [
        "# Код отключения предупреждений (см. ниже) - они не мешают работе, но отвлекают и занимают место.\n",
        "# \"UserWarning: pandas only supports SQLAlchemy connectable (engine/connection) \n",
        "# or database string URI or sqlite3 DBAPI2 connection. \n",
        "# Other DBAPI2 objects are not tested. Please consider using SQLAlchemy\".\n",
        "import warnings\n",
        "warnings.filterwarnings('ignore')"
      ]
    },
    {
      "cell_type": "code",
      "execution_count": 1416,
      "id": "oVKH4ehvf8Ay",
      "metadata": {
        "id": "oVKH4ehvf8Ay"
      },
      "outputs": [],
      "source": [
        "# вставьте сюда параметры подключения из юнита 1. Работа с базой данных из Python \n",
        "DBNAME = 'project_sql'\n",
        "USER = 'skillfactory'\n",
        "PASSWORD = 'cCkxxLVrDE8EbvjueeMedPKt'\n",
        "HOST = '84.201.134.129'\n",
        "PORT = 5432"
      ]
    },
    {
      "cell_type": "code",
      "execution_count": 1417,
      "id": "G4X_q8KBf7SF",
      "metadata": {
        "id": "G4X_q8KBf7SF"
      },
      "outputs": [],
      "source": [
        "connection = psycopg2.connect(\n",
        "    dbname=DBNAME,\n",
        "    user=USER,\n",
        "    host=HOST,\n",
        "    password=PASSWORD,\n",
        "    port=PORT\n",
        ")"
      ]
    },
    {
      "cell_type": "markdown",
      "id": "0dc6476b-7a00-44f1-ac93-6e3baed33a29",
      "metadata": {
        "id": "0dc6476b-7a00-44f1-ac93-6e3baed33a29"
      },
      "source": [
        "# Юнит 3. Предварительный анализ данных"
      ]
    },
    {
      "cell_type": "markdown",
      "id": "889782b6-8d1c-410e-8920-e57f27917c64",
      "metadata": {
        "id": "889782b6-8d1c-410e-8920-e57f27917c64"
      },
      "source": [
        "#### 1. Напишите запрос, который посчитает количество вакансий в нашей базе (вакансии находятся в таблице *vacancies*). "
      ]
    },
    {
      "cell_type": "code",
      "execution_count": 1418,
      "id": "eee46560",
      "metadata": {},
      "outputs": [],
      "source": [
        "# текст запроса\n",
        "query_3_1 = f'''\n",
        "select \n",
        "    count(id) as cnt /* счет кол-ва вакансий по уникальному полю id, \n",
        "                    можно было бы выбрать все столбцы и вычислить ответ c помощью python */\n",
        "from public.vacancies /* для оптимизации кода, далее схему public не буду использовать,\n",
        "                    так как это единственная схема в этой базе (информация получена на вебинаре) */\n",
        "'''"
      ]
    },
    {
      "cell_type": "code",
      "execution_count": 1419,
      "id": "eff226da",
      "metadata": {},
      "outputs": [
        {
          "name": "stdout",
          "output_type": "stream",
          "text": [
            "Количество вакансий в таблице vacancies: 49197\n"
          ]
        }
      ],
      "source": [
        "# результат запроса\n",
        "# используем метод read_sql_query, чтобы получить результаты запроса сразу в виде датафрейма\n",
        "df_3_1 = pd.read_sql_query(query_3_1, connection)\n",
        "# display(df_3_1) # проверка dataframe\n",
        "print(f'Количество вакансий в таблице vacancies: {df_3_1.iloc[0][0]}') # вывод ответа"
      ]
    },
    {
      "cell_type": "markdown",
      "id": "b583485d-1f9e-494e-ada4-80ffff7c53d6",
      "metadata": {
        "id": "b583485d-1f9e-494e-ada4-80ffff7c53d6"
      },
      "source": [
        "#### 2. Напишите запрос, который посчитает количество работодателей (таблица *employers*). "
      ]
    },
    {
      "cell_type": "code",
      "execution_count": 1420,
      "id": "6d406b3f",
      "metadata": {},
      "outputs": [],
      "source": [
        "# текст запроса\n",
        "query_3_2 = f'''\n",
        "select \n",
        "    count(id) cnt -- счет кол-ва работодателей по уникальному полю id\n",
        "from employers -- исходная таблица\n",
        "'''"
      ]
    },
    {
      "cell_type": "code",
      "execution_count": 1421,
      "id": "b9dc1103",
      "metadata": {},
      "outputs": [
        {
          "name": "stdout",
          "output_type": "stream",
          "text": [
            "Количество работодателей в таблице employers: 23501\n"
          ]
        }
      ],
      "source": [
        "# результат запроса\n",
        "df_3_2 = pd.read_sql_query(query_3_2, connection)\n",
        "# display(df_3_2) # проверка dataframe\n",
        "print(f'Количество работодателей в таблице employers: {df_3_2.iloc[0][0]}') # вывод ответа"
      ]
    },
    {
      "cell_type": "markdown",
      "id": "a2bfff1f-c975-4bf6-84be-2185d79dcb76",
      "metadata": {
        "id": "a2bfff1f-c975-4bf6-84be-2185d79dcb76"
      },
      "source": [
        "#### 3. Посчитате с помощью запроса количество регионов (таблица *areas*)."
      ]
    },
    {
      "cell_type": "code",
      "execution_count": 1422,
      "id": "d642ac59",
      "metadata": {},
      "outputs": [],
      "source": [
        "# текст запроса\n",
        "query_3_3 = f'''\n",
        "select\n",
        "    count(id) cnt -- счет кол-ва регионов по уникальному полю id\n",
        "from areas -- исходная таблица\n",
        "'''"
      ]
    },
    {
      "cell_type": "code",
      "execution_count": 1423,
      "id": "8ad208db",
      "metadata": {},
      "outputs": [
        {
          "name": "stdout",
          "output_type": "stream",
          "text": [
            "Количество регионов в таблице areas: 1362\n"
          ]
        }
      ],
      "source": [
        "# результат запроса\n",
        "df_3_3 = pd.read_sql_query(query_3_3, connection)\n",
        "# display(df_3_3) # проверка dataframe\n",
        "print(f'Количество регионов в таблице areas: {df_3_3.iloc[0][0]}') # вывод ответа"
      ]
    },
    {
      "cell_type": "markdown",
      "id": "41bb59f3-53cc-4a67-a5bc-bedf573955e4",
      "metadata": {
        "id": "41bb59f3-53cc-4a67-a5bc-bedf573955e4"
      },
      "source": [
        "#### 4. Посчитате с помощью запроса количество сфер деятельности в базе (таблица *industries*)."
      ]
    },
    {
      "cell_type": "code",
      "execution_count": 1424,
      "id": "42111d28",
      "metadata": {},
      "outputs": [],
      "source": [
        "# текст запроса\n",
        "query_3_4 = f'''\n",
        "select\n",
        "    count(id) cnt -- счет кол-ва сфер деятельности по уникальному полю id\n",
        "from industries\n",
        "'''"
      ]
    },
    {
      "cell_type": "code",
      "execution_count": 1425,
      "id": "56fd2b79",
      "metadata": {},
      "outputs": [
        {
          "name": "stdout",
          "output_type": "stream",
          "text": [
            "Количество сфер деятельности в таблице industries: 294\n"
          ]
        }
      ],
      "source": [
        "# результат запроса\n",
        "df_3_4 = pd.read_sql_query(query_3_4, connection)\n",
        "# display(df_3_4) # проверка dataframe\n",
        "print(f'Количество сфер деятельности в таблице industries: {df_3_4.iloc[0][0]}') # вывод ответа"
      ]
    },
    {
      "cell_type": "markdown",
      "id": "9a8a2181-6914-448b-85f1-38f5f18b8a93",
      "metadata": {
        "id": "9a8a2181-6914-448b-85f1-38f5f18b8a93"
      },
      "source": [
        "***"
      ]
    },
    {
      "cell_type": "code",
      "execution_count": 1426,
      "id": "48551b81",
      "metadata": {},
      "outputs": [],
      "source": [
        "query_empl = f'''\n",
        "select *\n",
        "from employers\n",
        "'''"
      ]
    },
    {
      "cell_type": "code",
      "execution_count": 1427,
      "id": "7c79eb08",
      "metadata": {},
      "outputs": [
        {
          "data": {
            "text/html": [
              "<div>\n",
              "<style scoped>\n",
              "    .dataframe tbody tr th:only-of-type {\n",
              "        vertical-align: middle;\n",
              "    }\n",
              "\n",
              "    .dataframe tbody tr th {\n",
              "        vertical-align: top;\n",
              "    }\n",
              "\n",
              "    .dataframe thead th {\n",
              "        text-align: right;\n",
              "    }\n",
              "</style>\n",
              "<table border=\"1\" class=\"dataframe\">\n",
              "  <thead>\n",
              "    <tr style=\"text-align: right;\">\n",
              "      <th></th>\n",
              "      <th>id</th>\n",
              "      <th>name</th>\n",
              "      <th>area</th>\n",
              "    </tr>\n",
              "  </thead>\n",
              "  <tbody>\n",
              "    <tr>\n",
              "      <th>0</th>\n",
              "      <td>2393</td>\n",
              "      <td>Программный Продукт, ИТ-компания</td>\n",
              "      <td>1</td>\n",
              "    </tr>\n",
              "    <tr>\n",
              "      <th>1</th>\n",
              "      <td>72977</td>\n",
              "      <td>БАРС Груп</td>\n",
              "      <td>88</td>\n",
              "    </tr>\n",
              "    <tr>\n",
              "      <th>2</th>\n",
              "      <td>3155</td>\n",
              "      <td>Бест, Торгово-производственная компания, Екате...</td>\n",
              "      <td>3</td>\n",
              "    </tr>\n",
              "    <tr>\n",
              "      <th>3</th>\n",
              "      <td>675</td>\n",
              "      <td>КОРУС Консалтинг</td>\n",
              "      <td>2</td>\n",
              "    </tr>\n",
              "    <tr>\n",
              "      <th>4</th>\n",
              "      <td>1840010</td>\n",
              "      <td>филиал ФКУ Налог-Сервис ФНС России в Республик...</td>\n",
              "      <td>88</td>\n",
              "    </tr>\n",
              "    <tr>\n",
              "      <th>...</th>\n",
              "      <td>...</td>\n",
              "      <td>...</td>\n",
              "      <td>...</td>\n",
              "    </tr>\n",
              "    <tr>\n",
              "      <th>23496</th>\n",
              "      <td>1441774</td>\n",
              "      <td>МарКо</td>\n",
              "      <td>88</td>\n",
              "    </tr>\n",
              "    <tr>\n",
              "      <th>23497</th>\n",
              "      <td>4718575</td>\n",
              "      <td>MKomov Studio</td>\n",
              "      <td>73</td>\n",
              "    </tr>\n",
              "    <tr>\n",
              "      <th>23498</th>\n",
              "      <td>3702770</td>\n",
              "      <td>АКИБ Ипотека-банк</td>\n",
              "      <td>2759</td>\n",
              "    </tr>\n",
              "    <tr>\n",
              "      <th>23499</th>\n",
              "      <td>5636092</td>\n",
              "      <td>ГИМ-КЛИНИКА</td>\n",
              "      <td>99</td>\n",
              "    </tr>\n",
              "    <tr>\n",
              "      <th>23500</th>\n",
              "      <td>2064382</td>\n",
              "      <td>Рыббла</td>\n",
              "      <td>104</td>\n",
              "    </tr>\n",
              "  </tbody>\n",
              "</table>\n",
              "<p>23501 rows × 3 columns</p>\n",
              "</div>"
            ],
            "text/plain": [
              "            id                                               name  area\n",
              "0         2393                   Программный Продукт, ИТ-компания     1\n",
              "1        72977                                          БАРС Груп    88\n",
              "2         3155  Бест, Торгово-производственная компания, Екате...     3\n",
              "3          675                                   КОРУС Консалтинг     2\n",
              "4      1840010  филиал ФКУ Налог-Сервис ФНС России в Республик...    88\n",
              "...        ...                                                ...   ...\n",
              "23496  1441774                                              МарКо    88\n",
              "23497  4718575                                      MKomov Studio    73\n",
              "23498  3702770                                  АКИБ Ипотека-банк  2759\n",
              "23499  5636092                                        ГИМ-КЛИНИКА    99\n",
              "23500  2064382                                             Рыббла   104\n",
              "\n",
              "[23501 rows x 3 columns]"
            ]
          },
          "metadata": {},
          "output_type": "display_data"
        }
      ],
      "source": [
        "# результат запроса\n",
        "df_empl = pd.read_sql_query(query_empl, connection)\n",
        "display(df_empl)"
      ]
    },
    {
      "cell_type": "markdown",
      "id": "bc8bf1c0",
      "metadata": {},
      "source": [
        "#### **<span style=color:red>Не забыть!!!**\n",
        "* проверить структуру таблиц на пропуски\n",
        "* кол-во названий вакансий\n",
        "* кол-во регионов регистраций работодателей"
      ]
    },
    {
      "cell_type": "code",
      "execution_count": 1428,
      "id": "be4e9bd3-a4db-4a20-82fb-6b02fc2957e0",
      "metadata": {
        "id": "be4e9bd3-a4db-4a20-82fb-6b02fc2957e0"
      },
      "outputs": [],
      "source": [
        "# выводы по предварительному анализу данных"
      ]
    },
    {
      "cell_type": "markdown",
      "id": "8d62a9f3-f64e-4fe7-bdac-c4dffa16155e",
      "metadata": {
        "id": "8d62a9f3-f64e-4fe7-bdac-c4dffa16155e"
      },
      "source": [
        "# Юнит 4. Детальный анализ вакансий"
      ]
    },
    {
      "cell_type": "markdown",
      "id": "93053d3d-b284-481a-9cf7-012d7014c0e0",
      "metadata": {
        "id": "93053d3d-b284-481a-9cf7-012d7014c0e0"
      },
      "source": [
        "#### 1. Напишите запрос, который позволит узнать, сколько (*cnt*) вакансий в каждом регионе (*area*). Отсортируйте по количеству вакансий **в порядке убывания**."
      ]
    },
    {
      "cell_type": "code",
      "execution_count": 1429,
      "id": "3f069da6-fdc9-4ae7-b514-fafe2675efd3",
      "metadata": {
        "id": "3f069da6-fdc9-4ae7-b514-fafe2675efd3"
      },
      "outputs": [],
      "source": [
        "# текст запроса\n",
        "query_4_1 = f'''\n",
        "select\n",
        "    a.name as area, --  список регионов из таблицы areas\n",
        "    count(v.area_id) as cnt -- подсчет кол-ва вакансий из таблицы vacancies\n",
        "from areas a\n",
        "    join vacancies v on a.id = v.area_id -- соединение таблиц \n",
        "group by area -- группировка по признаку area\n",
        "order by count(v.area_id) desc -- сортировка по убыванию\n",
        "limit 5 -- выбор топ 5\n",
        "'''"
      ]
    },
    {
      "cell_type": "code",
      "execution_count": 1430,
      "id": "P7QL86hrjhRJ",
      "metadata": {
        "id": "P7QL86hrjhRJ"
      },
      "outputs": [
        {
          "name": "stdout",
          "output_type": "stream",
          "text": [
            "Топ 5 регионов по количеству вакансий:\n",
            "Москва, Санкт-Петербург, Минск, Новосибирск, Алматы\n"
          ]
        }
      ],
      "source": [
        "# результат запроса\n",
        "df_4_1 = pd.read_sql_query(query_4_1, connection)\n",
        "# display(df_4_1) # проверка dataframe\n",
        "print(f\"Топ 5 регионов по количеству вакансий:\\n\\\n",
        "{', '.join(df_4_1['area'].values.tolist())}\") # вывод ответа"
      ]
    },
    {
      "cell_type": "markdown",
      "id": "4266f0b6-1646-492a-88b4-2f6a46502135",
      "metadata": {
        "id": "4266f0b6-1646-492a-88b4-2f6a46502135"
      },
      "source": [
        "#### 2. Напишите запрос, чтобы определить у какого количества вакансий заполнено **хотя бы одно** из двух полей с зарплатой."
      ]
    },
    {
      "cell_type": "code",
      "execution_count": 1431,
      "id": "0c44b350-72eb-4d65-8b54-a1fc449ba9fd",
      "metadata": {
        "id": "0c44b350-72eb-4d65-8b54-a1fc449ba9fd"
      },
      "outputs": [],
      "source": [
        "# текст запроса\n",
        "query_4_2 = f'''\n",
        "select\n",
        "    count(id) cnt -- подсчет кол-ва уникальных вакансий\n",
        "from vacancies \n",
        "where (salary_from is not null) or (salary_to is not null) -- фильтр вакансий по условию задачи\n",
        "'''"
      ]
    },
    {
      "cell_type": "code",
      "execution_count": 1432,
      "id": "rhvwaMDkoWTi",
      "metadata": {
        "id": "rhvwaMDkoWTi"
      },
      "outputs": [
        {
          "name": "stdout",
          "output_type": "stream",
          "text": [
            "Количество вакансий, у которых заполнено хотя бы одно из двух полей с зарплатой: 24073\n"
          ]
        }
      ],
      "source": [
        "# результат запроса\n",
        "df_4_2 = pd.read_sql_query(query_4_2, connection)\n",
        "# display(df_4_2) # проверка dataframe\n",
        "print(f'Количество вакансий, у которых заполнено хотя бы одно из двух \\\n",
        "полей с зарплатой: {df_4_2.iloc[0,0]}') # вывод ответа"
      ]
    },
    {
      "cell_type": "markdown",
      "id": "635c4d5d-f323-4c66-b428-50a088120aa0",
      "metadata": {
        "id": "635c4d5d-f323-4c66-b428-50a088120aa0"
      },
      "source": [
        "#### 3. Найдите средние значения для нижней и верхней границы зарплатной вилки. Округлите значения до **целого числа**."
      ]
    },
    {
      "cell_type": "code",
      "execution_count": 1433,
      "id": "603cdbe4-0ec3-4106-8eaf-c73fcdd29165",
      "metadata": {
        "id": "603cdbe4-0ec3-4106-8eaf-c73fcdd29165"
      },
      "outputs": [],
      "source": [
        "# текст запроса\n",
        "query_4_3 = f'''\n",
        "select\n",
        "    round(avg(salary_from), 0) avg_salart_from, /* расчет средней нижней границы з/п вилки\n",
        "        с округлением до целого */\n",
        "    round(avg(salary_to), 0) avg_salart_to /* расчет средней верхней границы з/п вилки\n",
        "        с округлением до целого */\n",
        "from vacancies\n",
        "'''"
      ]
    },
    {
      "cell_type": "code",
      "execution_count": 1434,
      "id": "pswpAb66ovZZ",
      "metadata": {
        "id": "pswpAb66ovZZ"
      },
      "outputs": [
        {
          "name": "stdout",
          "output_type": "stream",
          "text": [
            "Средние значения для зарплатной вилки\n",
            "нижняя граница: 71065.0\n",
            "верхняя граница: 110537.0\n"
          ]
        }
      ],
      "source": [
        "# результат запроса\n",
        "df_4_3 = pd.read_sql_query(query_4_3, connection)\n",
        "# display(df_4_3) # проверка dataframe\n",
        "print(f'Средние значения для зарплатной вилки\\n\\\n",
        "нижняя граница: {df_4_3.iloc[0,0]}\\n\\\n",
        "верхняя граница: {df_4_3.iloc[0,1]}') # вывод ответа"
      ]
    },
    {
      "cell_type": "markdown",
      "id": "f3fdaec9-5fd3-4260-9cf5-1d7406b628a5",
      "metadata": {
        "id": "f3fdaec9-5fd3-4260-9cf5-1d7406b628a5"
      },
      "source": [
        "#### 4. Напишите запрос, который выведет количество вакансий для каждого сочетания типа рабочего графика (*schedule*) и типа трудоустройства (*employment*), используемого в вакансиях. Какая пара находится на **втором** месте по популярности? Результат отсортируйте по **убыванию** количества.\n"
      ]
    },
    {
      "cell_type": "code",
      "execution_count": 1435,
      "id": "1ea710ec-871b-431e-9462-c7d0fd87011b",
      "metadata": {
        "id": "1ea710ec-871b-431e-9462-c7d0fd87011b"
      },
      "outputs": [],
      "source": [
        "# текст запроса\n",
        "query_4_4 = f'''\n",
        "select\n",
        "    schedule || ' - ' || employment schedule_employment, /* создание столбца \n",
        "        с объединением двух признаков */ \n",
        "    count(id) cnt -- расчет кол-ва по каждой паре\n",
        "from vacancies\n",
        "group by schedule_employment -- группировка по признаку\n",
        "order by cnt desc -- сортировка по убыванию cnt\n",
        "offset 1 -- смещение на одну строку для вывода второй строки на первое место\n",
        "limit 1 -- вывод первой строки\n",
        "'''\n",
        "# offset и limit можно было не применять и найти решение с помощью python "
      ]
    },
    {
      "cell_type": "code",
      "execution_count": 1436,
      "id": "lGUVqavdo4JQ",
      "metadata": {
        "id": "lGUVqavdo4JQ"
      },
      "outputs": [
        {
          "name": "stdout",
          "output_type": "stream",
          "text": [
            "Второе месте по популярности пары \"тип грвфика - тип трудоустройства\": \n",
            "Удаленная работа - Полная занятость\n"
          ]
        }
      ],
      "source": [
        "# результат запроса\n",
        "df_4_4 = pd.read_sql_query(query_4_4, connection)\n",
        "# display(df_4_4) # проверка dataframe\n",
        "print(f'Второе месте по популярности пары \"тип грвфика - тип трудоустройства\": \\n\\\n",
        "{df_4_4.iloc[0,0]}') # вывод ответа"
      ]
    },
    {
      "cell_type": "markdown",
      "id": "0136ffee-0ead-4a6b-b608-61d1c753a438",
      "metadata": {
        "id": "0136ffee-0ead-4a6b-b608-61d1c753a438"
      },
      "source": [
        "#### 5. Напишите запрос, выводящий значения поля Требуемый опыт работы (*experience*) в порядке **возрастания** количества вакансий, в которых указан данный вариант опыта. "
      ]
    },
    {
      "cell_type": "code",
      "execution_count": 1437,
      "id": "5b3a8e79-f7ab-4008-b767-12aea3a205ea",
      "metadata": {
        "id": "5b3a8e79-f7ab-4008-b767-12aea3a205ea"
      },
      "outputs": [],
      "source": [
        "# текст запроса\n",
        "query_4_5 = f'''\n",
        "select\n",
        "    experience, -- вывод значений поля 'Требуемый опыт работы'\n",
        "    count(id) cnt -- кол-во уникальных вакансий\n",
        "from vacancies\n",
        "group by  experience -- группировка по признаку 'Требуемый опыт работы'\n",
        "order by cnt -- сортировка по возрастанию кол-ва вакансий\n",
        "'''"
      ]
    },
    {
      "cell_type": "code",
      "execution_count": 1438,
      "id": "40dd618a",
      "metadata": {},
      "outputs": [
        {
          "name": "stdout",
          "output_type": "stream",
          "text": [
            "Требуемый опыт работы (experience) в порядке возрастания количества вакансий:\n",
            "Более 6 лет - Нет опыта - От 3 до 6 лет - От 1 года до 3 лет\n"
          ]
        }
      ],
      "source": [
        "# результат запроса\n",
        "df_4_5 = pd.read_sql_query(query_4_5, connection)\n",
        "# display(df_4_5) # проверка dataframe\n",
        "print(f\"Требуемый опыт работы (experience) в порядке возрастания количества вакансий:\\n\\\n",
        "{' - '.join(df_4_5['experience'].values.tolist())}\") # вывод ответа"
      ]
    },
    {
      "cell_type": "markdown",
      "id": "oq2b7n1QpIka",
      "metadata": {
        "id": "oq2b7n1QpIka"
      },
      "source": [
        "***"
      ]
    },
    {
      "cell_type": "markdown",
      "id": "efc1a181",
      "metadata": {},
      "source": [
        "#### **<span style=color:red>Не забыть!!!**\n",
        "* тор 5 ключевых навыков\n",
        "* топ 5 названий вакансий по средней з/п\n",
        "* соотношение опыта и средней э/п"
      ]
    },
    {
      "cell_type": "code",
      "execution_count": null,
      "id": "5ca6b602",
      "metadata": {},
      "outputs": [],
      "source": []
    },
    {
      "cell_type": "code",
      "execution_count": 1439,
      "id": "e91f87ed-e25c-4f96-9f92-b642e8c0b4fa",
      "metadata": {
        "id": "e91f87ed-e25c-4f96-9f92-b642e8c0b4fa"
      },
      "outputs": [],
      "source": [
        "# выводы по детальному анализу вакансий"
      ]
    },
    {
      "cell_type": "markdown",
      "id": "7ea20ab6-04a7-40a0-adec-443a0e5a42c3",
      "metadata": {
        "id": "7ea20ab6-04a7-40a0-adec-443a0e5a42c3"
      },
      "source": [
        "# Юнит 5. Анализ работодателей"
      ]
    },
    {
      "cell_type": "markdown",
      "id": "968aed80-74ef-4ffb-b5bf-c65b84e9caea",
      "metadata": {
        "id": "968aed80-74ef-4ffb-b5bf-c65b84e9caea"
      },
      "source": [
        "#### 1. Напишите запрос, который позволит узнать, какие работодатели находятся на **первом** и **пятом** месте по количеству вакансий."
      ]
    },
    {
      "cell_type": "code",
      "execution_count": 1440,
      "id": "61d51b35",
      "metadata": {},
      "outputs": [],
      "source": [
        "# текст запроса\n",
        "query_5_1 = f'''\n",
        "(select\n",
        "    e.name empl_name, -- вывод списка работодателей\n",
        "    count(v.id) cnt -- кол-во уникальных вакансий\n",
        "from employers e\n",
        "    join vacancies v on e.id = v.employer_id -- соединение таблиц \n",
        "group by  empl_name -- группировка по работодателям\n",
        "order by cnt desc --сортировка по убыванию кол-ва вакансий\n",
        "limit 1) -- вывод первого места из рейтинга по кол-ву вакансий\n",
        "union all -- объединение возвращаемых sql-запросов\n",
        "(select\n",
        "    e.name empl_name,\n",
        "    count(v.id) cnt \n",
        "from public.employers e\n",
        "    left join public.vacancies v on e.id = v.employer_id \n",
        "group by  empl_name \n",
        "order by cnt desc \n",
        "offset 4 -- \"вырезка\" первых четырех строк\n",
        "limit 1) -- вывод пятого места по кол-ву вакансий\n",
        "'''\n",
        "# в качестве альтернативы можно было вывести 1 и 5 место с помощью инструментов dataframe,\n",
        "# но так как это проект по sql решил представить такое решение "
      ]
    },
    {
      "cell_type": "code",
      "execution_count": 1441,
      "id": "f83f9a43",
      "metadata": {},
      "outputs": [
        {
          "name": "stdout",
          "output_type": "stream",
          "text": [
            "Работодатели, находятся на первом и пятом месте по количеству вакансий:\n",
            "Яндекс - Газпром нефть\n"
          ]
        }
      ],
      "source": [
        "# результат запроса\n",
        "df_5_1 = pd.read_sql_query(query_5_1, connection)\n",
        "# display(df_5_1) # проверка dataframe\n",
        "print(f\"Работодатели, находятся на первом и пятом месте по количеству вакансий:\\n\\\n",
        "{' - '.join(df_5_1['empl_name'].values.tolist())}\") # вывод ответа"
      ]
    },
    {
      "cell_type": "markdown",
      "id": "68377cfc-b378-43dc-ab7d-1195abf2c515",
      "metadata": {
        "id": "68377cfc-b378-43dc-ab7d-1195abf2c515"
      },
      "source": [
        "#### 2. Напишите запрос, который для каждого региона выведет количество работодателей и вакансий в нём. \n",
        "#### Среди регионов, в которых нет вакансий, найдите тот, в котором наибольшее количество работодателей.\n"
      ]
    },
    {
      "cell_type": "code",
      "execution_count": 1442,
      "id": "dd7df27a-e3e8-412e-a21a-5d389b71e891",
      "metadata": {
        "id": "dd7df27a-e3e8-412e-a21a-5d389b71e891"
      },
      "outputs": [],
      "source": [
        "# текст запроса\n",
        "query_5_2 = f'''\n",
        "select\n",
        "    a.name area_name, -- вывод списка регионов\n",
        "    count(e.id) count_empl -- количество работодателей\n",
        "from areas a\n",
        "    join employers e on a.id = e.area /* соединение таблиц join \n",
        "        т.к. нас интересует наибольшее кол-во работодателей в регионе без вакансий\n",
        "        использование left join также даст правильный ответ, но займет больше времени \n",
        "        и выдаст больше строк*/\n",
        "    left join vacancies v on a.id = v.area_id /* соединение таблиц left join \n",
        "        т.к. в регионе может не быть вакансий */\n",
        "where v.id is null -- выбор регионов, в которых нет вакансий\n",
        "group by  area_name -- группировка по регионам\n",
        "order by count_empl desc -- сортировка по убыванию работодателей\n",
        "'''"
      ]
    },
    {
      "cell_type": "code",
      "execution_count": 1443,
      "id": "x1ikWbydrbf6",
      "metadata": {
        "id": "x1ikWbydrbf6"
      },
      "outputs": [
        {
          "name": "stdout",
          "output_type": "stream",
          "text": [
            "Среди регионов, в которых нет вакансий, наибольшее количество работодателей в регионе: Россия\n"
          ]
        }
      ],
      "source": [
        "# результат запроса\n",
        "df_5_2 = pd.read_sql_query(query_5_2, connection)\n",
        "# проверка dataframe, не стал добавлять колонку с кол-вом вакансий т.к. после фильтрации\n",
        "# where v.id is null в колонке все значения будут 0\n",
        "# display(df_5_2)\n",
        "print(f\"Среди регионов, в которых нет вакансий, \\\n",
        "наибольшее количество работодателей в регионе: {df_5_2['area_name'][0]}\") # вывод ответа"
      ]
    },
    {
      "cell_type": "markdown",
      "id": "f2fe0acb-ab1a-4e15-9326-2560e22d73c1",
      "metadata": {
        "id": "f2fe0acb-ab1a-4e15-9326-2560e22d73c1"
      },
      "source": [
        "#### 3. Для каждого работодателя посчитайте количество регионов, в которых он публикует свои вакансии. Отсортируйте результат по убыванию количества.\n"
      ]
    },
    {
      "cell_type": "code",
      "execution_count": 1444,
      "id": "6271f8ad-bd2e-4196-ae4a-5b39c4c1010e",
      "metadata": {
        "id": "6271f8ad-bd2e-4196-ae4a-5b39c4c1010e"
      },
      "outputs": [],
      "source": [
        "# текст запроса\n",
        "query_5_3 = f'''\n",
        "select\n",
        "    e.name empl_name, -- список работодателей\n",
        "    count(distinct v.area_id) count_area /* счет уникального кол-ва регионов \n",
        "        (без distinct считает кол-во вакансий) */\n",
        "from employers e\n",
        "    join vacancies v on e.id = v.employer_id -- соединение таблиц \n",
        "group by empl_name -- группировка по признаку\n",
        "order by count_area desc -- сортировка по убыванию\n",
        "'''"
      ]
    },
    {
      "cell_type": "code",
      "execution_count": 1445,
      "id": "1EIvX3HasH4F",
      "metadata": {
        "id": "1EIvX3HasH4F"
      },
      "outputs": [
        {
          "name": "stdout",
          "output_type": "stream",
          "text": [
            "Яндекс публикует свои вакансии в наибольшем кол-ве регионов: 181\n"
          ]
        },
        {
          "data": {
            "text/html": [
              "<div>\n",
              "<style scoped>\n",
              "    .dataframe tbody tr th:only-of-type {\n",
              "        vertical-align: middle;\n",
              "    }\n",
              "\n",
              "    .dataframe tbody tr th {\n",
              "        vertical-align: top;\n",
              "    }\n",
              "\n",
              "    .dataframe thead th {\n",
              "        text-align: right;\n",
              "    }\n",
              "</style>\n",
              "<table border=\"1\" class=\"dataframe\">\n",
              "  <thead>\n",
              "    <tr style=\"text-align: right;\">\n",
              "      <th></th>\n",
              "      <th>empl_name</th>\n",
              "      <th>count_area</th>\n",
              "    </tr>\n",
              "  </thead>\n",
              "  <tbody>\n",
              "    <tr>\n",
              "      <th>0</th>\n",
              "      <td>Яндекс</td>\n",
              "      <td>181</td>\n",
              "    </tr>\n",
              "    <tr>\n",
              "      <th>1</th>\n",
              "      <td>Ростелеком</td>\n",
              "      <td>152</td>\n",
              "    </tr>\n",
              "    <tr>\n",
              "      <th>2</th>\n",
              "      <td>Спецремонт</td>\n",
              "      <td>116</td>\n",
              "    </tr>\n",
              "    <tr>\n",
              "      <th>3</th>\n",
              "      <td>Поляков Денис Иванович</td>\n",
              "      <td>88</td>\n",
              "    </tr>\n",
              "    <tr>\n",
              "      <th>4</th>\n",
              "      <td>ООО ЕФИН</td>\n",
              "      <td>71</td>\n",
              "    </tr>\n",
              "    <tr>\n",
              "      <th>...</th>\n",
              "      <td>...</td>\n",
              "      <td>...</td>\n",
              "    </tr>\n",
              "    <tr>\n",
              "      <th>14761</th>\n",
              "      <td>UniSol</td>\n",
              "      <td>1</td>\n",
              "    </tr>\n",
              "    <tr>\n",
              "      <th>14762</th>\n",
              "      <td>UNISTORY LLC</td>\n",
              "      <td>1</td>\n",
              "    </tr>\n",
              "    <tr>\n",
              "      <th>14763</th>\n",
              "      <td>UNIT6</td>\n",
              "      <td>1</td>\n",
              "    </tr>\n",
              "    <tr>\n",
              "      <th>14764</th>\n",
              "      <td>United Distribution</td>\n",
              "      <td>1</td>\n",
              "    </tr>\n",
              "    <tr>\n",
              "      <th>14765</th>\n",
              "      <td>UNITEL LLC</td>\n",
              "      <td>1</td>\n",
              "    </tr>\n",
              "  </tbody>\n",
              "</table>\n",
              "<p>14766 rows × 2 columns</p>\n",
              "</div>"
            ],
            "text/plain": [
              "                    empl_name  count_area\n",
              "0                      Яндекс         181\n",
              "1                  Ростелеком         152\n",
              "2                  Спецремонт         116\n",
              "3      Поляков Денис Иванович          88\n",
              "4                   ООО ЕФИН           71\n",
              "...                       ...         ...\n",
              "14761                  UniSol           1\n",
              "14762            UNISTORY LLC           1\n",
              "14763                   UNIT6           1\n",
              "14764     United Distribution           1\n",
              "14765              UNITEL LLC           1\n",
              "\n",
              "[14766 rows x 2 columns]"
            ]
          },
          "metadata": {},
          "output_type": "display_data"
        }
      ],
      "source": [
        "# результат запроса\n",
        "df_5_3 = pd.read_sql_query(query_5_3, connection)\n",
        "print(f\"{df_5_3['empl_name'][0]} публикует свои вакансии в \\\n",
        "наибольшем кол-ве регионов: {df_5_3['count_area'][0]}\") # вывод ответа\n",
        "display(df_5_3) # вывод dataframe (согласно первой части задания)"
      ]
    },
    {
      "cell_type": "markdown",
      "id": "eab2206d-d95b-468b-8e5f-34381abf0ce7",
      "metadata": {
        "id": "eab2206d-d95b-468b-8e5f-34381abf0ce7"
      },
      "source": [
        "#### 4. Напишите запрос для подсчёта **количества** работодателей, у которых *не указана сфера деятельности*. "
      ]
    },
    {
      "cell_type": "code",
      "execution_count": 1446,
      "id": "50817add",
      "metadata": {},
      "outputs": [],
      "source": [
        "# текст запроса\n",
        "query_5_4 = f'''\n",
        "select\n",
        "    count(distinct e.id) cnt -- подсчет уникального кол-ва работодателей\n",
        "from employers e\n",
        "    full join employers_industries ei on e.id = ei.employer_id /* соединение таблиц по full join, \n",
        "        чтобы не потерять работодателей без сферы деятельности */\n",
        "where ei.employer_id is null /* фильтрация соединенной таблицы \n",
        "        (оставляем только работодателей без указанной сферы деятельности) */\n",
        "'''"
      ]
    },
    {
      "cell_type": "code",
      "execution_count": 1447,
      "id": "ae141847",
      "metadata": {},
      "outputs": [
        {
          "name": "stdout",
          "output_type": "stream",
          "text": [
            "Количество работодателей, у которых не указана сфера деятельности: 8419 \n"
          ]
        }
      ],
      "source": [
        "# результат запроса\n",
        "df_5_4 = pd.read_sql_query(query_5_4, connection)\n",
        "# display(df_5_4) # проверка dataframe\n",
        "print(f\"Количество работодателей, у которых не указана сфера деятельности: \\\n",
        "{df_5_4['cnt'][0]} \") # вывод ответа"
      ]
    },
    {
      "cell_type": "markdown",
      "id": "0112af31-f6b0-4e3b-82ab-71296e752e5e",
      "metadata": {
        "id": "0112af31-f6b0-4e3b-82ab-71296e752e5e"
      },
      "source": [
        "#### 5. Напишите запрос, чтобы узнать **название компании**, находящейся на *третьем* месте в *алфавитном списке* (по названию) компаний, у которых указано **четыре** сферы деятельности. "
      ]
    },
    {
      "cell_type": "code",
      "execution_count": 1448,
      "id": "973b0cfc-a972-470a-8b4a-68744ef220c4",
      "metadata": {
        "id": "973b0cfc-a972-470a-8b4a-68744ef220c4"
      },
      "outputs": [],
      "source": [
        "# текст запроса\n",
        "query_5_5 = f'''\n",
        "select\n",
        "    e.name empl_name,\n",
        "    count(ei.industry_id) cnt_industry -- подсчет кол-ва сфер деятельности\n",
        "from employers e\n",
        "    join employers_industries ei on e.id = ei.employer_id -- соединение таблиц\n",
        "group by e.id\n",
        "having count(ei.industry_id) = 4\n",
        "order by empl_name\n",
        "limit 3\n",
        "'''"
      ]
    },
    {
      "cell_type": "code",
      "execution_count": 1449,
      "id": "xsPtpp8EsaED",
      "metadata": {
        "id": "xsPtpp8EsaED"
      },
      "outputs": [
        {
          "data": {
            "text/html": [
              "<div>\n",
              "<style scoped>\n",
              "    .dataframe tbody tr th:only-of-type {\n",
              "        vertical-align: middle;\n",
              "    }\n",
              "\n",
              "    .dataframe tbody tr th {\n",
              "        vertical-align: top;\n",
              "    }\n",
              "\n",
              "    .dataframe thead th {\n",
              "        text-align: right;\n",
              "    }\n",
              "</style>\n",
              "<table border=\"1\" class=\"dataframe\">\n",
              "  <thead>\n",
              "    <tr style=\"text-align: right;\">\n",
              "      <th></th>\n",
              "      <th>empl_name</th>\n",
              "      <th>cnt_industry</th>\n",
              "    </tr>\n",
              "  </thead>\n",
              "  <tbody>\n",
              "    <tr>\n",
              "      <th>0</th>\n",
              "      <td>101 Интернет</td>\n",
              "      <td>4</td>\n",
              "    </tr>\n",
              "    <tr>\n",
              "      <th>1</th>\n",
              "      <td>21vek.by</td>\n",
              "      <td>4</td>\n",
              "    </tr>\n",
              "    <tr>\n",
              "      <th>2</th>\n",
              "      <td>2ГИС</td>\n",
              "      <td>4</td>\n",
              "    </tr>\n",
              "  </tbody>\n",
              "</table>\n",
              "</div>"
            ],
            "text/plain": [
              "      empl_name  cnt_industry\n",
              "0  101 Интернет             4\n",
              "1      21vek.by             4\n",
              "2          2ГИС             4"
            ]
          },
          "metadata": {},
          "output_type": "display_data"
        },
        {
          "name": "stdout",
          "output_type": "stream",
          "text": [
            "2ГИС находится на третьем месте в алфавитном списке (по названию) компаний, у которых указано четыре сферы деятельности.\n"
          ]
        }
      ],
      "source": [
        "# результат запроса\n",
        "df_5_5 = pd.read_sql_query(query_5_5, connection)\n",
        "display(df_5_5) # вывод dataframe\n",
        "print(f\"{df_5_5['empl_name'][2]} находится на третьем месте в алфавитном списке (по названию) \\\n",
        "компаний, у которых указано четыре сферы деятельности.\") # вывод ответа"
      ]
    },
    {
      "cell_type": "markdown",
      "id": "3bfcfdaf-755d-4d2b-8ed8-326201dc07ab",
      "metadata": {
        "id": "3bfcfdaf-755d-4d2b-8ed8-326201dc07ab"
      },
      "source": [
        "#### 6. С помощью запроса выясните, у какого количества работодателей в качестве сферы деятельности указана **\"Разработка программного обеспечения\"**.\n"
      ]
    },
    {
      "cell_type": "code",
      "execution_count": 1450,
      "id": "ad3f270f-2991-47eb-929b-e8f88a55b0d1",
      "metadata": {
        "id": "ad3f270f-2991-47eb-929b-e8f88a55b0d1"
      },
      "outputs": [],
      "source": [
        "# текст запроса\n",
        "query_5_6 = f'''\n",
        "select\n",
        "    count(ei.employer_id) cnt_empl -- подсчет кол-ва работодателей\n",
        "from industries i\n",
        "    join employers_industries ei on i.id = ei.industry_id -- соединение таблиц\n",
        "group by i.name -- группировка по сфере деятельности\n",
        "having i.name = 'Разработка программного обеспечения' -- фильтр по критерию\n",
        "'''"
      ]
    },
    {
      "cell_type": "code",
      "execution_count": 1451,
      "id": "H72qxWM0shPR",
      "metadata": {
        "id": "H72qxWM0shPR"
      },
      "outputs": [
        {
          "name": "stdout",
          "output_type": "stream",
          "text": [
            "Сфера деятельности «Разработка программного обеспечения» указана у 3553 компаний\n"
          ]
        }
      ],
      "source": [
        "# результат запроса\n",
        "df_5_6 = pd.read_sql_query(query_5_6, connection)\n",
        "# display(df_5_6) # проверка dataframe\n",
        "print(f\"Сфера деятельности «Разработка программного обеспечения» \\\n",
        "указана у {df_5_6.iloc[0][0]} компаний\") # вывод ответа"
      ]
    },
    {
      "cell_type": "markdown",
      "id": "7b02bb86-0546-40fb-94a4-242f050a5c57",
      "metadata": {
        "id": "7b02bb86-0546-40fb-94a4-242f050a5c57"
      },
      "source": [
        "#### 7. Для компании «Яндекс» выведите список регионов-миллионников, в которых представлены вакансии компании, вместе с количеством вакансий в этих регионах. Также добавьте строку Total с общим количеством вакансий компании. Результат отсортируйте по возрастанию количества.\n",
        "\n",
        "Список городов-милионников надо взять [отсюда](https://ru.wikipedia.org/wiki/%D0%93%D0%BE%D1%80%D0%BE%D0%B4%D0%B0-%D0%BC%D0%B8%D0%BB%D0%BB%D0%B8%D0%BE%D0%BD%D0%B5%D1%80%D1%8B_%D0%A0%D0%BE%D1%81%D1%81%D0%B8%D0%B8). \n",
        "\n",
        "Если возникнут трудности с этим задание посмотрите материалы модуля  PYTHON-17. Как получать данные из веб-источников и API. "
      ]
    },
    {
      "cell_type": "code",
      "execution_count": 1452,
      "id": "ZdfrL6gIs1Pn",
      "metadata": {
        "id": "ZdfrL6gIs1Pn"
      },
      "outputs": [],
      "source": [
        "# код для получения списка городов-милионников\n",
        "import requests  # Импортируем библиотеку requests\n",
        "from bs4 import BeautifulSoup # Импортируем библиотеку BeautifulSoup\n",
        "# Определяем значение URL страницы для запроса\n",
        "url = 'https://ru.wikipedia.org/wiki/Города-миллионеры_России'\n",
        "response = requests.get(url) # Выполняем GET-запрос, содержимое ответа присваивается переменной response\n",
        "soup = BeautifulSoup(response.text, 'html.parser') # Создаём объект BeautifulSoup, указывая html-парсер\n",
        "city_list =[]\n",
        "# цикл по строкам таблицы, где 'tr' - table row, 'td' - table data, [1] - 2я колонка\n",
        "for items in soup.find('table', class_='standard sortable').find_all('tr')[1::1]: \n",
        "    data = items.find_all(['td'])\n",
        "    try:\n",
        "        city = data[1].a.text\n",
        "    except IndexError: \n",
        "        pass\n",
        "    # print(city) # проверка работы цикла\n",
        "    city_list.append(city)\n",
        "city_tuple = tuple(city_list)\n",
        "# print(city_tuple) # проверка кортежа с городами - миллиониками"
      ]
    },
    {
      "cell_type": "code",
      "execution_count": 1453,
      "id": "5a0e32a4-e68a-4365-8a39-2fe24c542c36",
      "metadata": {
        "id": "5a0e32a4-e68a-4365-8a39-2fe24c542c36"
      },
      "outputs": [],
      "source": [
        "# текст запроса\n",
        "query_5_7 = f'''\n",
        "select\n",
        "    a.name,\n",
        "    count(v.id) cnt -- подсчет общего кол-ва вакансий\n",
        "from employers e\n",
        "    join vacancies v on e.id = v.employer_id \n",
        "    join areas a on a.id = v.area_id\n",
        "where e.name = 'Яндекс' and a.name in {city_tuple} -- фильтр по \"Яндекс\" и кортежу с городами\n",
        "group by a.name -- группировка по отфильтрованным городам\n",
        "\n",
        "union -- объединение таблицы со строкой Total\n",
        "\n",
        "select\n",
        "    'Total',\n",
        "    count(v.id) -- подсчет общего кол-ва вакансий\n",
        "from employers e\n",
        "    join vacancies v on e.id = v.employer_id\n",
        "    join areas a on a.id = v.area_id\n",
        "where e.name = 'Яндекс' and a.name in {city_tuple} -- фильтр по \"Яндекс\" и кортежу с городами\n",
        "order by cnt -- сортировка по cnt\n",
        "'''"
      ]
    },
    {
      "cell_type": "code",
      "execution_count": 1454,
      "id": "ttPhiO1rsvPq",
      "metadata": {
        "id": "ttPhiO1rsvPq"
      },
      "outputs": [
        {
          "name": "stdout",
          "output_type": "stream",
          "text": [
            "Кол-во строк в выборке: 17\n",
            "Результат в строке Total: 485\n"
          ]
        },
        {
          "data": {
            "text/html": [
              "<div>\n",
              "<style scoped>\n",
              "    .dataframe tbody tr th:only-of-type {\n",
              "        vertical-align: middle;\n",
              "    }\n",
              "\n",
              "    .dataframe tbody tr th {\n",
              "        vertical-align: top;\n",
              "    }\n",
              "\n",
              "    .dataframe thead th {\n",
              "        text-align: right;\n",
              "    }\n",
              "</style>\n",
              "<table border=\"1\" class=\"dataframe\">\n",
              "  <thead>\n",
              "    <tr style=\"text-align: right;\">\n",
              "      <th></th>\n",
              "      <th>name</th>\n",
              "      <th>cnt</th>\n",
              "    </tr>\n",
              "  </thead>\n",
              "  <tbody>\n",
              "    <tr>\n",
              "      <th>0</th>\n",
              "      <td>Омск</td>\n",
              "      <td>21</td>\n",
              "    </tr>\n",
              "    <tr>\n",
              "      <th>1</th>\n",
              "      <td>Челябинск</td>\n",
              "      <td>22</td>\n",
              "    </tr>\n",
              "    <tr>\n",
              "      <th>2</th>\n",
              "      <td>Красноярск</td>\n",
              "      <td>23</td>\n",
              "    </tr>\n",
              "    <tr>\n",
              "      <th>3</th>\n",
              "      <td>Волгоград</td>\n",
              "      <td>24</td>\n",
              "    </tr>\n",
              "    <tr>\n",
              "      <th>4</th>\n",
              "      <td>Пермь</td>\n",
              "      <td>25</td>\n",
              "    </tr>\n",
              "    <tr>\n",
              "      <th>5</th>\n",
              "      <td>Казань</td>\n",
              "      <td>25</td>\n",
              "    </tr>\n",
              "    <tr>\n",
              "      <th>6</th>\n",
              "      <td>Ростов-на-Дону</td>\n",
              "      <td>25</td>\n",
              "    </tr>\n",
              "    <tr>\n",
              "      <th>7</th>\n",
              "      <td>Уфа</td>\n",
              "      <td>26</td>\n",
              "    </tr>\n",
              "    <tr>\n",
              "      <th>8</th>\n",
              "      <td>Самара</td>\n",
              "      <td>26</td>\n",
              "    </tr>\n",
              "    <tr>\n",
              "      <th>9</th>\n",
              "      <td>Краснодар</td>\n",
              "      <td>30</td>\n",
              "    </tr>\n",
              "    <tr>\n",
              "      <th>10</th>\n",
              "      <td>Воронеж</td>\n",
              "      <td>32</td>\n",
              "    </tr>\n",
              "    <tr>\n",
              "      <th>11</th>\n",
              "      <td>Новосибирск</td>\n",
              "      <td>35</td>\n",
              "    </tr>\n",
              "    <tr>\n",
              "      <th>12</th>\n",
              "      <td>Нижний Новгород</td>\n",
              "      <td>36</td>\n",
              "    </tr>\n",
              "    <tr>\n",
              "      <th>13</th>\n",
              "      <td>Екатеринбург</td>\n",
              "      <td>39</td>\n",
              "    </tr>\n",
              "    <tr>\n",
              "      <th>14</th>\n",
              "      <td>Санкт-Петербург</td>\n",
              "      <td>42</td>\n",
              "    </tr>\n",
              "    <tr>\n",
              "      <th>15</th>\n",
              "      <td>Москва</td>\n",
              "      <td>54</td>\n",
              "    </tr>\n",
              "    <tr>\n",
              "      <th>16</th>\n",
              "      <td>Total</td>\n",
              "      <td>485</td>\n",
              "    </tr>\n",
              "  </tbody>\n",
              "</table>\n",
              "</div>"
            ],
            "text/plain": [
              "               name  cnt\n",
              "0              Омск   21\n",
              "1         Челябинск   22\n",
              "2        Красноярск   23\n",
              "3         Волгоград   24\n",
              "4             Пермь   25\n",
              "5            Казань   25\n",
              "6    Ростов-на-Дону   25\n",
              "7               Уфа   26\n",
              "8            Самара   26\n",
              "9         Краснодар   30\n",
              "10          Воронеж   32\n",
              "11      Новосибирск   35\n",
              "12  Нижний Новгород   36\n",
              "13     Екатеринбург   39\n",
              "14  Санкт-Петербург   42\n",
              "15           Москва   54\n",
              "16            Total  485"
            ]
          },
          "metadata": {},
          "output_type": "display_data"
        }
      ],
      "source": [
        "# результат запроса\n",
        "df_5_7 = pd.read_sql_query(query_5_7, connection)\n",
        "print(f\"Кол-во строк в выборке: {df_5_7.shape[0]}\\n\\\n",
        "Результат в строке Total: {df_5_7.iloc[-1,1]}\") # вывод ответа\n",
        "display(df_5_7) # вывод dataframe"
      ]
    },
    {
      "cell_type": "markdown",
      "id": "04966e40-3bc3-4dc8-9ba2-e80580ce3abc",
      "metadata": {
        "id": "04966e40-3bc3-4dc8-9ba2-e80580ce3abc"
      },
      "source": [
        "***"
      ]
    },
    {
      "cell_type": "markdown",
      "id": "698dd000",
      "metadata": {},
      "source": [
        "#### **<span style=color:red>Не забыть!!!**\n",
        "* тор 5 ключевых навыков\n",
        "* топ 5 названий вакансий по средней з/п\n",
        "* соотношение опыта и средней э/п"
      ]
    },
    {
      "cell_type": "code",
      "execution_count": 1455,
      "id": "aGGyER-yt4SR",
      "metadata": {
        "id": "aGGyER-yt4SR"
      },
      "outputs": [],
      "source": [
        "# выводы по анализу работодателей"
      ]
    },
    {
      "cell_type": "markdown",
      "id": "b1ef156a-efcb-49ce-bb23-90763e7f35b2",
      "metadata": {
        "id": "b1ef156a-efcb-49ce-bb23-90763e7f35b2",
        "tags": []
      },
      "source": [
        "# Юнит 6. Предметный анализ"
      ]
    },
    {
      "cell_type": "markdown",
      "id": "b9cd50a0-992d-4988-8463-2b2b1c4629b4",
      "metadata": {
        "id": "b9cd50a0-992d-4988-8463-2b2b1c4629b4"
      },
      "source": [
        "#### 1. Сколько вакансий имеет отношение к данным?\n",
        "\n",
        "Считаем, что вакансия имеет отношение к данным, если в её названии содержатся слова 'data' или 'данн'.\n",
        "\n",
        ">*Подсказка: Обратите внимание, что названия вакансий могут быть написаны в любом регистре.* \n"
      ]
    },
    {
      "cell_type": "code",
      "execution_count": 1456,
      "id": "54ab0e50-c0f1-47cc-a54b-bc5c8bc363f9",
      "metadata": {
        "id": "54ab0e50-c0f1-47cc-a54b-bc5c8bc363f9"
      },
      "outputs": [],
      "source": [
        "# текст запроса\n",
        "query_6_1 = f'''\n",
        "select\n",
        "    count(id) cnt -- подсчет кол-ва вакансий\n",
        "from vacancies\n",
        "where lower(name) like '%data%'\n",
        "    or lower(name) like '%данн%' /* перевод названий вакансий в нижний регистр и проверка на\n",
        "        вхождение элементов слов 'data' или 'данн' */\n",
        "'''"
      ]
    },
    {
      "cell_type": "code",
      "execution_count": 1457,
      "id": "9F1meAqsuUjd",
      "metadata": {
        "id": "9F1meAqsuUjd"
      },
      "outputs": [
        {
          "name": "stdout",
          "output_type": "stream",
          "text": [
            "1771 вакансий имеют отношение к данным\n"
          ]
        }
      ],
      "source": [
        "# результат запроса\n",
        "df_6_1 = pd.read_sql_query(query_6_1, connection)\n",
        "# display(df_6_1) # проверка dataframe\n",
        "print(f\"{df_6_1.iloc[0,0]} вакансий имеют отношение к данным\") # вывод ответа"
      ]
    },
    {
      "cell_type": "markdown",
      "id": "4dea20cb-a36b-474a-a0b9-e08e8e3857a5",
      "metadata": {
        "id": "4dea20cb-a36b-474a-a0b9-e08e8e3857a5"
      },
      "source": [
        "#### 2. Сколько есть подходящих вакансий для начинающего дата-сайентиста? \n",
        "Будем считать вакансиями для дата-сайентистов такие, в названии которых есть хотя бы одно из следующих сочетаний:\n",
        "* 'data scientist'\n",
        "* 'data science'\n",
        "* 'исследователь данных'\n",
        "* 'ML' (здесь не нужно брать вакансии по HTML)\n",
        "* 'machine learning'\n",
        "* 'машинн%обучен%'\n",
        "\n",
        "* В следующих заданиях мы продолжим работать с вакансиями по этому условию.\n",
        "\n",
        "Считаем вакансиями для специалистов уровня Junior следующие:\n",
        "* в названии есть слово 'junior' *или*\n",
        "* требуемый опыт — Нет опыта *или*\n",
        "* тип трудоустройства — Стажировка.\n",
        " "
      ]
    },
    {
      "cell_type": "code",
      "execution_count": 1505,
      "id": "9c61b3c0-bb66-46c9-ae1e-81d3f5752b4a",
      "metadata": {
        "id": "9c61b3c0-bb66-46c9-ae1e-81d3f5752b4a"
      },
      "outputs": [],
      "source": [
        "# сохраним текст запроса вакансий дата-сайентистов для сдедующих заданий\n",
        "ds_vacancies = f'''\n",
        "select *\n",
        "from vacancies \n",
        "where lower(name) like '%data scientist%'\n",
        "    or lower(name) like '%data science%'\n",
        "    or lower(name) like '%исследователь данных%'\n",
        "    or (name like '%ML%' and name not like '%HTML%')\n",
        "    or lower(name) like '%machine learning%'\n",
        "    or lower(name) like '%машинн%обучен%'\n",
        "'''"
      ]
    },
    {
      "cell_type": "code",
      "execution_count": 1507,
      "id": "ccff4dc3",
      "metadata": {},
      "outputs": [],
      "source": [
        "# текст запроса\n",
        "query_6_2 = f'''\n",
        "select\n",
        "    count(*) cnt -- подсчет кол-ва вакансий\n",
        "from -- используем код запроса для фильтра вакансий дата-сайентистов в качестве подзапроса\n",
        "    (select *\n",
        "    from vacancies \n",
        "    where lower(name) like '%data scientist%' -- критерии отбора вакансий дата-сайентистов\n",
        "        or lower(name) like '%data science%'\n",
        "        or lower(name) like '%исследователь данных%'\n",
        "        or (name like '%ML%' and name not like '%HTML%')\n",
        "        or lower(name) like '%machine learning%'\n",
        "        or lower(name) like '%машинн%обучен%') as ds_vacancies\n",
        "where lower(name) like '%junior%' -- дополнительные критерии отбора junior\n",
        "    or experience = 'Нет опыта'\n",
        "    or employment = 'Стажировка'\n",
        "'''"
      ]
    },
    {
      "cell_type": "code",
      "execution_count": 1508,
      "id": "ZNM-LLYuu1dj",
      "metadata": {
        "id": "ZNM-LLYuu1dj"
      },
      "outputs": [
        {
          "name": "stdout",
          "output_type": "stream",
          "text": [
            "51 подходящих вакансий для начинающего дата-сайентиста\n"
          ]
        }
      ],
      "source": [
        "# результат запроса\n",
        "df_6_2 = pd.read_sql_query(query_6_2, connection)\n",
        "# display(df_6_2) # проверка dataframe\n",
        "print(f\"{df_6_2.iloc[0,0]} подходящих вакансий для начинающего дата-сайентиста\") # вывод ответа"
      ]
    },
    {
      "cell_type": "markdown",
      "id": "eedceb80-c5ca-480e-b27a-278dfb8b4438",
      "metadata": {
        "id": "eedceb80-c5ca-480e-b27a-278dfb8b4438"
      },
      "source": [
        "#### 3. Сколько есть вакансий для DS, в которых в качестве ключевого навыка указан SQL или postgres?\n",
        "\n",
        ">*Критерии для отнесения вакансии к DS указаны в предыдущем задании.*"
      ]
    },
    {
      "cell_type": "code",
      "execution_count": 1516,
      "id": "69621713-0cc5-4f1b-a1d7-bb144fa6148c",
      "metadata": {
        "id": "69621713-0cc5-4f1b-a1d7-bb144fa6148c"
      },
      "outputs": [],
      "source": [
        "# текст запроса\n",
        "query_6_3 = f'''\n",
        "select\n",
        "    count(*) cnt -- подсчет кол-ва вакансий\n",
        "from -- используем код запроса для фильтра вакансий дата-сайентистов в качестве подзапроса\n",
        "    (select *\n",
        "    from vacancies \n",
        "    where lower(name) like '%data scientist%' -- критерии отбора вакансий дата-сайентистов\n",
        "        or lower(name) like '%data science%'\n",
        "        or lower(name) like '%исследователь данных%'\n",
        "        or (name like '%ML%' and name not like '%HTML%')\n",
        "        or lower(name) like '%machine learning%'\n",
        "        or lower(name) like '%машинн%обучен%') as ds_vacancies\n",
        "where lower(key_skills) like '%sql%' -- дополнительные критерии отбора SQL или postgres\n",
        "    or lower(key_skills) like '%postgres%'\n",
        "'''"
      ]
    },
    {
      "cell_type": "code",
      "execution_count": 1517,
      "id": "alA8WEAAvGdf",
      "metadata": {
        "id": "alA8WEAAvGdf"
      },
      "outputs": [
        {
          "name": "stdout",
          "output_type": "stream",
          "text": [
            "201 вакансий для DS, в которых в качестве ключевого навыка указан SQL или postgres\n"
          ]
        }
      ],
      "source": [
        "# результат запроса\n",
        "df_6_3 = pd.read_sql_query(query_6_3, connection)\n",
        "# display(df_6_3) # проверка dataframe\n",
        "print(f\"{df_6_3.iloc[0,0]} вакансий для DS, \\\n",
        "в которых в качестве ключевого навыка указан SQL или postgres\") # вывод ответа"
      ]
    },
    {
      "cell_type": "markdown",
      "id": "1be1e9c6-37cf-4a5f-bfeb-04cab799dc80",
      "metadata": {
        "id": "1be1e9c6-37cf-4a5f-bfeb-04cab799dc80"
      },
      "source": [
        "#### 4. Проверьте, насколько популярен Python в требованиях работодателей к DS.Для этого вычислите количество вакансий, в которых в качестве ключевого навыка указан Python.\n",
        "\n",
        ">*Это можно сделать помощью запроса, аналогичного предыдущему.*"
      ]
    },
    {
      "cell_type": "code",
      "execution_count": 1518,
      "id": "0036a355-9ccf-4564-8b01-73d8194297e7",
      "metadata": {
        "id": "0036a355-9ccf-4564-8b01-73d8194297e7"
      },
      "outputs": [],
      "source": [
        "# текст запроса\n",
        "query_6_4 = f'''\n",
        "select\n",
        "    count(*) cnt -- подсчет кол-ва вакансий\n",
        "from -- используем код запроса для фильтра вакансий дата-сайентистов в качестве подзапроса\n",
        "    (select *\n",
        "    from vacancies \n",
        "    where lower(name) like '%data scientist%' -- критерии отбора вакансий дата-сайентистов\n",
        "        or lower(name) like '%data science%'\n",
        "        or lower(name) like '%исследователь данных%'\n",
        "        or (name like '%ML%' and name not like '%HTML%')\n",
        "        or lower(name) like '%machine learning%'\n",
        "        or lower(name) like '%машинн%обучен%') as ds_vacancies\n",
        "where lower(key_skills) like '%python%' -- дополнительный критерий отбора Python\n",
        "'''"
      ]
    },
    {
      "cell_type": "code",
      "execution_count": 1519,
      "id": "1i-5WyucvQ6v",
      "metadata": {
        "id": "1i-5WyucvQ6v"
      },
      "outputs": [
        {
          "name": "stdout",
          "output_type": "stream",
          "text": [
            "Кол-во вакансий, в которых в качестве ключевого навыка указан Python: 351\n"
          ]
        }
      ],
      "source": [
        "# результат запроса\n",
        "df_6_4 = pd.read_sql_query(query_6_4, connection)\n",
        "# display(df_6_4) # проверка dataframe\n",
        "print(f\"Кол-во вакансий, в которых в качестве ключевого навыка указан \\\n",
        "Python: {df_6_4.iloc[0,0]}\") # вывод ответа"
      ]
    },
    {
      "cell_type": "markdown",
      "id": "ec3c8db7-fa21-4a41-a994-1af63742a642",
      "metadata": {
        "id": "ec3c8db7-fa21-4a41-a994-1af63742a642"
      },
      "source": [
        "#### 5. Сколько ключевых навыков в среднем указывают в вакансиях для DS?\n",
        "Ответ округлите до двух знаков после точки-разделителя."
      ]
    },
    {
      "cell_type": "code",
      "execution_count": 1537,
      "id": "949132bc-d5b6-4611-8218-0b9a504d74f4",
      "metadata": {
        "id": "949132bc-d5b6-4611-8218-0b9a504d74f4"
      },
      "outputs": [],
      "source": [
        "# текст запроса\n",
        "query_6_5 = f'''\n",
        "select\n",
        "    key_skills,\n",
        "    replace(key_skills, '\\t', ', ') -- ключевые навыки\n",
        "from -- используем код запроса для фильтра вакансий дата-сайентистов в качестве подзапроса\n",
        "    (select *\n",
        "    from vacancies \n",
        "    where lower(name) like '%data scientist%' -- критерии отбора вакансий дата-сайентистов\n",
        "        or lower(name) like '%data science%'\n",
        "        or lower(name) like '%исследователь данных%'\n",
        "        or (name like '%ML%' and name not like '%HTML%')\n",
        "        or lower(name) like '%machine learning%'\n",
        "        or lower(name) like '%машинн%обучен%') as ds_vacancies\n",
        "'''"
      ]
    },
    {
      "cell_type": "code",
      "execution_count": 1538,
      "id": "a3V24Tvmviqk",
      "metadata": {
        "id": "a3V24Tvmviqk"
      },
      "outputs": [
        {
          "data": {
            "text/html": [
              "<div>\n",
              "<style scoped>\n",
              "    .dataframe tbody tr th:only-of-type {\n",
              "        vertical-align: middle;\n",
              "    }\n",
              "\n",
              "    .dataframe tbody tr th {\n",
              "        vertical-align: top;\n",
              "    }\n",
              "\n",
              "    .dataframe thead th {\n",
              "        text-align: right;\n",
              "    }\n",
              "</style>\n",
              "<table border=\"1\" class=\"dataframe\">\n",
              "  <thead>\n",
              "    <tr style=\"text-align: right;\">\n",
              "      <th></th>\n",
              "      <th>key_skills</th>\n",
              "      <th>replace</th>\n",
              "    </tr>\n",
              "  </thead>\n",
              "  <tbody>\n",
              "    <tr>\n",
              "      <th>0</th>\n",
              "      <td>Python\\tSQL\\tРабота в команде\\tOpenCV\\tML</td>\n",
              "      <td>Python, SQL, Работа в команде, OpenCV, ML</td>\n",
              "    </tr>\n",
              "    <tr>\n",
              "      <th>1</th>\n",
              "      <td>Oracle Pl/SQL\\tБазы данных\\tMachine Learning\\t...</td>\n",
              "      <td>Oracle Pl/SQL, Базы данных, Machine Learning, ...</td>\n",
              "    </tr>\n",
              "    <tr>\n",
              "      <th>2</th>\n",
              "      <td>Python\\tOpenCV\\tTensorflow\\tComputer Vision\\tН...</td>\n",
              "      <td>Python, OpenCV, Tensorflow, Computer Vision, Н...</td>\n",
              "    </tr>\n",
              "    <tr>\n",
              "      <th>3</th>\n",
              "      <td>Python\\tFlask\\tLinux\\tAWS\\tGit</td>\n",
              "      <td>Python, Flask, Linux, AWS, Git</td>\n",
              "    </tr>\n",
              "    <tr>\n",
              "      <th>4</th>\n",
              "      <td>Python\\tSQL\\tNLP\\tScikit-learn\\tMachine Learning</td>\n",
              "      <td>Python, SQL, NLP, Scikit-learn, Machine Learning</td>\n",
              "    </tr>\n",
              "    <tr>\n",
              "      <th>...</th>\n",
              "      <td>...</td>\n",
              "      <td>...</td>\n",
              "    </tr>\n",
              "    <tr>\n",
              "      <th>475</th>\n",
              "      <td>Python\\tNumpy\\tPyTorch\\tPandas\\tМатематический...</td>\n",
              "      <td>Python, Numpy, PyTorch, Pandas, Математический...</td>\n",
              "    </tr>\n",
              "    <tr>\n",
              "      <th>476</th>\n",
              "      <td>Python\\tScikit-learn\\tPandas\\tGit\\tNumpy</td>\n",
              "      <td>Python, Scikit-learn, Pandas, Git, Numpy</td>\n",
              "    </tr>\n",
              "    <tr>\n",
              "      <th>477</th>\n",
              "      <td>Qt\\tООП\\tC++\\tMS Visual Studio\\tРазработка ком...</td>\n",
              "      <td>Qt, ООП, C++, MS Visual Studio, Разработка ком...</td>\n",
              "    </tr>\n",
              "    <tr>\n",
              "      <th>478</th>\n",
              "      <td>SCALA\\tSQL\\tМатематический анализ\\tСтатистичес...</td>\n",
              "      <td>SCALA, SQL, Математический анализ, Статистичес...</td>\n",
              "    </tr>\n",
              "    <tr>\n",
              "      <th>479</th>\n",
              "      <td>Python\\tLinux\\tKubernetes\\tAWS\\tGit\\tPeople Ma...</td>\n",
              "      <td>Python, Linux, Kubernetes, AWS, Git, People Ma...</td>\n",
              "    </tr>\n",
              "  </tbody>\n",
              "</table>\n",
              "<p>480 rows × 2 columns</p>\n",
              "</div>"
            ],
            "text/plain": [
              "                                            key_skills  \\\n",
              "0            Python\\tSQL\\tРабота в команде\\tOpenCV\\tML   \n",
              "1    Oracle Pl/SQL\\tБазы данных\\tMachine Learning\\t...   \n",
              "2    Python\\tOpenCV\\tTensorflow\\tComputer Vision\\tН...   \n",
              "3                       Python\\tFlask\\tLinux\\tAWS\\tGit   \n",
              "4     Python\\tSQL\\tNLP\\tScikit-learn\\tMachine Learning   \n",
              "..                                                 ...   \n",
              "475  Python\\tNumpy\\tPyTorch\\tPandas\\tМатематический...   \n",
              "476           Python\\tScikit-learn\\tPandas\\tGit\\tNumpy   \n",
              "477  Qt\\tООП\\tC++\\tMS Visual Studio\\tРазработка ком...   \n",
              "478  SCALA\\tSQL\\tМатематический анализ\\tСтатистичес...   \n",
              "479  Python\\tLinux\\tKubernetes\\tAWS\\tGit\\tPeople Ma...   \n",
              "\n",
              "                                               replace  \n",
              "0            Python, SQL, Работа в команде, OpenCV, ML  \n",
              "1    Oracle Pl/SQL, Базы данных, Machine Learning, ...  \n",
              "2    Python, OpenCV, Tensorflow, Computer Vision, Н...  \n",
              "3                       Python, Flask, Linux, AWS, Git  \n",
              "4     Python, SQL, NLP, Scikit-learn, Machine Learning  \n",
              "..                                                 ...  \n",
              "475  Python, Numpy, PyTorch, Pandas, Математический...  \n",
              "476           Python, Scikit-learn, Pandas, Git, Numpy  \n",
              "477  Qt, ООП, C++, MS Visual Studio, Разработка ком...  \n",
              "478  SCALA, SQL, Математический анализ, Статистичес...  \n",
              "479  Python, Linux, Kubernetes, AWS, Git, People Ma...  \n",
              "\n",
              "[480 rows x 2 columns]"
            ]
          },
          "metadata": {},
          "output_type": "display_data"
        }
      ],
      "source": [
        "# результат запроса\n",
        "df_6_5 = pd.read_sql_query(query_6_5, connection)\n",
        "display(df_6_5) # проверка dataframe\n",
        "# print(f\"Кол-во вакансий, в которых в качестве ключевого навыка указан \\\n",
        "# Python: {df_6_5.iloc[0,0]}\") # вывод ответа"
      ]
    },
    {
      "cell_type": "markdown",
      "id": "1041c17a-ca8f-4543-a0ca-32778914fb00",
      "metadata": {
        "id": "1041c17a-ca8f-4543-a0ca-32778914fb00"
      },
      "source": [
        "6. Напишите запрос, позволяющий вычислить, какую зарплату для DS в **среднем** указывают для каждого типа требуемого опыта (уникальное значение из поля *experience*). \n",
        "\n",
        "При решении задачи примите во внимание следующее:\n",
        "1. Рассматриваем только вакансии, у которых заполнено хотя бы одно из двух полей с зарплатой.\n",
        "2. Если заполнены оба поля с зарплатой, то считаем зарплату по каждой вакансии как сумму двух полей, делённую на 2. Если заполнено только одно из полей, то его и считаем зарплатой по вакансии.\n",
        "3. Если в расчётах участвует null, в результате он тоже даст null (посмотрите, что возвращает запрос select 1 + null). Чтобы избежать этой ситуацию, мы воспользуемся функцией [coalesce](https://postgrespro.ru/docs/postgresql/9.5/functions-conditional#functions-coalesce-nvl-ifnull), которая заменит null на значение, которое мы передадим. Например, посмотрите, что возвращает запрос `select 1 + coalesce(null, 0)`\n",
        "\n",
        "Выясните, на какую зарплату в среднем может рассчитывать дата-сайентист с опытом работы от 3 до 6 лет. Результат округлите до целого числа. "
      ]
    },
    {
      "cell_type": "code",
      "execution_count": null,
      "id": "6a743d39-5204-48d3-8271-b9f88e68d40e",
      "metadata": {
        "id": "6a743d39-5204-48d3-8271-b9f88e68d40e"
      },
      "outputs": [],
      "source": [
        "# текст запроса"
      ]
    },
    {
      "cell_type": "code",
      "execution_count": null,
      "id": "aRIJ0mZEwU1_",
      "metadata": {
        "id": "aRIJ0mZEwU1_"
      },
      "outputs": [],
      "source": [
        "# результат запроса"
      ]
    },
    {
      "cell_type": "markdown",
      "id": "6a7892b4-4113-4746-adce-18aa2844f18e",
      "metadata": {
        "id": "6a7892b4-4113-4746-adce-18aa2844f18e"
      },
      "source": [
        "***"
      ]
    },
    {
      "cell_type": "code",
      "execution_count": null,
      "id": "UjLWUptVwY1o",
      "metadata": {
        "id": "UjLWUptVwY1o"
      },
      "outputs": [],
      "source": [
        "# выводы по предметному анализу"
      ]
    },
    {
      "cell_type": "markdown",
      "id": "c0ED6fh7wiBT",
      "metadata": {
        "id": "c0ED6fh7wiBT"
      },
      "source": [
        "# Общий вывод по проекту"
      ]
    },
    {
      "cell_type": "code",
      "execution_count": null,
      "id": "h9B3BL-wwj18",
      "metadata": {
        "id": "h9B3BL-wwj18"
      },
      "outputs": [],
      "source": [
        "# подведем итог исследования, обобщите выводы\n",
        "# здесь можно (это будет плюсом) провести дополнительные исследования данных, сделать прогнозы, продумать варианты продолжения исследования"
      ]
    }
  ],
  "metadata": {
    "colab": {
      "collapsed_sections": [
        "8d62a9f3-f64e-4fe7-bdac-c4dffa16155e"
      ],
      "provenance": []
    },
    "kernelspec": {
      "display_name": "Python 3.10.6 64-bit",
      "language": "python",
      "name": "python3"
    },
    "language_info": {
      "codemirror_mode": {
        "name": "ipython",
        "version": 3
      },
      "file_extension": ".py",
      "mimetype": "text/x-python",
      "name": "python",
      "nbconvert_exporter": "python",
      "pygments_lexer": "ipython3",
      "version": "3.10.6"
    },
    "vscode": {
      "interpreter": {
        "hash": "aee8b7b246df8f9039afb4144a1f6fd8d2ca17a180786b69acc140d282b71a49"
      }
    }
  },
  "nbformat": 4,
  "nbformat_minor": 5
}
