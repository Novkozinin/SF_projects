{
 "cells": [
  {
   "cell_type": "markdown",
   "metadata": {},
   "source": [
    "## **1. Работа с базой данных из Python**\n",
    "\n",
    ">✍ Ранее в курсе мы познакомились с основами SQL (язык запросов к базам данных) и Python (язык программирования). Возможно, у вас возникал вопрос: можно ли объединить два этих механизма? Можно ли работать с базами данных и выполнять SQL-запросы средствами Python? И если можно, то как это сделать?\n",
    "\n",
    ">В курсе для удобства работы с данными мы использовали Metabase. Однако Metabase — это не сама база данных, а [BI-инструмент](https://proglib.io/p/chto-takoe-bi-sistemy-i-zachem-oni-nuzhny-2021-05-10), то есть удобный интерфейс для взаимодействия с данными, которые хранятся в БД, построения отчётов и графиков. Всё это время наши данные хранились под управлением СУБД [PostgreSQL](https://blog.skillfactory.ru/glossary/postgresql/), а обращались мы к ним через запросы в Metabase.\n",
    "\n",
    "В реальной деятельности дата-сайентисту требуется не только писать запрос к данным, но и затем обрабатывать его результаты с помощью Python. Для решения таких задач требуется некоторое средство, которое будет связывать Python и PostgreSQL так, чтобы мы могли с помощью Python отправлять запросы в Postgres и принимать оттуда результаты.\n",
    "\n",
    "Именно таким средством является пакет [psycopg2](https://www.psycopg.org/docs/), о котором мы сейчас и поговорим.\n",
    "\n",
    "### **УСТАНОВКА PSYCOPG2**\n",
    "\n",
    "Установить данный пакет на любой платформе можно одним способом — с помощью pip.\n",
    "\n",
    "Запустите в отдельной ячейке Jupyter Notebook следующий код:\n"
   ]
  },
  {
   "cell_type": "code",
   "execution_count": 5,
   "metadata": {},
   "outputs": [
    {
     "name": "stdout",
     "output_type": "stream",
     "text": [
      "Collecting psycopg2\n",
      "  Using cached psycopg2-2.9.5.tar.gz (384 kB)\n",
      "  Preparing metadata (setup.py) ... \u001b[?25lerror\n",
      "  \u001b[1;31merror\u001b[0m: \u001b[1msubprocess-exited-with-error\u001b[0m\n",
      "  \n",
      "  \u001b[31m×\u001b[0m \u001b[32mpython setup.py egg_info\u001b[0m did not run successfully.\n",
      "  \u001b[31m│\u001b[0m exit code: \u001b[1;36m1\u001b[0m\n",
      "  \u001b[31m╰─>\u001b[0m \u001b[31m[25 lines of output]\u001b[0m\n",
      "  \u001b[31m   \u001b[0m /Library/Frameworks/Python.framework/Versions/3.10/lib/python3.10/site-packages/setuptools/config/setupcfg.py:463: SetuptoolsDeprecationWarning: The license_file parameter is deprecated, use license_files instead.\n",
      "  \u001b[31m   \u001b[0m   warnings.warn(msg, warning_class)\n",
      "  \u001b[31m   \u001b[0m running egg_info\n",
      "  \u001b[31m   \u001b[0m creating /private/var/folders/6c/s0qxhsyd00x3nt57hw3r4w9c0000gp/T/pip-pip-egg-info-90u43cc6/psycopg2.egg-info\n",
      "  \u001b[31m   \u001b[0m writing /private/var/folders/6c/s0qxhsyd00x3nt57hw3r4w9c0000gp/T/pip-pip-egg-info-90u43cc6/psycopg2.egg-info/PKG-INFO\n",
      "  \u001b[31m   \u001b[0m writing dependency_links to /private/var/folders/6c/s0qxhsyd00x3nt57hw3r4w9c0000gp/T/pip-pip-egg-info-90u43cc6/psycopg2.egg-info/dependency_links.txt\n",
      "  \u001b[31m   \u001b[0m writing top-level names to /private/var/folders/6c/s0qxhsyd00x3nt57hw3r4w9c0000gp/T/pip-pip-egg-info-90u43cc6/psycopg2.egg-info/top_level.txt\n",
      "  \u001b[31m   \u001b[0m writing manifest file '/private/var/folders/6c/s0qxhsyd00x3nt57hw3r4w9c0000gp/T/pip-pip-egg-info-90u43cc6/psycopg2.egg-info/SOURCES.txt'\n",
      "  \u001b[31m   \u001b[0m \n",
      "  \u001b[31m   \u001b[0m Error: pg_config executable not found.\n",
      "  \u001b[31m   \u001b[0m \n",
      "  \u001b[31m   \u001b[0m pg_config is required to build psycopg2 from source.  Please add the directory\n",
      "  \u001b[31m   \u001b[0m containing pg_config to the $PATH or specify the full executable path with the\n",
      "  \u001b[31m   \u001b[0m option:\n",
      "  \u001b[31m   \u001b[0m \n",
      "  \u001b[31m   \u001b[0m     python setup.py build_ext --pg-config /path/to/pg_config build ...\n",
      "  \u001b[31m   \u001b[0m \n",
      "  \u001b[31m   \u001b[0m or with the pg_config option in 'setup.cfg'.\n",
      "  \u001b[31m   \u001b[0m \n",
      "  \u001b[31m   \u001b[0m If you prefer to avoid building psycopg2 from source, please install the PyPI\n",
      "  \u001b[31m   \u001b[0m 'psycopg2-binary' package instead.\n",
      "  \u001b[31m   \u001b[0m \n",
      "  \u001b[31m   \u001b[0m For further information please check the 'doc/src/install.rst' file (also at\n",
      "  \u001b[31m   \u001b[0m <https://www.psycopg.org/docs/install.html>).\n",
      "  \u001b[31m   \u001b[0m \n",
      "  \u001b[31m   \u001b[0m \u001b[31m[end of output]\u001b[0m\n",
      "  \n",
      "  \u001b[1;35mnote\u001b[0m: This error originates from a subprocess, and is likely not a problem with pip.\n",
      "\u001b[?25h\u001b[1;31merror\u001b[0m: \u001b[1mmetadata-generation-failed\u001b[0m\n",
      "\n",
      "\u001b[31m×\u001b[0m Encountered error while generating package metadata.\n",
      "\u001b[31m╰─>\u001b[0m See above for output.\n",
      "\n",
      "\u001b[1;35mnote\u001b[0m: This is an issue with the package mentioned above, not pip.\n",
      "\u001b[1;36mhint\u001b[0m: See above for details.\n",
      "Note: you may need to restart the kernel to use updated packages.\n"
     ]
    }
   ],
   "source": [
    "pip install psycopg2"
   ]
  },
  {
   "cell_type": "markdown",
   "metadata": {},
   "source": [
    "Если при установке возникает ошибка, похожая на “connection error: [SSL: CERTIFICATE_VERIFY_FAILED] certificate verify failed (_ssl.c:598)”, попробуйте установить пакет следующим образом:"
   ]
  },
  {
   "cell_type": "code",
   "execution_count": 3,
   "metadata": {},
   "outputs": [
    {
     "name": "stdout",
     "output_type": "stream",
     "text": [
      "Collecting psycopg2\n",
      "  Using cached psycopg2-2.9.5.tar.gz (384 kB)\n",
      "  Preparing metadata (setup.py) ... \u001b[?25lerror\n",
      "  \u001b[1;31merror\u001b[0m: \u001b[1msubprocess-exited-with-error\u001b[0m\n",
      "  \n",
      "  \u001b[31m×\u001b[0m \u001b[32mpython setup.py egg_info\u001b[0m did not run successfully.\n",
      "  \u001b[31m│\u001b[0m exit code: \u001b[1;36m1\u001b[0m\n",
      "  \u001b[31m╰─>\u001b[0m \u001b[31m[25 lines of output]\u001b[0m\n",
      "  \u001b[31m   \u001b[0m /Library/Frameworks/Python.framework/Versions/3.10/lib/python3.10/site-packages/setuptools/config/setupcfg.py:463: SetuptoolsDeprecationWarning: The license_file parameter is deprecated, use license_files instead.\n",
      "  \u001b[31m   \u001b[0m   warnings.warn(msg, warning_class)\n",
      "  \u001b[31m   \u001b[0m running egg_info\n",
      "  \u001b[31m   \u001b[0m creating /private/var/folders/6c/s0qxhsyd00x3nt57hw3r4w9c0000gp/T/pip-pip-egg-info-8fqcom1m/psycopg2.egg-info\n",
      "  \u001b[31m   \u001b[0m writing /private/var/folders/6c/s0qxhsyd00x3nt57hw3r4w9c0000gp/T/pip-pip-egg-info-8fqcom1m/psycopg2.egg-info/PKG-INFO\n",
      "  \u001b[31m   \u001b[0m writing dependency_links to /private/var/folders/6c/s0qxhsyd00x3nt57hw3r4w9c0000gp/T/pip-pip-egg-info-8fqcom1m/psycopg2.egg-info/dependency_links.txt\n",
      "  \u001b[31m   \u001b[0m writing top-level names to /private/var/folders/6c/s0qxhsyd00x3nt57hw3r4w9c0000gp/T/pip-pip-egg-info-8fqcom1m/psycopg2.egg-info/top_level.txt\n",
      "  \u001b[31m   \u001b[0m writing manifest file '/private/var/folders/6c/s0qxhsyd00x3nt57hw3r4w9c0000gp/T/pip-pip-egg-info-8fqcom1m/psycopg2.egg-info/SOURCES.txt'\n",
      "  \u001b[31m   \u001b[0m \n",
      "  \u001b[31m   \u001b[0m Error: pg_config executable not found.\n",
      "  \u001b[31m   \u001b[0m \n",
      "  \u001b[31m   \u001b[0m pg_config is required to build psycopg2 from source.  Please add the directory\n",
      "  \u001b[31m   \u001b[0m containing pg_config to the $PATH or specify the full executable path with the\n",
      "  \u001b[31m   \u001b[0m option:\n",
      "  \u001b[31m   \u001b[0m \n",
      "  \u001b[31m   \u001b[0m     python setup.py build_ext --pg-config /path/to/pg_config build ...\n",
      "  \u001b[31m   \u001b[0m \n",
      "  \u001b[31m   \u001b[0m or with the pg_config option in 'setup.cfg'.\n",
      "  \u001b[31m   \u001b[0m \n",
      "  \u001b[31m   \u001b[0m If you prefer to avoid building psycopg2 from source, please install the PyPI\n",
      "  \u001b[31m   \u001b[0m 'psycopg2-binary' package instead.\n",
      "  \u001b[31m   \u001b[0m \n",
      "  \u001b[31m   \u001b[0m For further information please check the 'doc/src/install.rst' file (also at\n",
      "  \u001b[31m   \u001b[0m <https://www.psycopg.org/docs/install.html>).\n",
      "  \u001b[31m   \u001b[0m \n",
      "  \u001b[31m   \u001b[0m \u001b[31m[end of output]\u001b[0m\n",
      "  \n",
      "  \u001b[1;35mnote\u001b[0m: This error originates from a subprocess, and is likely not a problem with pip.\n",
      "\u001b[?25h\u001b[1;31merror\u001b[0m: \u001b[1mmetadata-generation-failed\u001b[0m\n",
      "\n",
      "\u001b[31m×\u001b[0m Encountered error while generating package metadata.\n",
      "\u001b[31m╰─>\u001b[0m See above for output.\n",
      "\n",
      "\u001b[1;35mnote\u001b[0m: This is an issue with the package mentioned above, not pip.\n",
      "\u001b[1;36mhint\u001b[0m: See above for details.\n"
     ]
    }
   ],
   "source": [
    "!pip install --trusted-host pypi.org --trusted-host files.pythonhosted.org --trusted-host pypi.python.org psycopg2"
   ]
  },
  {
   "cell_type": "markdown",
   "metadata": {},
   "source": [
    "Если всё прошло успешно, вы увидите сообщение, подобное этому:\n",
    "\n",
    "Collecting psycopg2\n",
    "\n",
    "Downloading psycopg2-2.7.5\n",
    "\n",
    "Installing collected packages: psycopg2\n",
    "\n",
    "Successfully installed psycopg2-2.7.5\n",
    "Цифры могут отличаться, так как пакеты развиваются и номер их версии увеличивается.\n",
    "\n",
    "Теперь посмотрим, как можно подключиться к нашей базе и выполнять запросы из Jupyter-ноутбука.\n",
    "\n",
    "Для подключения нам потребуются следующие данные:\n",
    "\n",
    "dbname — название базы, к которой нужно подключиться;\n",
    "user — имя пользователя в СУБД;\n",
    "password — пароль;\n",
    "host — адрес, по которому нужно подключиться;\n",
    "port — порт, к которому нужно подключиться (по умолчанию равен 5432).\n",
    "Для нашей базы эти параметры такие:\n",
    "\n",
    "DBNAME = 'skillfactory'\n",
    "USER = 'skillfactory'\n",
    "PASSWORD = 'cCkxxLVrDE8EbvjueeMedPKt'\n",
    "HOST = '84.201.134.129'\n",
    "PORT = 5432\n",
    "\n",
    "Ноутбук из скринкаста.\n",
    "\n",
    "НАСТРОЙКИ\n",
    "\n",
    "Начинаем с импорта библиотек:\n",
    "\n",
    "import psycopg2\n",
    "import pandas as pd\n",
    "Создаём соединение с заданными параметрами:\n",
    "\n",
    "connection = psycopg2.connect(\n",
    "   dbname=DBNAME,\n",
    "   user=USER,\n",
    "   host=HOST,\n",
    "   password=PASSWORD,\n",
    "   port=PORT\n",
    ")\n",
    "Запрос:\n",
    "\n",
    "# код запроса представляет из себя строковую переменную\n",
    "n = 10\n",
    "query = f'''select *\n",
    "           from sql.pokemon\n",
    "           limit {n}\n",
    "        '''\n",
    "# лучше использовать f-строки — так удобнее передавать параметры\n",
    "ВЫПОЛНЕНИЕ ЗАПРОСА\n",
    "\n",
    "# используем метод read_sql_query, чтобы получить результаты запроса сразу в виде датафрейма\n",
    "df = pd.read_sql_query(query, connection)\n",
    "df\n",
    "ФИНАЛ\n",
    "\n",
    "# не забываем закрыть соединение после окончания работы\n",
    "connection.close()"
   ]
  }
 ],
 "metadata": {
  "kernelspec": {
   "display_name": "Python 3.10.6 64-bit",
   "language": "python",
   "name": "python3"
  },
  "language_info": {
   "codemirror_mode": {
    "name": "ipython",
    "version": 3
   },
   "file_extension": ".py",
   "mimetype": "text/x-python",
   "name": "python",
   "nbconvert_exporter": "python",
   "pygments_lexer": "ipython3",
   "version": "3.10.6"
  },
  "orig_nbformat": 4,
  "vscode": {
   "interpreter": {
    "hash": "aee8b7b246df8f9039afb4144a1f6fd8d2ca17a180786b69acc140d282b71a49"
   }
  }
 },
 "nbformat": 4,
 "nbformat_minor": 2
}
