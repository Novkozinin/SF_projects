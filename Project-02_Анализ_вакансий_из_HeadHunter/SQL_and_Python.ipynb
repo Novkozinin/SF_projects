{
 "cells": [
  {
   "cell_type": "markdown",
   "metadata": {},
   "source": [
    "## **1. Работа с базой данных из Python**\n",
    "\n",
    ">✍ Ранее в курсе мы познакомились с основами SQL (язык запросов к базам данных) и Python (язык программирования). Возможно, у вас возникал вопрос: можно ли объединить два этих механизма? Можно ли работать с базами данных и выполнять SQL-запросы средствами Python? И если можно, то как это сделать?\n",
    "\n",
    ">В курсе для удобства работы с данными мы использовали Metabase. Однако Metabase — это не сама база данных, а [BI-инструмент](https://proglib.io/p/chto-takoe-bi-sistemy-i-zachem-oni-nuzhny-2021-05-10), то есть удобный интерфейс для взаимодействия с данными, которые хранятся в БД, построения отчётов и графиков. Всё это время наши данные хранились под управлением СУБД [PostgreSQL](https://blog.skillfactory.ru/glossary/postgresql/), а обращались мы к ним через запросы в Metabase.\n",
    "\n",
    "В реальной деятельности дата-сайентисту требуется не только писать запрос к данным, но и затем обрабатывать его результаты с помощью Python. Для решения таких задач требуется некоторое средство, которое будет связывать Python и PostgreSQL так, чтобы мы могли с помощью Python отправлять запросы в Postgres и принимать оттуда результаты.\n",
    "\n",
    "Именно таким средством является пакет [psycopg2](https://www.psycopg.org/docs/), о котором мы сейчас и поговорим.\n",
    "\n",
    "### **УСТАНОВКА PSYCOPG2**\n",
    "\n",
    "Установить данный пакет на любой платформе можно одним способом — с помощью pip.\n",
    "\n",
    "Запустите в отдельной ячейке Jupyter Notebook следующий код:\n"
   ]
  },
  {
   "cell_type": "code",
   "execution_count": null,
   "metadata": {},
   "outputs": [],
   "source": [
    "! pip install psycopg2-binary"
   ]
  },
  {
   "cell_type": "markdown",
   "metadata": {},
   "source": [
    "Если при установке возникает ошибка, похожая на “connection error: [SSL: CERTIFICATE_VERIFY_FAILED] certificate verify failed (_ssl.c:598)”, попробуйте установить пакет следующим образом:\n",
    "```\n",
    "%pip install --trusted-host pypi.org --trusted-host files.pythonhosted.org --trusted-host pypi.python.org psycopg2\n",
    "```"
   ]
  },
  {
   "cell_type": "markdown",
   "metadata": {},
   "source": [
    "Если всё прошло успешно, вы увидите сообщение, подобное этому:\n",
    "```\n",
    "Collecting psycopg2\n",
    "\n",
    "Downloading psycopg2-2.7.5\n",
    "\n",
    "Installing collected packages: psycopg2\n",
    "\n",
    "Successfully installed psycopg2-2.7.5\n",
    "```\n",
    "Цифры могут отличаться, так как пакеты развиваются и номер их версии увеличивается.\n",
    "\n",
    "Теперь посмотрим, как можно подключиться к нашей базе и выполнять запросы из Jupyter-ноутбука.\n",
    "\n",
    "***\n",
    "Для подключения нам потребуются следующие данные:\n",
    "\n",
    "* dbname — название базы, к которой нужно подключиться;\n",
    "* user — имя пользователя в СУБД;\n",
    "* password — пароль;\n",
    "* host — адрес, по которому нужно подключиться;\n",
    "* port — порт, к которому нужно подключиться (по умолчанию равен 5432).\n",
    "***\n",
    "\n",
    "Для нашей базы эти параметры такие:\n",
    "```\n",
    "DBNAME = 'skillfactory'\n",
    "USER = 'skillfactory'\n",
    "PASSWORD = 'cCkxxLVrDE8EbvjueeMedPKt'\n",
    "HOST = '84.201.134.129'\n",
    "PORT = 5432\n",
    "```\n",
    "\n",
    "[Ноутбук]() из скринкаста.\n",
    "\n",
    "#### **НАСТРОЙКИ**\n",
    "\n",
    "Начинаем с импорта библиотек:\n",
    "\n",
    "import psycopg2\n",
    "import pandas as pd\n",
    "Создаём соединение с заданными параметрами:\n",
    "\n",
    "connection = psycopg2.connect(\n",
    "   dbname=DBNAME,\n",
    "   user=USER,\n",
    "   host=HOST,\n",
    "   password=PASSWORD,\n",
    "   port=PORT\n",
    ")\n",
    "Запрос:\n",
    "\n",
    "# код запроса представляет из себя строковую переменную\n",
    "n = 10\n",
    "query = f'''select *\n",
    "           from sql.pokemon\n",
    "           limit {n}\n",
    "        '''\n",
    "# лучше использовать f-строки — так удобнее передавать параметры\n",
    "ВЫПОЛНЕНИЕ ЗАПРОСА\n",
    "\n",
    "# используем метод read_sql_query, чтобы получить результаты запроса сразу в виде датафрейма\n",
    "df = pd.read_sql_query(query, connection)\n",
    "df\n",
    "ФИНАЛ\n",
    "\n",
    "# не забываем закрыть соединение после окончания работы\n",
    "connection.close()"
   ]
  }
 ],
 "metadata": {
  "kernelspec": {
   "display_name": "Python 3.10.6 64-bit",
   "language": "python",
   "name": "python3"
  },
  "language_info": {
   "codemirror_mode": {
    "name": "ipython",
    "version": 3
   },
   "file_extension": ".py",
   "mimetype": "text/x-python",
   "name": "python",
   "nbconvert_exporter": "python",
   "pygments_lexer": "ipython3",
   "version": "3.10.6"
  },
  "orig_nbformat": 4,
  "vscode": {
   "interpreter": {
    "hash": "aee8b7b246df8f9039afb4144a1f6fd8d2ca17a180786b69acc140d282b71a49"
   }
  }
 },
 "nbformat": 4,
 "nbformat_minor": 2
}
